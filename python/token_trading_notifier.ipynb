{
 "cells": [
  {
   "cell_type": "code",
   "execution_count": 391,
   "id": "8b99b978-c372-40b7-b821-5cc06690daf6",
   "metadata": {},
   "outputs": [],
   "source": [
    "import requests\n",
    "import json\n",
    "import pandas as pd\n",
    "import time\n",
    "import re\n",
    "import urllib\n",
    "import matplotlib\n",
    "import numpy as np\n",
    "pd.set_option('display.max_colwidth', None)"
   ]
  },
  {
   "cell_type": "code",
   "execution_count": 392,
   "id": "aa7e76f4-a010-4443-b211-12ee34dccfc8",
   "metadata": {},
   "outputs": [],
   "source": [
    "try:\n",
    "    log = pd.read_csv(\"./notifier_logging.csv\")\n",
    "except Exception as e:\n",
    "    print(f\"No file yet {e}\")\n",
    "    log = None"
   ]
  },
  {
   "cell_type": "markdown",
   "id": "9ec6d20f-1042-4ffd-b976-4ee962d98682",
   "metadata": {
    "jp-MarkdownHeadingCollapsed": true
   },
   "source": [
    "### Configuration"
   ]
  },
  {
   "cell_type": "code",
   "execution_count": 393,
   "id": "7b25ceae-25ac-46fe-8092-003b66fcc009",
   "metadata": {},
   "outputs": [
    {
     "data": {
      "text/plain": [
       "'\\npipenv run python token_trading_notifier.py --address \"terra1w579ysjvpx7xxhckxewk8sykxz70gm48wpcuruenl29rhe6p6raslhj0m6\" --token_name \"ASTRO\" --varReturnAsset \\'axlUSDC\\' --thresholdAmount 100 --notifier_id 1 --finder_tx \"https://chainsco.pe/terra2/tx/\" --finder_address \"https://chainsco.pe/terra2/address/\" --rule_name \\'Sell ASTRO\\'\\n'"
      ]
     },
     "execution_count": 393,
     "metadata": {},
     "output_type": "execute_result"
    }
   ],
   "source": [
    "\"\"\"\n",
    "pipenv run jupyter nbconvert --to python token_trading_notifier.ipynb\n",
    "\"\"\"\n",
    "\"\"\"\n",
    "pipenv run python token_trading_notifier.py \\\n",
    "--address \"terra1w579ysjvpx7xxhckxewk8sykxz70gm48wpcuruenl29rhe6p6raslhj0m6\" \\\n",
    "--token_name \"ASTRO\" \\\n",
    "--varReturnAsset 'axlUSDC' \\\n",
    "--thresholdAmount 1000 \\\n",
    "--notifier_id 1 \\\n",
    "--finder_tx \"https://chainsco.pe/terra2/tx/\" \\\n",
    "--finder_address \"https://chainsco.pe/terra2/address/\" \\\n",
    "--rule_name 'Sell ASTRO'\n",
    "\"\"\"\n",
    "\"\"\"\n",
    "pipenv run python token_trading_notifier.py \\\n",
    "--address \"terra1w579ysjvpx7xxhckxewk8sykxz70gm48wpcuruenl29rhe6p6raslhj0m6\" \\\n",
    "--token_name \"ASTRO\" \\\n",
    "--buying \\\n",
    "--varOfferAsset 'axlUSDC' \\\n",
    "--thresholdAmount 1000 \\\n",
    "--notifier_id 1 \\\n",
    "--finder_tx \"https://chainsco.pe/terra2/tx/\" \\\n",
    "--finder_address \"https://chainsco.pe/terra2/address/\" \\\n",
    "--rule_name 'Buy ASTRO'\n",
    "\"\"\"\n",
    "\"\"\"\n",
    "pipenv run python token_trading_notifier.py \\\n",
    "--address \"kujira14hj2tavq8fpesdwxxcu44rty3hh90vhujrvcmstl4zr3txmfvw9sl4e867\" \\\n",
    "--token_name \"KUJI\" \\\n",
    "--varReturnAsset 'axlUSDC' \\\n",
    "--thresholdAmount 1000 \\\n",
    "--notifier_id 3 \\\n",
    "--rule_name 'Sell KUJI' \\\n",
    "--finder_tx 'https://finder.kujira.network/kaiyo-1/tx/' \\\n",
    "--finder_address 'https://finder.kujira.network/kaiyo-1/address/'\n",
    "\"\"\"\n",
    "\"\"\"\n",
    "pipenv run python token_trading_notifier.py \\\n",
    "--address \"kujira14hj2tavq8fpesdwxxcu44rty3hh90vhujrvcmstl4zr3txmfvw9sl4e867\" \\\n",
    "--token_name \"KUJI\" \\\n",
    "--buying \\\n",
    "--varOfferAsset 'axlUSDC' \\\n",
    "--thresholdAmount 1000 \\\n",
    "--rule_name 'Buy KUJI' \\\n",
    "--finder_tx 'https://finder.kujira.network/kaiyo-1/tx/' \\\n",
    "--finder_address 'https://finder.kujira.network/kaiyo-1/address/' \\\n",
    "--notifier_id 4 \n",
    "\"\"\""
   ]
  },
  {
   "cell_type": "code",
   "execution_count": 395,
   "id": "ea3e0d41-cc10-406e-b923-0fb01881c1fe",
   "metadata": {},
   "outputs": [
    {
     "data": {
      "text/plain": [
       "'\\naddress = \"kujira14hj2tavq8fpesdwxxcu44rty3hh90vhujrvcmstl4zr3txmfvw9sl4e867\"\\ntoken_name = \"KUJI\"\\nbuying = False\\ncalculateUsdcValue = False\\nvarReturnAsset = \\'axlUSDC\\'\\nthresholdAmount = 100\\nnotifier_id = 3\\nrule_name = \\'Sell KUJI\\'\\nfinder_tx = \\'https://finder.kujira.network/kaiyo-1/tx/\\'\\nfinder_address = \\'https://finder.kujira.network/kaiyo-1/address/\\'\\n'"
      ]
     },
     "execution_count": 395,
     "metadata": {},
     "output_type": "execute_result"
    }
   ],
   "source": [
    "\"\"\"\n",
    "address = \"kujira14hj2tavq8fpesdwxxcu44rty3hh90vhujrvcmstl4zr3txmfvw9sl4e867\"\n",
    "token_name = \"KUJI\"\n",
    "buying = False\n",
    "calculateUsdcValue = False\n",
    "varReturnAsset = 'axlUSDC'\n",
    "thresholdAmount = 100\n",
    "notifier_id = 3\n",
    "rule_name = 'Sell KUJI'\n",
    "finder_tx = 'https://finder.kujira.network/kaiyo-1/tx/'\n",
    "finder_address = 'https://finder.kujira.network/kaiyo-1/address/'\n",
    "\"\"\""
   ]
  },
  {
   "cell_type": "code",
   "execution_count": 418,
   "id": "74fc3ead-8160-4fe4-b6a7-62b232cfcc2a",
   "metadata": {},
   "outputs": [],
   "source": [
    "\"\"\"\n",
    "address = \"terra1w579ysjvpx7xxhckxewk8sykxz70gm48wpcuruenl29rhe6p6raslhj0m6\"\n",
    "token_name = \"ASTRO\"\n",
    "buying = False\n",
    "calculateUsdcValue = False\n",
    "varReturnAsset = 'axlUSDC'\n",
    "thresholdAmount = 1\n",
    "notifier_id = 1\n",
    "finder_tx = \"https://chainsco.pe/terra2/tx/\"\n",
    "finder_address = \"https://chainsco.pe/terra2/address/\"\n",
    "rule_name = 'Sell ASTRO'\n",
    "\"\"\""
   ]
  },
  {
   "cell_type": "code",
   "execution_count": 419,
   "id": "197c6fb6-7ca1-411a-ae53-f2fdf8262106",
   "metadata": {},
   "outputs": [
    {
     "data": {
      "text/plain": [
       "'\\naddress = \"terra1w579ysjvpx7xxhckxewk8sykxz70gm48wpcuruenl29rhe6p6raslhj0m6\"\\ntoken_name = \"ASTRO\"\\nbuying = True\\nvarOfferAsset = \\'axlUSDC\\'\\ncalculateUsdcValue = False\\nthresholdAmount = 1\\nnotifier_id = 2\\nfinder_tx = \"https://chainsco.pe/terra2/tx/\"\\nfinder_address = \"https://chainsco.pe/terra2/address/\"\\nrule_name = \\'Buy ASTRO\\'\\n'"
      ]
     },
     "execution_count": 419,
     "metadata": {},
     "output_type": "execute_result"
    }
   ],
   "source": [
    "\"\"\"\n",
    "address = \"terra1w579ysjvpx7xxhckxewk8sykxz70gm48wpcuruenl29rhe6p6raslhj0m6\"\n",
    "token_name = \"ASTRO\"\n",
    "buying = True\n",
    "varOfferAsset = 'axlUSDC'\n",
    "calculateUsdcValue = False\n",
    "thresholdAmount = 1\n",
    "notifier_id = 2\n",
    "finder_tx = \"https://chainsco.pe/terra2/tx/\"\n",
    "finder_address = \"https://chainsco.pe/terra2/address/\"\n",
    "rule_name = 'Buy ASTRO'\n",
    "\"\"\""
   ]
  },
  {
   "cell_type": "code",
   "execution_count": 420,
   "id": "3d22d7fd-6276-40d9-a53a-f65a121efae1",
   "metadata": {},
   "outputs": [
    {
     "data": {
      "text/plain": [
       "'\\naddress = \"osmo1752ysawy2adr7td9an30a8pkk8ngrvcq3tan08lvnar3s7f82y5s4dt8fs\"\\ntoken_name = \"MARS\"\\nbuying = True\\nvarOfferAsset = \\'uosmo\\'\\ncalculateUsdcValue = True\\nthresholdAmount = 1\\nnotifier_id = 5\\nfinder_tx = \"https://chainsco.pe/osmosis/tx/\"\\nfinder_address = \"https://chainsco.pe/osmosis/address/\"\\n'"
      ]
     },
     "execution_count": 420,
     "metadata": {},
     "output_type": "execute_result"
    }
   ],
   "source": [
    "\"\"\"\n",
    "address = \"osmo1752ysawy2adr7td9an30a8pkk8ngrvcq3tan08lvnar3s7f82y5s4dt8fs\"\n",
    "token_name = \"MARS\"\n",
    "buying = True\n",
    "varOfferAsset = 'uosmo'\n",
    "calculateUsdcValue = True\n",
    "thresholdAmount = 1\n",
    "notifier_id = 5\n",
    "finder_tx = \"https://chainsco.pe/osmosis/tx/\"\n",
    "finder_address = \"https://chainsco.pe/osmosis/address/\"\n",
    "\"\"\""
   ]
  },
  {
   "cell_type": "markdown",
   "id": "2ba456fe-ef80-41ff-a9ac-d6fbb4695f45",
   "metadata": {},
   "source": [
    "### Code"
   ]
  },
  {
   "cell_type": "code",
   "execution_count": 394,
   "id": "e5e004bd-fd50-4cba-b4bd-0c8611de1b6c",
   "metadata": {},
   "outputs": [
    {
     "name": "stderr",
     "output_type": "stream",
     "text": [
      "usage: ipykernel_launcher.py [-h] [--address ADDRESS]\n",
      "                             [--token_name TOKEN_NAME] [--buying]\n",
      "                             [--varReturnAsset VARRETURNASSET]\n",
      "                             [--varOfferAsset VAROFFERASSET]\n",
      "                             [--finder_tx FINDER_TX]\n",
      "                             [--finder_address FINDER_ADDRESS]\n",
      "                             [--rule_name RULE_NAME]\n",
      "                             [--notifier_id NOTIFIER_ID]\n",
      "                             [--thresholdAmount THRESHOLDAMOUNT]\n",
      "                             [--calculateUsdcValue]\n",
      "ipykernel_launcher.py: error: unrecognized arguments: -f /root/.local/share/jupyter/runtime/kernel-abcf743f-0f8d-4e73-be79-6182ed8a636f.json\n"
     ]
    },
    {
     "ename": "SystemExit",
     "evalue": "2",
     "output_type": "error",
     "traceback": [
      "An exception has occurred, use %tb to see the full traceback.\n",
      "\u001b[0;31mSystemExit\u001b[0m\u001b[0;31m:\u001b[0m 2\n"
     ]
    },
    {
     "name": "stderr",
     "output_type": "stream",
     "text": [
      "/root/.local/share/virtualenvs/app-4PlAip0Q/lib/python3.9/site-packages/IPython/core/interactiveshell.py:3516: UserWarning: To exit: use 'exit', 'quit', or Ctrl-D.\n",
      "  warn(\"To exit: use 'exit', 'quit', or Ctrl-D.\", stacklevel=1)\n"
     ]
    }
   ],
   "source": [
    "import argparse\n",
    "\n",
    "# Create an argument parser\n",
    "parser = argparse.ArgumentParser()\n",
    "\n",
    "# Add named arguments\n",
    "parser.add_argument('--address', type=str, help='The address value')\n",
    "parser.add_argument('--token_name', type=str, help='The token name')\n",
    "parser.add_argument('--buying', action='store_true', help='Buying the token')\n",
    "parser.add_argument('--varReturnAsset', type=str, help='The name for return asset')\n",
    "parser.add_argument('--varOfferAsset', type=str, help='The name for offer asset')\n",
    "parser.add_argument('--finder_tx', type=str, help='The finder url for txs')\n",
    "parser.add_argument('--finder_address', type=str, help='The finder url for addresses')\n",
    "parser.add_argument('--rule_name', type=str, help='The rule name')\n",
    "parser.add_argument('--notifier_id', type=int, help='The notifier ID')\n",
    "parser.add_argument('--thresholdAmount', type=int, help='The threshold amount')\n",
    "parser.add_argument('--calculateUsdcValue', action='store_true', help='Calculate USDC value')\n",
    "\n",
    "# Parse the arguments\n",
    "args = parser.parse_args()\n",
    "\n",
    "# Assign the parsed argument values to variables\n",
    "address = args.address\n",
    "token_name = args.token_name\n",
    "buying = args.buying\n",
    "varReturnAsset = args.varReturnAsset\n",
    "varOfferAsset = args.varOfferAsset\n",
    "notifier_id = args.notifier_id\n",
    "calculateUsdcValue = args.calculateUsdcValue\n",
    "thresholdAmount = args.thresholdAmount\n",
    "rule_name = args.rule_name\n",
    "finder_address = args.finder_address\n",
    "finder_tx = args.finder_tx"
   ]
  },
  {
   "cell_type": "code",
   "execution_count": 421,
   "id": "005ecbf8-91c9-402a-82f0-b0c436353b45",
   "metadata": {},
   "outputs": [],
   "source": [
    "def get_txs_time_period(_from, _to):\n",
    "    _df = None\n",
    "    timestamp = urllib.parse.quote(_from.strftime(\"%Y-%m-%d+%H:%M:%S\"),safe='+')\n",
    "    while True:\n",
    "        url = f\"\"\"\n",
    "        https://api.seer.coinhall.org/api/coinhall/swaps/{address}?offset={timestamp}.010646870&limit=15\n",
    "        \"\"\"\n",
    "        print(url)\n",
    "        # Send a GET request to the API\n",
    "        response = requests.get(url)\n",
    "    \n",
    "        time.sleep(1)\n",
    "        print(f\"Number of txs received: {len(response.json()['txs'])}\")\n",
    "        \n",
    "        new_df = pd.DataFrame(response.json()['txs'])\n",
    "        if _df is None:\n",
    "            _df = new_df\n",
    "        else:\n",
    "            _df = pd.concat([_df, new_df])\n",
    "        _df.timestamp = pd.to_datetime(_df.timestamp)\n",
    "        min_ts = _df.timestamp.min()\n",
    "        timestamp = urllib.parse.quote(min_ts.strftime(\"%Y-%m-%d+%H:%M:%S\"),safe='+')\n",
    "\n",
    "        if(min_ts.to_pydatetime().replace(tzinfo=None).strftime(\"%Y-%m-%d %H:%M:%S\") < _to.strftime(\"%Y-%m-%d %H:%M:%S\")):\n",
    "            break\n",
    "    return _df"
   ]
  },
  {
   "cell_type": "code",
   "execution_count": 422,
   "id": "b96a9751-a344-4d86-8002-53577cecb34b",
   "metadata": {},
   "outputs": [],
   "source": [
    "from datetime import datetime, timedelta\n",
    "\n",
    "current_date = datetime.now()\n",
    "_log = pd.DataFrame([(notifier_id, (current_date - timedelta(hours=1)).strftime('%Y-%m-%d %H:%M:%S.%f'))], columns=['notifier_id','last_parsing_date'])\n",
    "if log is None:\n",
    "    log = _log\n",
    "if not notifier_id in log['notifier_id'].tolist():\n",
    "    log = pd.concat([log,_log])"
   ]
  },
  {
   "cell_type": "code",
   "execution_count": 423,
   "id": "8fb00b06-976c-4848-b853-5ee5fc450641",
   "metadata": {},
   "outputs": [],
   "source": [
    "last_parsing_date = log[log.notifier_id == notifier_id].last_parsing_date.tolist()[0]\n",
    "last_parsing_date = datetime.strptime(last_parsing_date, '%Y-%m-%d %H:%M:%S.%f')"
   ]
  },
  {
   "cell_type": "code",
   "execution_count": 424,
   "id": "d15e8618-1f4f-435f-80c7-fcefb7c14621",
   "metadata": {},
   "outputs": [
    {
     "name": "stdout",
     "output_type": "stream",
     "text": [
      "Filling the upper gap from 2023-07-17 18:51:11 to 2023-07-17 18:49:14\n",
      "\n",
      "        https://api.seer.coinhall.org/api/coinhall/swaps/terra1w579ysjvpx7xxhckxewk8sykxz70gm48wpcuruenl29rhe6p6raslhj0m6?offset=2023-07-17+18%3A51%3A11.010646870&limit=15\n",
      "        \n",
      "Number of txs received: 15\n"
     ]
    }
   ],
   "source": [
    "print(f\"Filling the upper gap from {current_date.strftime('%Y-%m-%d %H:%M:%S')} to {last_parsing_date.strftime('%Y-%m-%d %H:%M:%S')}\")\n",
    "df = get_txs_time_period(current_date, last_parsing_date)"
   ]
  },
  {
   "cell_type": "code",
   "execution_count": 425,
   "id": "482a94d2-560b-4068-bf3e-7a66ff935220",
   "metadata": {},
   "outputs": [],
   "source": [
    "from pytz import UTC\n",
    "df = df[df.timestamp > pd.Timestamp(last_parsing_date, tz=UTC)]"
   ]
  },
  {
   "cell_type": "code",
   "execution_count": 426,
   "id": "e087660e-cf86-4156-9f08-07d78606752a",
   "metadata": {},
   "outputs": [],
   "source": [
    "assets = {\n",
    "    'ibc/B3504E092456BA618CC28AC671A71FB08C6CA0FD0BE7C8A5B5A3E2DD933CC9E4':'axlUSDC',\n",
    "    'ibc/295548A78785A1007F232DE286149A6FF512F180AF5657780FC89C009E2C348F':'axlUSDC',\n",
    "    'terra1nsuqsk6kh58ulczatwev87ttq2z6r3pusulg9r24mfj2fvtzd4uq3exn26':'ASTRO',\n",
    "    'ibc/27394FB092D2ECCD56123C74F36E4C1F926001CEADA9CA97EA622B25F41E5EB2': 'ATOM',\n",
    "    'ibc/573FCD90FACEE750F55A8864EF7D38265F07E5A9273FA0E8DAFD39951332B580':'MARS'\n",
    "}"
   ]
  },
  {
   "cell_type": "code",
   "execution_count": 427,
   "id": "3ac04ad6-1113-47a3-893e-97a5328fd212",
   "metadata": {},
   "outputs": [],
   "source": [
    "df = df.drop_duplicates(ignore_index=True)\n",
    "df.returnAsset = df.returnAsset.replace(assets)\n",
    "df.offerAsset = df.offerAsset.replace(assets)"
   ]
  },
  {
   "cell_type": "code",
   "execution_count": 428,
   "id": "f969175b-920a-4d46-bc92-b67c68ec2507",
   "metadata": {},
   "outputs": [],
   "source": [
    "df['date'] = df.timestamp.apply(lambda x: x.strftime(\"%Y-%m-%d\"))"
   ]
  },
  {
   "cell_type": "code",
   "execution_count": 429,
   "id": "3325b022-ebc7-483c-87cb-7c0df49e6bda",
   "metadata": {},
   "outputs": [],
   "source": [
    "if(calculateUsdcValue):\n",
    "    print(\"Calculating USDC value...\")\n",
    "    if(buying):\n",
    "        print(\"Buying amount...\")\n",
    "        df['targetAmount'] = df['offerAmount'] * df['offerAssetUsdPrice']\n",
    "    else:\n",
    "        print(\"Selling amount...\")\n",
    "        df['targetAmount'] = df['returnAmount'] * df['returnAssetUsdPrice']\n",
    "else:\n",
    "    print(\"Not calculating USDC value...\")\n",
    "    if(buying):\n",
    "        print(\"Buying amount...\")\n",
    "        df['targetAmount'] = df.offerAmount\n",
    "    else :\n",
    "        print(\"Selling amount...\")\n",
    "        df['targetAmount'] = df.returnAmount"
   ]
  },
  {
   "cell_type": "code",
   "execution_count": 430,
   "id": "810c6ee3-8570-4deb-b2de-60a903b8ff6e",
   "metadata": {},
   "outputs": [],
   "source": [
    "if(buying):\n",
    "    txs_to_notify = df[(df.targetAmount > thresholdAmount) & (df.offerAsset == varOfferAsset)]\n",
    "else:\n",
    "    txs_to_notify = df[(df.targetAmount > thresholdAmount) & (df.returnAsset == varReturnAsset)]"
   ]
  },
  {
   "cell_type": "code",
   "execution_count": 431,
   "id": "39876ab6-027b-4f2a-a761-1dfd76eab10e",
   "metadata": {},
   "outputs": [],
   "source": [
    "def shortAddress(address):\n",
    "    return address[:7] + \"...\" + address[-6:]"
   ]
  },
  {
   "cell_type": "markdown",
   "id": "c223c0c7-f524-40b0-b70d-c89fe254fb5e",
   "metadata": {
    "jp-MarkdownHeadingCollapsed": true
   },
   "source": [
    "### Create Telegram Messages"
   ]
  },
  {
   "cell_type": "code",
   "execution_count": 432,
   "id": "001d88bc-6f78-4d50-b6ce-e6724f0ef2d9",
   "metadata": {},
   "outputs": [],
   "source": [
    "messages = []\n",
    "swap_msg = ''\n",
    "for i, row in txs_to_notify.iterrows():\n",
    "    if(calculateUsdcValue):\n",
    "        if(buying):\n",
    "            swap_msg = f\"\"\"Swapped {round(row.targetAmount, 2)} $USDC for ${token_name}\"\"\"\n",
    "        else:\n",
    "            swap_msg = f\"\"\"Swapped ${token_name} for $USDC for {round(row.targetAmount, 2)} $USDC\"\"\"\n",
    "    if(not calculateUsdcValue):\n",
    "        if(buying):\n",
    "            swap_msg = f\"\"\"Swapped {round(row.targetAmount, 2)} ${row.offerAsset} for ${token_name}\"\"\"\n",
    "        else:\n",
    "            swap_msg = f\"\"\"Swapped ${token_name} for {round(row.targetAmount, 2)} ${varReturnAsset}\"\"\"\n",
    "    messages.append(f\"\"\"\n",
    "*{rule_name}*\n",
    "\n",
    "{swap_msg}\n",
    "Trader: [{shortAddress(row.traderAddress)}]({finder_address}{row.traderAddress})\n",
    "Tx: [{shortAddress(row.txHash)}]({finder_tx}{row.txHash})\n",
    "\"\"\".replace(\".\",\"\\.\"))"
   ]
  },
  {
   "cell_type": "markdown",
   "id": "aac9298a-e677-4e6b-a2ac-ada9b5e46053",
   "metadata": {
    "jp-MarkdownHeadingCollapsed": true
   },
   "source": [
    "### Send Messages"
   ]
  },
  {
   "cell_type": "code",
   "execution_count": 438,
   "id": "dd7b5294-fa42-4e30-90fe-f3b389b2c9d6",
   "metadata": {},
   "outputs": [],
   "source": [
    "import os\n",
    "bot_token = os.getenv('BOT_TOKEN')"
   ]
  },
  {
   "cell_type": "code",
   "execution_count": 434,
   "id": "76b14bc7-e877-4e64-8580-e5900408d31f",
   "metadata": {},
   "outputs": [],
   "source": [
    "import telegram\n",
    "from telegram.constants import ParseMode\n",
    "bot = telegram.Bot(token=bot_token)"
   ]
  },
  {
   "cell_type": "code",
   "execution_count": 435,
   "id": "6406e065-8fdc-41b0-b8cb-c1efa7f83ff3",
   "metadata": {},
   "outputs": [
    {
     "data": {
      "text/plain": [
       "['\\n*Sell ASTRO*\\n\\nSwapped $ASTRO for 3\\\\.92 $axlUSDC\\nTrader: [terra1d\\\\.\\\\.\\\\.n5kuhn](https://chainsco\\\\.pe/terra2/address/terra1djkwwpgevx42h8j7zwtgtvy2zcd2z345n5kuhn)\\nTx: [44285D6\\\\.\\\\.\\\\.CCF368](https://chainsco\\\\.pe/terra2/tx/44285D676572D2079E57565FC8A27344157E852B499DBB9998602323AFCCF368)\\n',\n",
       " '\\n*Sell ASTRO*\\n\\nSwapped $ASTRO for 15\\\\.16 $axlUSDC\\nTrader: [terra1d\\\\.\\\\.\\\\.n5kuhn](https://chainsco\\\\.pe/terra2/address/terra1djkwwpgevx42h8j7zwtgtvy2zcd2z345n5kuhn)\\nTx: [7F8A8E1\\\\.\\\\.\\\\.B30079](https://chainsco\\\\.pe/terra2/tx/7F8A8E1A427AF224B0AD49F809E61F9AE86AFE838B371BD12813C49FDBB30079)\\n',\n",
       " '\\n*Sell ASTRO*\\n\\nSwapped $ASTRO for 7\\\\.38 $axlUSDC\\nTrader: [terra1d\\\\.\\\\.\\\\.n5kuhn](https://chainsco\\\\.pe/terra2/address/terra1djkwwpgevx42h8j7zwtgtvy2zcd2z345n5kuhn)\\nTx: [602A1C9\\\\.\\\\.\\\\.6DF677](https://chainsco\\\\.pe/terra2/tx/602A1C911E9D53ACF7A35A5A84021E26C420F1645A3ABF512097AC0C886DF677)\\n']"
      ]
     },
     "execution_count": 435,
     "metadata": {},
     "output_type": "execute_result"
    }
   ],
   "source": [
    "print(messages)"
   ]
  },
  {
   "cell_type": "code",
   "execution_count": 390,
   "id": "8a98cd59-7507-40c0-9b3d-dfb616cc22b6",
   "metadata": {},
   "outputs": [
    {
     "name": "stderr",
     "output_type": "stream",
     "text": [
      "/root/.local/share/virtualenvs/app-4PlAip0Q/lib/python3.9/site-packages/pygments/regexopt.py:77: RuntimeWarning: coroutine 'main' was never awaited\n",
      "  '|'.join(regex_opt_inner(list(group[1]), '')\n",
      "RuntimeWarning: Enable tracemalloc to get the object allocation traceback\n"
     ]
    },
    {
     "ename": "RuntimeError",
     "evalue": "This event loop is already running",
     "output_type": "error",
     "traceback": [
      "\u001b[0;31m---------------------------------------------------------------------------\u001b[0m",
      "\u001b[0;31mRuntimeError\u001b[0m                              Traceback (most recent call last)",
      "Cell \u001b[0;32mIn[390], line 13\u001b[0m\n\u001b[1;32m     11\u001b[0m \u001b[38;5;66;03m# Create an event loop and run the main coroutine function\u001b[39;00m\n\u001b[1;32m     12\u001b[0m loop \u001b[38;5;241m=\u001b[39m asyncio\u001b[38;5;241m.\u001b[39mget_event_loop()\n\u001b[0;32m---> 13\u001b[0m \u001b[43mloop\u001b[49m\u001b[38;5;241;43m.\u001b[39;49m\u001b[43mrun_until_complete\u001b[49m\u001b[43m(\u001b[49m\u001b[43mmain\u001b[49m\u001b[43m(\u001b[49m\u001b[43m)\u001b[49m\u001b[43m)\u001b[49m\n",
      "File \u001b[0;32m/usr/local/lib/python3.9/asyncio/base_events.py:623\u001b[0m, in \u001b[0;36mBaseEventLoop.run_until_complete\u001b[0;34m(self, future)\u001b[0m\n\u001b[1;32m    612\u001b[0m \u001b[38;5;250m\u001b[39m\u001b[38;5;124;03m\"\"\"Run until the Future is done.\u001b[39;00m\n\u001b[1;32m    613\u001b[0m \n\u001b[1;32m    614\u001b[0m \u001b[38;5;124;03mIf the argument is a coroutine, it is wrapped in a Task.\u001b[39;00m\n\u001b[0;32m   (...)\u001b[0m\n\u001b[1;32m    620\u001b[0m \u001b[38;5;124;03mReturn the Future's result, or raise its exception.\u001b[39;00m\n\u001b[1;32m    621\u001b[0m \u001b[38;5;124;03m\"\"\"\u001b[39;00m\n\u001b[1;32m    622\u001b[0m \u001b[38;5;28mself\u001b[39m\u001b[38;5;241m.\u001b[39m_check_closed()\n\u001b[0;32m--> 623\u001b[0m \u001b[38;5;28;43mself\u001b[39;49m\u001b[38;5;241;43m.\u001b[39;49m\u001b[43m_check_running\u001b[49m\u001b[43m(\u001b[49m\u001b[43m)\u001b[49m\n\u001b[1;32m    625\u001b[0m new_task \u001b[38;5;241m=\u001b[39m \u001b[38;5;129;01mnot\u001b[39;00m futures\u001b[38;5;241m.\u001b[39misfuture(future)\n\u001b[1;32m    626\u001b[0m future \u001b[38;5;241m=\u001b[39m tasks\u001b[38;5;241m.\u001b[39mensure_future(future, loop\u001b[38;5;241m=\u001b[39m\u001b[38;5;28mself\u001b[39m)\n",
      "File \u001b[0;32m/usr/local/lib/python3.9/asyncio/base_events.py:583\u001b[0m, in \u001b[0;36mBaseEventLoop._check_running\u001b[0;34m(self)\u001b[0m\n\u001b[1;32m    581\u001b[0m \u001b[38;5;28;01mdef\u001b[39;00m \u001b[38;5;21m_check_running\u001b[39m(\u001b[38;5;28mself\u001b[39m):\n\u001b[1;32m    582\u001b[0m     \u001b[38;5;28;01mif\u001b[39;00m \u001b[38;5;28mself\u001b[39m\u001b[38;5;241m.\u001b[39mis_running():\n\u001b[0;32m--> 583\u001b[0m         \u001b[38;5;28;01mraise\u001b[39;00m \u001b[38;5;167;01mRuntimeError\u001b[39;00m(\u001b[38;5;124m'\u001b[39m\u001b[38;5;124mThis event loop is already running\u001b[39m\u001b[38;5;124m'\u001b[39m)\n\u001b[1;32m    584\u001b[0m     \u001b[38;5;28;01mif\u001b[39;00m events\u001b[38;5;241m.\u001b[39m_get_running_loop() \u001b[38;5;129;01mis\u001b[39;00m \u001b[38;5;129;01mnot\u001b[39;00m \u001b[38;5;28;01mNone\u001b[39;00m:\n\u001b[1;32m    585\u001b[0m         \u001b[38;5;28;01mraise\u001b[39;00m \u001b[38;5;167;01mRuntimeError\u001b[39;00m(\n\u001b[1;32m    586\u001b[0m             \u001b[38;5;124m'\u001b[39m\u001b[38;5;124mCannot run the event loop while another loop is running\u001b[39m\u001b[38;5;124m'\u001b[39m)\n",
      "\u001b[0;31mRuntimeError\u001b[0m: This event loop is already running"
     ]
    }
   ],
   "source": [
    "#import asyncio\n",
    "\n",
    "#async def main():\n",
    "try:\n",
    "    await bot.initialize()\n",
    "    for message in messages:\n",
    "        await bot.send_message(92383009, message, parse_mode=ParseMode.MARKDOWN_V2)\n",
    "finally:\n",
    "    await bot.shutdown()\n",
    "\n",
    "# Create an event loop and run the main coroutine function\n",
    "#loop = asyncio.get_event_loop()\n",
    "#loop.run_until_complete(main())"
   ]
  },
  {
   "cell_type": "markdown",
   "id": "8fae6bd3-13ba-4850-b7af-a57718dd725e",
   "metadata": {
    "jp-MarkdownHeadingCollapsed": true
   },
   "source": [
    "### Update logging file"
   ]
  },
  {
   "cell_type": "code",
   "execution_count": 247,
   "id": "ceb722fd-0f31-4eed-8a8f-93d79d6322b2",
   "metadata": {},
   "outputs": [],
   "source": [
    "_last_parsing_date = df.timestamp.max().to_pydatetime().replace(tzinfo=None)\n",
    "last_parsing_date = _last_parsing_date if len(df) > 0 else current_date"
   ]
  },
  {
   "cell_type": "code",
   "execution_count": 112,
   "id": "7fe3dbce-8742-4b01-8ac8-10b709211902",
   "metadata": {},
   "outputs": [],
   "source": [
    "log.loc[log.notifier_id == notifier_id, 'last_parsing_date'] = last_parsing_date"
   ]
  },
  {
   "cell_type": "code",
   "execution_count": 324,
   "id": "485d75ca-62d8-4e94-beda-f6507715ece4",
   "metadata": {},
   "outputs": [
    {
     "data": {
      "text/html": [
       "<div>\n",
       "<style scoped>\n",
       "    .dataframe tbody tr th:only-of-type {\n",
       "        vertical-align: middle;\n",
       "    }\n",
       "\n",
       "    .dataframe tbody tr th {\n",
       "        vertical-align: top;\n",
       "    }\n",
       "\n",
       "    .dataframe thead th {\n",
       "        text-align: right;\n",
       "    }\n",
       "</style>\n",
       "<table border=\"1\" class=\"dataframe\">\n",
       "  <thead>\n",
       "    <tr style=\"text-align: right;\">\n",
       "      <th></th>\n",
       "      <th>notifier_id</th>\n",
       "      <th>last_parsing_date</th>\n",
       "    </tr>\n",
       "  </thead>\n",
       "  <tbody>\n",
       "    <tr>\n",
       "      <th>0</th>\n",
       "      <td>2</td>\n",
       "      <td>2023-07-16 19:17:42.591000</td>\n",
       "    </tr>\n",
       "    <tr>\n",
       "      <th>1</th>\n",
       "      <td>1</td>\n",
       "      <td>2023-07-16 19:17:42.591000</td>\n",
       "    </tr>\n",
       "    <tr>\n",
       "      <th>0</th>\n",
       "      <td>3</td>\n",
       "      <td>2023-07-16 20:01:31.619000</td>\n",
       "    </tr>\n",
       "  </tbody>\n",
       "</table>\n",
       "</div>"
      ],
      "text/plain": [
       "   notifier_id           last_parsing_date\n",
       "0            2  2023-07-16 19:17:42.591000\n",
       "1            1  2023-07-16 19:17:42.591000\n",
       "0            3  2023-07-16 20:01:31.619000"
      ]
     },
     "execution_count": 324,
     "metadata": {},
     "output_type": "execute_result"
    }
   ],
   "source": [
    "log"
   ]
  },
  {
   "cell_type": "code",
   "execution_count": 325,
   "id": "2b798954-be97-46af-a5dd-f8474adee58d",
   "metadata": {},
   "outputs": [],
   "source": [
    "log.to_csv(f\"./notifier_logging.csv\", index=False)"
   ]
  }
 ],
 "metadata": {
  "kernelspec": {
   "display_name": "Python 3 (ipykernel)",
   "language": "python",
   "name": "python3"
  },
  "language_info": {
   "codemirror_mode": {
    "name": "ipython",
    "version": 3
   },
   "file_extension": ".py",
   "mimetype": "text/x-python",
   "name": "python",
   "nbconvert_exporter": "python",
   "pygments_lexer": "ipython3",
   "version": "3.9.17"
  }
 },
 "nbformat": 4,
 "nbformat_minor": 5
}
