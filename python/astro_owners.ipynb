{
 "cells": [
  {
   "cell_type": "code",
   "execution_count": null,
   "id": "8b99b978-c372-40b7-b821-5cc06690daf6",
   "metadata": {},
   "outputs": [],
   "source": [
    "import requests\n",
    "import json\n",
    "import pandas as pd\n",
    "import time\n",
    "import re\n",
    "import urllib\n",
    "import matplotlib\n",
    "import numpy as np\n",
    "import requests\n",
    "import json\n",
    "pd.set_option('display.max_colwidth', None)"
   ]
  },
  {
   "cell_type": "code",
   "execution_count": null,
   "id": "197c6fb6-7ca1-411a-ae53-f2fdf8262106",
   "metadata": {},
   "outputs": [],
   "source": [
    "astro_token_addr = \"terra1nsuqsk6kh58ulczatwev87ttq2z6r3pusulg9r24mfj2fvtzd4uq3exn26\"\n",
    "xastro_token_addr = \"terra1x62mjnme4y0rdnag3r8rfgjuutsqlkkyuh4ndgex0wl3wue25uksau39q8\""
   ]
  },
  {
   "cell_type": "code",
   "execution_count": null,
   "id": "f951a75e-81d3-4be8-81d9-11ef0730e2ca",
   "metadata": {},
   "outputs": [],
   "source": [
    "import requests\n",
    "import base64\n",
    "import time\n",
    "\n",
    "def get_addresses(token_address):\n",
    "    # URL to call\n",
    "    url = f\"https://phoenix-lcd.terra.dev/cosmwasm/wasm/v1/contract/{token_address}/smart\"\n",
    "    last_address = None\n",
    "    # Base64 encode the message\n",
    "    init_message = '{\"all_accounts\":{\"limit\":30}}'\n",
    "    addresses = []\n",
    "    while True:\n",
    "        time.sleep(1)\n",
    "        cont_message = '{{\"all_accounts\":{{\"limit\":30,\"start_after\":\"{}\"}}}}'.format(last_address)\n",
    "        if(last_address):\n",
    "            encoded_message = base64.b64encode(cont_message.encode()).decode()\n",
    "        else:\n",
    "            encoded_message = base64.b64encode(message.encode()).decode()\n",
    "        \n",
    "        # Construct the headers with the base64 encoded message\n",
    "        headers = {\n",
    "            \"Content-Type\": \"application/json\"\n",
    "        }\n",
    "        \n",
    "        url_ = f\"{url}/{encoded_message}\"\n",
    "        #print(url_)\n",
    "        # Make the GET request to the URL with the encoded message in the headers\n",
    "        response = requests.get(url_, headers=headers)\n",
    "        \n",
    "        # Check the response\n",
    "        if response.status_code == 200:\n",
    "            try:\n",
    "                data = response.json()\n",
    "                json.dumps(data, indent=2)\n",
    "                if(len(data['data']['accounts']) == 0):\n",
    "                    break\n",
    "                addresses = list(set(addresses + data['data']['accounts']))\n",
    "                print(len(addresses))\n",
    "                last_address = data['data']['accounts'][-1]\n",
    "            except:\n",
    "                break\n",
    "        else:\n",
    "            print(\"Request failed. Status code:\", response.status_code)\n",
    "            print(\"Response text:\", response.text)\n",
    "    return addresses"
   ]
  },
  {
   "cell_type": "markdown",
   "id": "ca7c5148-d492-40a4-be9e-8cea3c26301c",
   "metadata": {},
   "source": [
    "astro_addr = get_addresses(astro_token_addr)"
   ]
  },
  {
   "cell_type": "markdown",
   "id": "77c48da7-3c48-48e6-bc83-091ea932a500",
   "metadata": {},
   "source": [
    "xastro_addr = get_addresses(xastro_token_addr)"
   ]
  },
  {
   "cell_type": "markdown",
   "id": "6b3d7320-13cc-48d8-bba0-af796bd13213",
   "metadata": {},
   "source": [
    "xastro_addr_df = pd.DataFrame(xastro_addr, columns=['address'])\n",
    "xastro_addr_df.to_csv(\"./data/astro/xastro_addresses.csv\", index=False)\n",
    "astro_addr_df = pd.DataFrame(astro_addr, columns=['address'])\n",
    "astro_addr_df.to_csv(\"./data/astro/astro_addresses.csv\", index=False)"
   ]
  },
  {
   "cell_type": "code",
   "execution_count": 65,
   "id": "7bb338b8-c9b9-478a-9ab5-e6af0f5f4d05",
   "metadata": {},
   "outputs": [],
   "source": [
    "import requests\n",
    "import json\n",
    "\n",
    "def get_balances(address):\n",
    "    url = \"https://starscream-terra-mainnet.chainscope.dev/\"\n",
    "    headers = {\n",
    "        \"Content-Type\": \"application/json\"\n",
    "    }\n",
    "    \n",
    "    body = {\n",
    "        \"query\": \"\"\"\n",
    "        query Query($address: String!, $tokenContracts: [String!]!) {\n",
    "            tokenBalances(address: $address, tokenContracts: $tokenContracts)\n",
    "        }\n",
    "        \"\"\",\n",
    "        \"variables\": {\n",
    "            \"address\": f\"{address}\",\n",
    "            \"tokenContracts\": [\n",
    "                \"terra1x62mjnme4y0rdnag3r8rfgjuutsqlkkyuh4ndgex0wl3wue25uksau39q8\",\n",
    "                \"terra1nsuqsk6kh58ulczatwev87ttq2z6r3pusulg9r24mfj2fvtzd4uq3exn26\"\n",
    "            ]\n",
    "        },\n",
    "        \"operationName\": \"Query\"\n",
    "    }\n",
    "    \n",
    "    response = requests.post(url, headers=headers, data=json.dumps(body))\n",
    "    \n",
    "    if response.status_code == 200:\n",
    "        result = response.json()\n",
    "        return result\n",
    "    else:\n",
    "        print(\"Request failed with status code:\", response.status_code)"
   ]
  },
  {
   "cell_type": "code",
   "execution_count": null,
   "id": "079d32af-ce94-4221-9ceb-598768719c60",
   "metadata": {},
   "outputs": [
    {
     "name": "stdout",
     "output_type": "stream",
     "text": [
      "100\n",
      "200\n"
     ]
    }
   ],
   "source": [
    "balances = {}\n",
    "i = 0\n",
    "for address in pd.concat([xastro_addr_df, astro_addr_df]).address.unique():\n",
    "    i += 1\n",
    "    balances[address] = get_balances(address)['data']['tokenBalances']\n",
    "    time.sleep(0.1)\n",
    "    if(i % 100 == 0):\n",
    "        print(i)"
   ]
  },
  {
   "cell_type": "code",
   "execution_count": null,
   "id": "333a2fb3-3ec8-4216-bafa-b0ec21927289",
   "metadata": {},
   "outputs": [],
   "source": []
  }
 ],
 "metadata": {
  "kernelspec": {
   "display_name": "Python 3 (ipykernel)",
   "language": "python",
   "name": "python3"
  },
  "language_info": {
   "codemirror_mode": {
    "name": "ipython",
    "version": 3
   },
   "file_extension": ".py",
   "mimetype": "text/x-python",
   "name": "python",
   "nbconvert_exporter": "python",
   "pygments_lexer": "ipython3",
   "version": "3.9.17"
  }
 },
 "nbformat": 4,
 "nbformat_minor": 5
}
