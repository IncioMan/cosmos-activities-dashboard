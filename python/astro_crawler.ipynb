{
 "cells": [
  {
   "cell_type": "code",
   "execution_count": 51,
   "id": "8b99b978-c372-40b7-b821-5cc06690daf6",
   "metadata": {},
   "outputs": [],
   "source": [
    "import requests\n",
    "import json\n",
    "import pandas as pd\n",
    "import time\n",
    "import re\n",
    "import urllib\n",
    "import matplotlib\n",
    "import numpy as np\n",
    "pd.set_option('display.max_colwidth', None)"
   ]
  },
  {
   "cell_type": "code",
   "execution_count": 52,
   "id": "0412dcf9-c701-406a-a2c4-5bcadae6c540",
   "metadata": {},
   "outputs": [],
   "source": [
    "import boto3\n",
    "from io import StringIO"
   ]
  },
  {
   "cell_type": "code",
   "execution_count": 53,
   "id": "0cbcb10b-ef04-470d-8ded-8403b3439a08",
   "metadata": {},
   "outputs": [],
   "source": [
    "s3 = boto3.client('s3')"
   ]
  },
  {
   "cell_type": "code",
   "execution_count": 54,
   "id": "197c6fb6-7ca1-411a-ae53-f2fdf8262106",
   "metadata": {},
   "outputs": [],
   "source": [
    "address = \"terra1w579ysjvpx7xxhckxewk8sykxz70gm48wpcuruenl29rhe6p6raslhj0m6\""
   ]
  },
  {
   "cell_type": "code",
   "execution_count": 55,
   "id": "005ecbf8-91c9-402a-82f0-b0c436353b45",
   "metadata": {},
   "outputs": [],
   "source": [
    "def get_txs_time_period(_from, _to):\n",
    "    _df = None\n",
    "    timestamp = urllib.parse.quote(_from.strftime(\"%Y-%m-%d+%H:%M:%S\"),safe='+')\n",
    "    while True:\n",
    "        url = f\"\"\"\n",
    "        https://api.seer.coinhall.org/api/coinhall/swaps/{address}?offset={timestamp}.010646870&limit=15\n",
    "        \"\"\"\n",
    "        print(url)\n",
    "        # Send a GET request to the API\n",
    "        response = requests.get(url)\n",
    "    \n",
    "        time.sleep(1)\n",
    "        print(f\"Number of txs received: {len(response.json()['txs'])}\")\n",
    "        \n",
    "        new_df = pd.DataFrame(response.json()['txs'])\n",
    "        if _df is None:\n",
    "            _df = new_df\n",
    "        else:\n",
    "            _df = pd.concat([_df, new_df])\n",
    "        _df.timestamp = pd.to_datetime(_df.timestamp)\n",
    "        min_ts = _df.timestamp.min()\n",
    "        timestamp = urllib.parse.quote(min_ts.strftime(\"%Y-%m-%d+%H:%M:%S\"),safe='+')\n",
    "\n",
    "        if(min_ts.to_pydatetime().replace(tzinfo=None).strftime(\"%Y-%m-%d\") < _to.strftime(\"%Y-%m-%d\")):\n",
    "            break\n",
    "    return _df"
   ]
  },
  {
   "cell_type": "code",
   "execution_count": 56,
   "id": "8fb00b06-976c-4848-b853-5ee5fc450641",
   "metadata": {},
   "outputs": [],
   "source": [
    "from datetime import datetime, timedelta\n",
    "\n",
    "current_date = datetime.now()\n",
    "threshold_day = current_date - timedelta(days=40)"
   ]
  },
  {
   "cell_type": "code",
   "execution_count": 57,
   "id": "fd7e4d4f-1c5b-4683-9c18-702d7df1447c",
   "metadata": {},
   "outputs": [],
   "source": [
    "try:\n",
    "    df = pd.read_csv(\"./data/astro/swaps.csv\")\n",
    "    df.timestamp = pd.to_datetime(df.timestamp, format='mixed')\n",
    "except Exception as e:\n",
    "    print(f\"No file yet {e}\")\n",
    "    df = None"
   ]
  },
  {
   "cell_type": "code",
   "execution_count": 58,
   "id": "0ecba429-cddb-4b88-bf4f-21bdcffb9335",
   "metadata": {},
   "outputs": [
    {
     "name": "stdout",
     "output_type": "stream",
     "text": [
      "Filling the upper gap from 2023-07-20 to 2023-07-20\n",
      "\n",
      "        https://api.seer.coinhall.org/api/coinhall/swaps/terra1w579ysjvpx7xxhckxewk8sykxz70gm48wpcuruenl29rhe6p6raslhj0m6?offset=2023-07-20+16%3A26%3A16.010646870&limit=15\n",
      "        \n",
      "Number of txs received: 15\n",
      "\n",
      "        https://api.seer.coinhall.org/api/coinhall/swaps/terra1w579ysjvpx7xxhckxewk8sykxz70gm48wpcuruenl29rhe6p6raslhj0m6?offset=2023-07-20+14%3A52%3A03.010646870&limit=15\n",
      "        \n",
      "Number of txs received: 15\n",
      "\n",
      "        https://api.seer.coinhall.org/api/coinhall/swaps/terra1w579ysjvpx7xxhckxewk8sykxz70gm48wpcuruenl29rhe6p6raslhj0m6?offset=2023-07-20+14%3A39%3A25.010646870&limit=15\n",
      "        \n",
      "Number of txs received: 15\n",
      "\n",
      "        https://api.seer.coinhall.org/api/coinhall/swaps/terra1w579ysjvpx7xxhckxewk8sykxz70gm48wpcuruenl29rhe6p6raslhj0m6?offset=2023-07-20+13%3A54%3A06.010646870&limit=15\n",
      "        \n",
      "Number of txs received: 15\n",
      "\n",
      "        https://api.seer.coinhall.org/api/coinhall/swaps/terra1w579ysjvpx7xxhckxewk8sykxz70gm48wpcuruenl29rhe6p6raslhj0m6?offset=2023-07-20+07%3A30%3A16.010646870&limit=15\n",
      "        \n",
      "Number of txs received: 15\n",
      "\n",
      "        https://api.seer.coinhall.org/api/coinhall/swaps/terra1w579ysjvpx7xxhckxewk8sykxz70gm48wpcuruenl29rhe6p6raslhj0m6?offset=2023-07-20+07%3A18%3A21.010646870&limit=15\n",
      "        \n",
      "Number of txs received: 15\n",
      "\n",
      "        https://api.seer.coinhall.org/api/coinhall/swaps/terra1w579ysjvpx7xxhckxewk8sykxz70gm48wpcuruenl29rhe6p6raslhj0m6?offset=2023-07-20+04%3A55%3A23.010646870&limit=15\n",
      "        \n",
      "Number of txs received: 15\n",
      "\n",
      "        https://api.seer.coinhall.org/api/coinhall/swaps/terra1w579ysjvpx7xxhckxewk8sykxz70gm48wpcuruenl29rhe6p6raslhj0m6?offset=2023-07-20+03%3A32%3A58.010646870&limit=15\n",
      "        \n",
      "Number of txs received: 15\n",
      "\n",
      "        https://api.seer.coinhall.org/api/coinhall/swaps/terra1w579ysjvpx7xxhckxewk8sykxz70gm48wpcuruenl29rhe6p6raslhj0m6?offset=2023-07-20+02%3A14%3A13.010646870&limit=15\n",
      "        \n",
      "Number of txs received: 15\n"
     ]
    }
   ],
   "source": [
    "if df is None:\n",
    "    print(\"No data yet. Downloading it all...\")\n",
    "    df = get_txs_time_period(current_date, threshold_day)\n",
    "else:\n",
    "    if df.timestamp.max().to_pydatetime().replace(tzinfo=None) < current_date:\n",
    "        print(f\"Filling the upper gap from {current_date.strftime('%Y-%m-%d')} to {df.timestamp.max().to_pydatetime().replace(tzinfo=None).strftime('%Y-%m-%d')}\")\n",
    "        tt_df = get_txs_time_period(current_date, df.timestamp.max().to_pydatetime().replace(tzinfo=None))\n",
    "        df = pd.concat([df, tt_df])\n",
    "    if df.timestamp.min().to_pydatetime().replace(tzinfo=None) > threshold_day:\n",
    "        print(f\"Filling the lower gap from {threshold_day.strftime('%Y-%m-%d')} to {df.timestamp.min().to_pydatetime().replace(tzinfo=None).strftime('%Y-%m-%d')}\")\n",
    "        tt_df = get_txs_time_period(df.timestamp.min().to_pydatetime().replace(tzinfo=None), threshold_day)\n",
    "        df = pd.concat([df, tt_df])\n",
    "df = df.drop_duplicates(ignore_index=True)"
   ]
  },
  {
   "cell_type": "code",
   "execution_count": 59,
   "id": "e087660e-cf86-4156-9f08-07d78606752a",
   "metadata": {},
   "outputs": [],
   "source": [
    "assets = {\n",
    "    'ibc/B3504E092456BA618CC28AC671A71FB08C6CA0FD0BE7C8A5B5A3E2DD933CC9E4':'axlUSDC',\n",
    "    'terra1nsuqsk6kh58ulczatwev87ttq2z6r3pusulg9r24mfj2fvtzd4uq3exn26':'ASTRO'\n",
    "}"
   ]
  },
  {
   "cell_type": "code",
   "execution_count": 60,
   "id": "3ac04ad6-1113-47a3-893e-97a5328fd212",
   "metadata": {},
   "outputs": [],
   "source": [
    "df = df.drop_duplicates(ignore_index=True)\n",
    "df.returnAsset = df.returnAsset.replace(assets)\n",
    "df.offerAsset = df.offerAsset.replace(assets)"
   ]
  },
  {
   "cell_type": "code",
   "execution_count": 61,
   "id": "f969175b-920a-4d46-bc92-b67c68ec2507",
   "metadata": {},
   "outputs": [],
   "source": [
    "df['date'] = df.timestamp.apply(lambda x: x.strftime(\"%Y-%m-%d\"))"
   ]
  },
  {
   "cell_type": "code",
   "execution_count": 62,
   "id": "5f4d198b-619d-44d5-912a-6377cd863b57",
   "metadata": {},
   "outputs": [],
   "source": [
    "df.to_csv(f'data/astro/swaps.csv', index=False)"
   ]
  },
  {
   "cell_type": "code",
   "execution_count": 63,
   "id": "f63a1484-fef7-4377-a500-a5ea0880bc91",
   "metadata": {},
   "outputs": [
    {
     "name": "stderr",
     "output_type": "stream",
     "text": [
      "/tmp/ipykernel_1852/2204474832.py:3: SettingWithCopyWarning: \n",
      "A value is trying to be set on a copy of a slice from a DataFrame.\n",
      "Try using .loc[row_indexer,col_indexer] = value instead\n",
      "\n",
      "See the caveats in the documentation: https://pandas.pydata.org/pandas-docs/stable/user_guide/indexing.html#returning-a-view-versus-a-copy\n",
      "  _sell['astro_amount'] =  - _sell.offerAmount\n",
      "/tmp/ipykernel_1852/2204474832.py:4: SettingWithCopyWarning: \n",
      "A value is trying to be set on a copy of a slice from a DataFrame.\n",
      "Try using .loc[row_indexer,col_indexer] = value instead\n",
      "\n",
      "See the caveats in the documentation: https://pandas.pydata.org/pandas-docs/stable/user_guide/indexing.html#returning-a-view-versus-a-copy\n",
      "  _buy['astro_amount'] =  _buy.returnAmount\n"
     ]
    }
   ],
   "source": [
    "_sell = df[df.offerAsset=='ASTRO']\n",
    "_buy = df[df.returnAsset=='ASTRO']\n",
    "_sell['astro_amount'] =  - _sell.offerAmount\n",
    "_buy['astro_amount'] =  _buy.returnAmount\n",
    "df = pd.concat([_sell, _buy])"
   ]
  },
  {
   "cell_type": "code",
   "execution_count": 64,
   "id": "2a51eec7-17f6-4aad-aa01-bea6816549d4",
   "metadata": {},
   "outputs": [
    {
     "name": "stdout",
     "output_type": "stream",
     "text": [
      "2023-06-20\n",
      "2023-07-13\n",
      "2023-07-20\n"
     ]
    }
   ],
   "source": [
    "from datetime import datetime, timedelta\n",
    "\n",
    "today = datetime.today()\n",
    "one_month_earlier = today - timedelta(days=30)\n",
    "one_month_earlier_date = one_month_earlier.strftime(\"%Y-%m-%d\")\n",
    "one_week_earlier = today - timedelta(days=7)\n",
    "one_week_earlier_date = one_week_earlier.strftime(\"%Y-%m-%d\")\n",
    "today_date = today.strftime(\"%Y-%m-%d\")\n",
    "\n",
    "print(one_month_earlier_date)\n",
    "print(one_week_earlier_date)\n",
    "print(today_date)"
   ]
  },
  {
   "cell_type": "code",
   "execution_count": 65,
   "id": "fbf08583-09b7-41fa-b168-8680f60e21c3",
   "metadata": {},
   "outputs": [],
   "source": [
    "def get_df_before_date(df, date, sell=True):  \n",
    "    if(sell):\n",
    "        _tt =  df[df.date >= date]\\\n",
    "            [['traderAddress','returnAmount','astro_amount']]\\\n",
    "            .groupby('traderAddress')\\\n",
    "            .sum()\n",
    "        _tt = _tt[_tt.astro_amount < 0]\n",
    "    else:\n",
    "        _tt =  df[df.date >= date]\\\n",
    "            [['traderAddress','offerAmount','astro_amount']]\\\n",
    "            .groupby('traderAddress')\\\n",
    "            .sum()\n",
    "        _tt = _tt[_tt.astro_amount > 0]\n",
    "    return _tt.sort_values(by='astro_amount', ascending=sell).reset_index().head(50)"
   ]
  },
  {
   "cell_type": "code",
   "execution_count": 66,
   "id": "14bfb10e-85a2-42d1-b252-55144b1ce658",
   "metadata": {},
   "outputs": [],
   "source": [
    "tt_sell_month = get_df_before_date(df, one_month_earlier_date)\n",
    "tt_sell_week = get_df_before_date(df, one_week_earlier_date)\n",
    "tt_sell_today = get_df_before_date(df, today_date)\n",
    "\n",
    "tt_buy_month = get_df_before_date(df, one_month_earlier_date, sell=False)\n",
    "tt_buy_week = get_df_before_date(df, one_week_earlier_date, sell=False)\n",
    "tt_buy_today = get_df_before_date(df, today_date, sell=False)"
   ]
  },
  {
   "cell_type": "code",
   "execution_count": 67,
   "id": "fbf4598f-6160-4517-9bfd-eeb63c3254eb",
   "metadata": {},
   "outputs": [],
   "source": [
    "import requests\n",
    "import json\n",
    "\n",
    "def get_balances(address):\n",
    "    url = \"https://starscream-terra-mainnet.chainscope.dev/\"\n",
    "    headers = {\n",
    "        \"Content-Type\": \"application/json\"\n",
    "    }\n",
    "    \n",
    "    body = {\n",
    "        \"query\": \"\"\"\n",
    "        query Query($address: String!, $tokenContracts: [String!]!) {\n",
    "            tokenBalances(address: $address, tokenContracts: $tokenContracts)\n",
    "        }\n",
    "        \"\"\",\n",
    "        \"variables\": {\n",
    "            \"address\": f\"{address}\",\n",
    "            \"tokenContracts\": [\n",
    "                \"terra1x62mjnme4y0rdnag3r8rfgjuutsqlkkyuh4ndgex0wl3wue25uksau39q8\",\n",
    "                \"terra1xp9hrhthzddnl7j5du83gqqr4wmdjm5t0guzg9jp6jwrtpukwfjsjgy4f3\",\n",
    "                \"terra19p20mfnvwh9yvyr7aus3a6z6g6uk28fv4jhx9kmnc2m7krg27q2qkfenjw\",\n",
    "                \"terra1nsuqsk6kh58ulczatwev87ttq2z6r3pusulg9r24mfj2fvtzd4uq3exn26\",\n",
    "                \"terra1ecgazyd0waaj3g7l9cmy5gulhxkps2gmxu9ghducvuypjq68mq2s5lvsct\",\n",
    "                \"terra1lxx40s29qvkrcj8fsa3yzyehy7w50umdvvnls2r830rys6lu2zns63eelv\",\n",
    "                \"terra17aj4ty4sz4yhgm08na8drc0v03v2jwr3waxcqrwhajj729zhl7zqnpc0ml\"\n",
    "            ]\n",
    "        },\n",
    "        \"operationName\": \"Query\"\n",
    "    }\n",
    "    \n",
    "    response = requests.post(url, headers=headers, data=json.dumps(body))\n",
    "    \n",
    "    if response.status_code == 200:\n",
    "        result = response.json()\n",
    "        return result\n",
    "    else:\n",
    "        print(\"Request failed with status code:\", response.status_code)"
   ]
  },
  {
   "cell_type": "code",
   "execution_count": 68,
   "id": "07619c58-0ee1-44a9-a523-61a45d7749eb",
   "metadata": {},
   "outputs": [],
   "source": [
    "tokens = [\n",
    "\"xASTRO\",\n",
    "\"SAYVE\",\n",
    "\"ORNE\",\n",
    "\"ASTRO\",\n",
    "\"ampLUNA\",\n",
    "\"ROAR\",\n",
    "\"boneLuna\"\n",
    "]"
   ]
  },
  {
   "cell_type": "code",
   "execution_count": 69,
   "id": "8f41366c-c706-4802-975c-53849c5250c3",
   "metadata": {},
   "outputs": [],
   "source": [
    "addresses = set(tt_sell_month.traderAddress.tolist())\\\n",
    "    .union(set(tt_sell_week.traderAddress.tolist()))\\\n",
    "    .union(set(tt_sell_today.traderAddress.tolist()))\\\n",
    "    .union(set(tt_buy_month.traderAddress.tolist()))\\\n",
    "    .union(set(tt_buy_week.traderAddress.tolist()))\\\n",
    "    .union(set(tt_buy_today.traderAddress.tolist()))"
   ]
  },
  {
   "cell_type": "code",
   "execution_count": 70,
   "id": "f279adcf-bc7f-4740-937c-198a7c66306c",
   "metadata": {},
   "outputs": [],
   "source": [
    "balances = []\n",
    "for address in addresses:\n",
    "    balance_dict = {k: int(v)/1000000 for k, v in zip(tokens, get_balances(address)['data']['tokenBalances'])}\n",
    "    balance_dict['traderAddress']= address\n",
    "    balances.append(balance_dict)"
   ]
  },
  {
   "cell_type": "code",
   "execution_count": 71,
   "id": "61a6cbfe-5369-4b7e-9591-bf3fcee1eb28",
   "metadata": {},
   "outputs": [],
   "source": [
    "def add_balances(df, balances, sell=True):\n",
    "    _tt = df\n",
    "    if(not sell):\n",
    "        _tt['dollar_amount'] = _tt.offerAmount\n",
    "    if(sell):\n",
    "        _tt['dollar_amount'] = _tt.returnAmount\n",
    "    _tt = pd.DataFrame(balances).merge(df, on='traderAddress')\n",
    "    _tt['total_astro_holdings'] = _tt['ASTRO'] + _tt['xASTRO']\n",
    "    _tt.total_return_dollar_amount = _tt.dollar_amount.apply(int)\n",
    "    _tt[\"total_return_dollar_amount_label\"] = _tt.total_return_dollar_amount.apply(lambda x: f\"${int(x/1000)}k\" if x > 1000 else f\"${x}\")\n",
    "    return _tt"
   ]
  },
  {
   "cell_type": "code",
   "execution_count": 72,
   "id": "f52324d7-4beb-4580-bb11-eb87851f4b7a",
   "metadata": {},
   "outputs": [
    {
     "name": "stderr",
     "output_type": "stream",
     "text": [
      "/tmp/ipykernel_1852/621640574.py:9: UserWarning: Pandas doesn't allow columns to be created via a new attribute name - see https://pandas.pydata.org/pandas-docs/stable/indexing.html#attribute-access\n",
      "  _tt.total_return_dollar_amount = _tt.dollar_amount.apply(int)\n",
      "/tmp/ipykernel_1852/621640574.py:9: UserWarning: Pandas doesn't allow columns to be created via a new attribute name - see https://pandas.pydata.org/pandas-docs/stable/indexing.html#attribute-access\n",
      "  _tt.total_return_dollar_amount = _tt.dollar_amount.apply(int)\n",
      "/tmp/ipykernel_1852/621640574.py:9: UserWarning: Pandas doesn't allow columns to be created via a new attribute name - see https://pandas.pydata.org/pandas-docs/stable/indexing.html#attribute-access\n",
      "  _tt.total_return_dollar_amount = _tt.dollar_amount.apply(int)\n"
     ]
    }
   ],
   "source": [
    "tt_sell_month_balances = add_balances(tt_sell_month, balances)\n",
    "tt_sell_week_balances = add_balances(tt_sell_week, balances)\n",
    "tt_sell_today_balances = add_balances(tt_sell_today, balances)"
   ]
  },
  {
   "cell_type": "code",
   "execution_count": 73,
   "id": "39a6029e-cb6a-4c9b-8b01-57ed5bf13bbb",
   "metadata": {},
   "outputs": [
    {
     "name": "stderr",
     "output_type": "stream",
     "text": [
      "/tmp/ipykernel_1852/621640574.py:9: UserWarning: Pandas doesn't allow columns to be created via a new attribute name - see https://pandas.pydata.org/pandas-docs/stable/indexing.html#attribute-access\n",
      "  _tt.total_return_dollar_amount = _tt.dollar_amount.apply(int)\n",
      "/tmp/ipykernel_1852/621640574.py:9: UserWarning: Pandas doesn't allow columns to be created via a new attribute name - see https://pandas.pydata.org/pandas-docs/stable/indexing.html#attribute-access\n",
      "  _tt.total_return_dollar_amount = _tt.dollar_amount.apply(int)\n",
      "/tmp/ipykernel_1852/621640574.py:9: UserWarning: Pandas doesn't allow columns to be created via a new attribute name - see https://pandas.pydata.org/pandas-docs/stable/indexing.html#attribute-access\n",
      "  _tt.total_return_dollar_amount = _tt.dollar_amount.apply(int)\n"
     ]
    }
   ],
   "source": [
    "tt_buy_month_balances = add_balances(tt_buy_month, balances, sell=False)\n",
    "tt_buy_week_balances = add_balances(tt_buy_week, balances, sell=False)\n",
    "tt_buy_today_balances = add_balances(tt_buy_today, balances, sell=False)"
   ]
  },
  {
   "cell_type": "code",
   "execution_count": 74,
   "id": "005589ae-662c-4fc9-a7c2-d544594789d0",
   "metadata": {},
   "outputs": [],
   "source": [
    "def write_df_to_csv(df, path):\n",
    "    json_data = df.to_json(orient='records')\n",
    "    with open(path, 'w') as f:\n",
    "        f.write(json_data)"
   ]
  },
  {
   "cell_type": "code",
   "execution_count": 75,
   "id": "abc8cefc-39b3-4a2e-9206-93f01d512c32",
   "metadata": {},
   "outputs": [],
   "source": [
    "write_df_to_csv(tt_sell_month_balances, \"./data/astro/top_monthly_sellers.json\")\n",
    "write_df_to_csv(tt_sell_week_balances, \"./data/astro/top_weekly_sellers.json\")\n",
    "write_df_to_csv(tt_sell_today_balances, \"./data/astro/top_today_sellers.json\")\n",
    "\n",
    "write_df_to_csv(tt_buy_month_balances, \"./data/astro/top_monthly_buyers.json\")\n",
    "write_df_to_csv(tt_buy_week_balances, \"./data/astro/top_weekly_buyers.json\")\n",
    "write_df_to_csv(tt_buy_today_balances, \"./data/astro/top_today_buyers.json\")"
   ]
  },
  {
   "cell_type": "code",
   "execution_count": 76,
   "id": "7f000977-8e90-4858-90f6-6449764230a7",
   "metadata": {},
   "outputs": [],
   "source": [
    "def write_to_s3(df, filename, bucket_name='incioman-data-analysis'):\n",
    "    json_string = df.to_json(orient='records')\n",
    "    file_path = f\"astro_trading/{datetime.today().date().strftime('%Y%m%d')}/{filename}\"\n",
    "    s3.put_object(Body=json_string, Bucket=bucket_name, Key=file_path)"
   ]
  },
  {
   "cell_type": "code",
   "execution_count": 77,
   "id": "9403034f-2859-4448-9e06-4d37cf62a8c4",
   "metadata": {},
   "outputs": [],
   "source": [
    "write_to_s3(tt_sell_month_balances, \"top_monthly_sellers.json\")\n",
    "write_to_s3(tt_sell_week_balances, \"top_weekly_sellers.json\")\n",
    "write_to_s3(tt_sell_today_balances, \"top_today_sellers.json\")\n",
    "\n",
    "write_to_s3(tt_buy_month_balances, \"top_monthly_buyers.json\")\n",
    "write_to_s3(tt_buy_week_balances, \"top_weekly_buyers.json\")\n",
    "write_to_s3(tt_buy_today_balances, \"top_today_buyers.json\")"
   ]
  },
  {
   "cell_type": "code",
   "execution_count": 78,
   "id": "76b14dd5-7caa-4595-81fc-3edab35a780b",
   "metadata": {},
   "outputs": [],
   "source": [
    "astro_buy = df[df.returnAsset=='ASTRO']\n",
    "astro_sell = df[df.offerAsset=='ASTRO']"
   ]
  },
  {
   "cell_type": "code",
   "execution_count": 79,
   "id": "acfaff6f-ee0b-4265-b127-7c568623a811",
   "metadata": {},
   "outputs": [
    {
     "data": {
      "text/plain": [
       "<Axes: xlabel='date'>"
      ]
     },
     "execution_count": 79,
     "metadata": {},
     "output_type": "execute_result"
    },
    {
     "data": {
      "image/png": "[encoded data removed]",
      "text/plain": [
       "<Figure size 640x480 with 1 Axes>"
      ]
     },
     "metadata": {},
     "output_type": "display_data"
    }
   ],
   "source": [
    "astro_sell[['date','returnAmount']].groupby('date').sum().plot(kind='bar')"
   ]
  },
  {
   "cell_type": "code",
   "execution_count": 80,
   "id": "1e4f436c-6a67-4779-b7b7-c5426a95b42c",
   "metadata": {},
   "outputs": [
    {
     "data": {
      "text/plain": [
       "<Axes: xlabel='date'>"
      ]
     },
     "execution_count": 80,
     "metadata": {},
     "output_type": "execute_result"
    },
    {
     "data": {
      "image/png": "[encoded data removed]",
      "text/plain": [
       "<Figure size 640x480 with 1 Axes>"
      ]
     },
     "metadata": {},
     "output_type": "display_data"
    }
   ],
   "source": [
    "astro_sell[['date','traderAddress']].groupby('date').count().plot(kind='bar')"
   ]
  },
  {
   "cell_type": "code",
   "execution_count": null,
   "id": "ccc57c23-8224-4143-8511-ba07f1e92e53",
   "metadata": {},
   "outputs": [],
   "source": []
  }
 ],
 "metadata": {
  "kernelspec": {
   "display_name": "Python 3 (ipykernel)",
   "language": "python",
   "name": "python3"
  },
  "language_info": {
   "codemirror_mode": {
    "name": "ipython",
    "version": 3
   },
   "file_extension": ".py",
   "mimetype": "text/x-python",
   "name": "python",
   "nbconvert_exporter": "python",
   "pygments_lexer": "ipython3",
   "version": "3.9.17"
  }
 },
 "nbformat": 4,
 "nbformat_minor": 5
}
