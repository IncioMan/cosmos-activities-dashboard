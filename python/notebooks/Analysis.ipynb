{
 "cells": [
  {
   "cell_type": "code",
   "execution_count": 4,
   "id": "17f826e6-403c-49d5-8856-5474fe421a69",
   "metadata": {},
   "outputs": [],
   "source": [
    "import pandas as pd\n",
    "pd.set_option('display.max_colwidth', None)"
   ]
  },
  {
   "cell_type": "code",
   "execution_count": 9,
   "id": "88a3ad35-8c8d-4648-baa5-108a7053ec46",
   "metadata": {},
   "outputs": [],
   "source": [
    "address = 'kujira1pkmjc7p7lqg6m3nm7csde88pnpad945kla5hyu'\n",
    "df = pd.read_csv(f'../data/{address}.csv')"
   ]
  },
  {
   "cell_type": "code",
   "execution_count": 14,
   "id": "275268b9-b6b8-4b56-a56b-23aa67d4ee3e",
   "metadata": {},
   "outputs": [],
   "source": [
    "tt = df[((df.recipient == 'kujira1pkmjc7p7lqg6m3nm7csde88pnpad945kla5hyu') | \\\n",
    "    (df.sender == 'kujira1pkmjc7p7lqg6m3nm7csde88pnpad945kla5hyu')) & \\\n",
    "    (df.valuta=='ukuji')]"
   ]
  },
  {
   "cell_type": "code",
   "execution_count": 19,
   "id": "acc10e24-bcaf-4e40-a78e-be1091815fb7",
   "metadata": {},
   "outputs": [],
   "source": [
    "tt1 = tt[['sender','amount','valuta']]\n",
    "tt1.columns = ['address','amount','valuta']\n",
    "tt2 = tt[['recipient','amount','valuta']]\n",
    "tt2.columns = ['address','amount','valuta']\n",
    "tt3 = pd.concat([tt1[['address','amount','valuta']],\n",
    "           tt2[['address','amount','valuta']]])"
   ]
  },
  {
   "cell_type": "code",
   "execution_count": 20,
   "id": "66e517de-e899-457e-9408-c1a734028ef3",
   "metadata": {},
   "outputs": [
    {
     "data": {
      "text/html": [
       "<div>\n",
       "<style scoped>\n",
       "    .dataframe tbody tr th:only-of-type {\n",
       "        vertical-align: middle;\n",
       "    }\n",
       "\n",
       "    .dataframe tbody tr th {\n",
       "        vertical-align: top;\n",
       "    }\n",
       "\n",
       "    .dataframe thead th {\n",
       "        text-align: right;\n",
       "    }\n",
       "</style>\n",
       "<table border=\"1\" class=\"dataframe\">\n",
       "  <thead>\n",
       "    <tr style=\"text-align: right;\">\n",
       "      <th></th>\n",
       "      <th>address</th>\n",
       "      <th>valuta</th>\n",
       "      <th>amount</th>\n",
       "    </tr>\n",
       "  </thead>\n",
       "  <tbody>\n",
       "    <tr>\n",
       "      <th>0</th>\n",
       "      <td>kujira143fwcudwy0exd6zd3xyvqt2kae68ud6n8jqchufu7wdg5sryd4lqtlvvep</td>\n",
       "      <td>ukuji</td>\n",
       "      <td>220000130</td>\n",
       "    </tr>\n",
       "    <tr>\n",
       "      <th>1</th>\n",
       "      <td>kujira14hj2tavq8fpesdwxxcu44rty3hh90vhujrvcmstl4zr3txmfvw9sl4e867</td>\n",
       "      <td>ukuji</td>\n",
       "      <td>417611889</td>\n",
       "    </tr>\n",
       "    <tr>\n",
       "      <th>2</th>\n",
       "      <td>kujira17xpfvakm2amg962yls6f84z3kell8c5lp3pcxh</td>\n",
       "      <td>ukuji</td>\n",
       "      <td>21920</td>\n",
       "    </tr>\n",
       "    <tr>\n",
       "      <th>3</th>\n",
       "      <td>kujira193dzcmy7lwuj4eda3zpwwt9ejal00xva0vawcvhgsyyp5cfh6jyq66wfrf</td>\n",
       "      <td>ukuji</td>\n",
       "      <td>300199534</td>\n",
       "    </tr>\n",
       "    <tr>\n",
       "      <th>4</th>\n",
       "      <td>kujira1ackqp55ygdmvx2armyl9x9k6d6pdrcj98l8u5u</td>\n",
       "      <td>ukuji</td>\n",
       "      <td>1090000000</td>\n",
       "    </tr>\n",
       "    <tr>\n",
       "      <th>5</th>\n",
       "      <td>kujira1e6fjnq7q20sh9cca76wdkfg69esha5zn53jjewrtjgm4nktk824stzyysu</td>\n",
       "      <td>ukuji</td>\n",
       "      <td>388308042</td>\n",
       "    </tr>\n",
       "    <tr>\n",
       "      <th>6</th>\n",
       "      <td>kujira1pkmjc7p7lqg6m3nm7csde88pnpad945kla5hyu</td>\n",
       "      <td>ukuji</td>\n",
       "      <td>2416141515</td>\n",
       "    </tr>\n",
       "  </tbody>\n",
       "</table>\n",
       "</div>"
      ],
      "text/plain": [
       "                                                             address valuta  \\\n",
       "0  kujira143fwcudwy0exd6zd3xyvqt2kae68ud6n8jqchufu7wdg5sryd4lqtlvvep  ukuji   \n",
       "1  kujira14hj2tavq8fpesdwxxcu44rty3hh90vhujrvcmstl4zr3txmfvw9sl4e867  ukuji   \n",
       "2                      kujira17xpfvakm2amg962yls6f84z3kell8c5lp3pcxh  ukuji   \n",
       "3  kujira193dzcmy7lwuj4eda3zpwwt9ejal00xva0vawcvhgsyyp5cfh6jyq66wfrf  ukuji   \n",
       "4                      kujira1ackqp55ygdmvx2armyl9x9k6d6pdrcj98l8u5u  ukuji   \n",
       "5  kujira1e6fjnq7q20sh9cca76wdkfg69esha5zn53jjewrtjgm4nktk824stzyysu  ukuji   \n",
       "6                      kujira1pkmjc7p7lqg6m3nm7csde88pnpad945kla5hyu  ukuji   \n",
       "\n",
       "       amount  \n",
       "0   220000130  \n",
       "1   417611889  \n",
       "2       21920  \n",
       "3   300199534  \n",
       "4  1090000000  \n",
       "5   388308042  \n",
       "6  2416141515  "
      ]
     },
     "execution_count": 20,
     "metadata": {},
     "output_type": "execute_result"
    }
   ],
   "source": [
    "tt3[['address','valuta','amount']]\\\n",
    "    .groupby(['address','valuta']).sum().reset_index()"
   ]
  },
  {
   "cell_type": "code",
   "execution_count": null,
   "id": "f620fec9-8929-465c-9278-1180bc3c4694",
   "metadata": {},
   "outputs": [],
   "source": []
  }
 ],
 "metadata": {
  "kernelspec": {
   "display_name": "Python 3 (ipykernel)",
   "language": "python",
   "name": "python3"
  },
  "language_info": {
   "codemirror_mode": {
    "name": "ipython",
    "version": 3
   },
   "file_extension": ".py",
   "mimetype": "text/x-python",
   "name": "python",
   "nbconvert_exporter": "python",
   "pygments_lexer": "ipython3",
   "version": "3.9.17"
  }
 },
 "nbformat": 4,
 "nbformat_minor": 5
}
