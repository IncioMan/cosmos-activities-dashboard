{
 "cells": [
  {
   "cell_type": "code",
   "execution_count": 1,
   "id": "17f826e6-403c-49d5-8856-5474fe421a69",
   "metadata": {},
   "outputs": [],
   "source": [
    "import pandas as pd"
   ]
  },
  {
   "cell_type": "code",
   "execution_count": 3,
   "id": "88a3ad35-8c8d-4648-baa5-108a7053ec46",
   "metadata": {},
   "outputs": [],
   "source": [
    "address = 'kujira1pkmjc7p7lqg6m3nm7csde88pnpad945kla5hyu'\n",
    "df = pd.read_csv(f'../data/{address}.csv')"
   ]
  },
  {
   "cell_type": "code",
   "execution_count": 10,
   "id": "66e517de-e899-457e-9408-c1a734028ef3",
   "metadata": {},
   "outputs": [
    {
     "data": {
      "text/html": [
       "<div>\n",
       "<style scoped>\n",
       "    .dataframe tbody tr th:only-of-type {\n",
       "        vertical-align: middle;\n",
       "    }\n",
       "\n",
       "    .dataframe tbody tr th {\n",
       "        vertical-align: top;\n",
       "    }\n",
       "\n",
       "    .dataframe thead th {\n",
       "        text-align: right;\n",
       "    }\n",
       "</style>\n",
       "<table border=\"1\" class=\"dataframe\">\n",
       "  <thead>\n",
       "    <tr style=\"text-align: right;\">\n",
       "      <th></th>\n",
       "      <th>sender</th>\n",
       "      <th>recipient</th>\n",
       "      <th>valuta</th>\n",
       "      <th>amount</th>\n",
       "    </tr>\n",
       "  </thead>\n",
       "  <tbody>\n",
       "    <tr>\n",
       "      <th>0</th>\n",
       "      <td>kujira1pkmjc7p7lqg6m3nm7csde88pnpad945kla5hyu</td>\n",
       "      <td>kujira14hj2tavq8fpesdwxxcu44rty3hh90vhujrvcmst...</td>\n",
       "      <td>ukuji</td>\n",
       "      <td>383840422</td>\n",
       "    </tr>\n",
       "    <tr>\n",
       "      <th>1</th>\n",
       "      <td>kujira1pkmjc7p7lqg6m3nm7csde88pnpad945kla5hyu</td>\n",
       "      <td>kujira17xpfvakm2amg962yls6f84z3kell8c5lp3pcxh</td>\n",
       "      <td>ukuji</td>\n",
       "      <td>21920</td>\n",
       "    </tr>\n",
       "    <tr>\n",
       "      <th>2</th>\n",
       "      <td>kujira1pkmjc7p7lqg6m3nm7csde88pnpad945kla5hyu</td>\n",
       "      <td>kujira193dzcmy7lwuj4eda3zpwwt9ejal00xva0vawcvh...</td>\n",
       "      <td>ukuji</td>\n",
       "      <td>150099767</td>\n",
       "    </tr>\n",
       "    <tr>\n",
       "      <th>3</th>\n",
       "      <td>kujira1pkmjc7p7lqg6m3nm7csde88pnpad945kla5hyu</td>\n",
       "      <td>kujira1e6fjnq7q20sh9cca76wdkfg69esha5zn53jjewr...</td>\n",
       "      <td>ukuji</td>\n",
       "      <td>150000000</td>\n",
       "    </tr>\n",
       "  </tbody>\n",
       "</table>\n",
       "</div>"
      ],
      "text/plain": [
       "                                          sender  \\\n",
       "0  kujira1pkmjc7p7lqg6m3nm7csde88pnpad945kla5hyu   \n",
       "1  kujira1pkmjc7p7lqg6m3nm7csde88pnpad945kla5hyu   \n",
       "2  kujira1pkmjc7p7lqg6m3nm7csde88pnpad945kla5hyu   \n",
       "3  kujira1pkmjc7p7lqg6m3nm7csde88pnpad945kla5hyu   \n",
       "\n",
       "                                           recipient valuta     amount  \n",
       "0  kujira14hj2tavq8fpesdwxxcu44rty3hh90vhujrvcmst...  ukuji  383840422  \n",
       "1      kujira17xpfvakm2amg962yls6f84z3kell8c5lp3pcxh  ukuji      21920  \n",
       "2  kujira193dzcmy7lwuj4eda3zpwwt9ejal00xva0vawcvh...  ukuji  150099767  \n",
       "3  kujira1e6fjnq7q20sh9cca76wdkfg69esha5zn53jjewr...  ukuji  150000000  "
      ]
     },
     "execution_count": 10,
     "metadata": {},
     "output_type": "execute_result"
    }
   ],
   "source": [
    "df[(df.sender == 'kujira1pkmjc7p7lqg6m3nm7csde88pnpad945kla5hyu') & (df.valuta=='ukuji')]\\\n",
    "    [['sender','recipient','valuta','amount']]\\\n",
    "    .groupby(['sender','recipient','valuta']).sum().reset_index()"
   ]
  },
  {
   "cell_type": "code",
   "execution_count": null,
   "id": "f620fec9-8929-465c-9278-1180bc3c4694",
   "metadata": {},
   "outputs": [],
   "source": []
  }
 ],
 "metadata": {
  "kernelspec": {
   "display_name": "Python 3 (ipykernel)",
   "language": "python",
   "name": "python3"
  },
  "language_info": {
   "codemirror_mode": {
    "name": "ipython",
    "version": 3
   },
   "file_extension": ".py",
   "mimetype": "text/x-python",
   "name": "python",
   "nbconvert_exporter": "python",
   "pygments_lexer": "ipython3",
   "version": "3.9.17"
  }
 },
 "nbformat": 4,
 "nbformat_minor": 5
}
