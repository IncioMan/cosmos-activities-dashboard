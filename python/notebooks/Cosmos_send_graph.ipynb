{
 "cells": [
  {
   "cell_type": "code",
   "execution_count": 154,
   "id": "b5cbeefb-ad75-4519-bcec-6f094e496f45",
   "metadata": {},
   "outputs": [],
   "source": [
    "import requests\n",
    "import json\n",
    "import pandas as pd\n",
    "import time\n",
    "import re\n",
    "import urllib\n",
    "import matplotlib\n",
    "import numpy as np\n",
    "from datetime import datetime \n",
    "pd.set_option('display.max_colwidth', None)"
   ]
  },
  {
   "cell_type": "code",
   "execution_count": 159,
   "id": "650b9fce-8f6c-4529-8241-373ecc74c7ef",
   "metadata": {},
   "outputs": [],
   "source": [
    "def get_txs_after_date(address, last_date, api_endpoint):\n",
    "    txs_df = None\n",
    "    messages = []\n",
    "    start = 0\n",
    "    limit = 25\n",
    "    while True:     \n",
    "        url = api_endpoint.format(address, limit, start)\n",
    "        print(url)\n",
    "        time.sleep(5)\n",
    "        headers = {\n",
    "            'User-Agent': 'Mozilla/5.0 (Windows NT 10.0; Win64; x64) AppleWebKit/537.36 (KHTML, like Gecko) Chrome/58.0.3029.110 Safari/537.3'\n",
    "        }\n",
    "    \n",
    "        response = requests.get(url, headers=headers)\n",
    "        tt = pd.json_normalize(response.json(), record_path=['data', 'tx','body','messages'], meta=['data'])\n",
    "        tt['txhash'] = tt.data.apply(lambda x: x['txhash'])\n",
    "        tt['timestamp'] = pd.to_datetime(tt.data.apply(lambda x: x['timestamp']))\n",
    "        tt = tt.drop(columns=['data'])\n",
    "        tt['timestamp_str'] = tt.timestamp.dt.strftime(\"%Y-%m-%d %H:%M:%S\")\n",
    "        if(txs_df is None):\n",
    "            txs_df = tt\n",
    "        else:\n",
    "            txs_df = pd.concat([txs_df, tt])\n",
    "        messages.append(response.json())\n",
    "        txs_before_date = tt[tt['timestamp_str'] < last_date]\n",
    "        txs_from_date = tt[tt['timestamp_str'] >= last_date]\n",
    "        if(len(txs_before_date) > 0):\n",
    "            break\n",
    "        start += limit\n",
    "    return txs_from_date, messages"
   ]
  },
  {
   "cell_type": "code",
   "execution_count": 160,
   "id": "c13b4135-2906-4471-87d3-73495b748c79",
   "metadata": {},
   "outputs": [],
   "source": [
    "def get_atom_amount(amounts):\n",
    "    for amount in amounts:\n",
    "        if(amount['denom']=='uatom'):\n",
    "            return int(amount['amount'])/1000000\n",
    "            \n",
    "def get_send_txs(df, addr, after_date):\n",
    "    df = df[df.from_address==addr]\n",
    "    df = df[df.timestamp_str >= after_date]\n",
    "    df = df[df['@type']=='/cosmos.bank.v1beta1.MsgSend']\n",
    "    df['atom_amount']= df.amount.apply(get_atom_amount)\n",
    "    return df"
   ]
  },
  {
   "cell_type": "code",
   "execution_count": 161,
   "id": "70c3f234-808e-4124-8e80-51f78066b65d",
   "metadata": {},
   "outputs": [],
   "source": [
    "def get_send_summary(df):\n",
    "    dd = tt[['from_address','to_address','atom_amount','timestamp_str']]\\\n",
    "            .groupby(['from_address','to_address']).agg(tot_atom_amount=('atom_amount', np.sum),\n",
    "                                                    first_send_timestamp=('timestamp_str', np.min))\\\n",
    "            .reset_index()\n",
    "    return dd"
   ]
  },
  {
   "cell_type": "code",
   "execution_count": 162,
   "id": "43994dd8-3c92-4308-bf73-d0bc2dcae5e9",
   "metadata": {},
   "outputs": [
    {
     "name": "stdout",
     "output_type": "stream",
     "text": [
      "2023-05-01 08:26:20\n"
     ]
    }
   ],
   "source": [
    "from datetime import datetime, timedelta\n",
    "\n",
    "# Get today's date\n",
    "today = datetime.today()\n",
    "# Calculate one month ago by subtracting timedelta\n",
    "one_month_ago = today - timedelta(days=90)\n",
    "# Format the result as a string (optional)\n",
    "formatted_date = one_month_ago.strftime('%Y-%m-%d %H:%M:%S')\n",
    "print(formatted_date)"
   ]
  },
  {
   "cell_type": "code",
   "execution_count": 163,
   "id": "bfa0c378-8a50-401b-aaa1-4b9ba5a2c736",
   "metadata": {},
   "outputs": [],
   "source": [
    "txs_dict = {}\n",
    "txs_polished_dict = {}\n",
    "messages_dict = {}\n",
    "send_chains_txs = None"
   ]
  },
  {
   "cell_type": "code",
   "execution_count": 164,
   "id": "4eb46082-513c-4569-8f73-2109160ce67a",
   "metadata": {},
   "outputs": [],
   "source": [
    "addr = 'cosmos18e6wd0sscqlqprpl02lejln435y8aky8fme2jz'"
   ]
  },
  {
   "cell_type": "code",
   "execution_count": 165,
   "id": "de83d5a6-7e30-41bd-86b5-f7088d5b4703",
   "metadata": {},
   "outputs": [
    {
     "name": "stdout",
     "output_type": "stream",
     "text": [
      "https://api.mintscan.io/v1/cosmos/account/cosmos18e6wd0sscqlqprpl02lejln435y8aky8fme2jz/txs?limit=25&from=0\n"
     ]
    }
   ],
   "source": [
    "_txs_df, _messages = get_txs_after_date(addr, formatted_date ,'https://api.mintscan.io/v1/cosmos/account/{}/txs?limit={}&from={}')"
   ]
  },
  {
   "cell_type": "code",
   "execution_count": 166,
   "id": "ce61175d-e3eb-49cb-a91f-8e7a370e9956",
   "metadata": {},
   "outputs": [],
   "source": [
    "txs_dict[addr] = _txs_df\n",
    "messages_dict[addr] = _messages"
   ]
  },
  {
   "cell_type": "code",
   "execution_count": 167,
   "id": "11d6eb75-c380-41e5-8c4e-037dc6a2a2a3",
   "metadata": {},
   "outputs": [
    {
     "data": {
      "text/html": [
       "<div>\n",
       "<style scoped>\n",
       "    .dataframe tbody tr th:only-of-type {\n",
       "        vertical-align: middle;\n",
       "    }\n",
       "\n",
       "    .dataframe tbody tr th {\n",
       "        vertical-align: top;\n",
       "    }\n",
       "\n",
       "    .dataframe thead th {\n",
       "        text-align: right;\n",
       "    }\n",
       "</style>\n",
       "<table border=\"1\" class=\"dataframe\">\n",
       "  <thead>\n",
       "    <tr style=\"text-align: right;\">\n",
       "      <th></th>\n",
       "      <th>from_address</th>\n",
       "      <th>to_address</th>\n",
       "      <th>tot_atom_amount</th>\n",
       "      <th>first_send_timestamp</th>\n",
       "    </tr>\n",
       "  </thead>\n",
       "  <tbody>\n",
       "    <tr>\n",
       "      <th>0</th>\n",
       "      <td>cosmos18e6wd0sscqlqprpl02lejln435y8aky8fme2jz</td>\n",
       "      <td>cosmos1p5tus3kyl8euzu385pwzcj00wu7rjkpqhzthpd</td>\n",
       "      <td>1.599191e+06</td>\n",
       "      <td>2023-05-29 15:17:41</td>\n",
       "    </tr>\n",
       "  </tbody>\n",
       "</table>\n",
       "</div>"
      ],
      "text/plain": [
       "                                    from_address  \\\n",
       "0  cosmos18e6wd0sscqlqprpl02lejln435y8aky8fme2jz   \n",
       "\n",
       "                                      to_address  tot_atom_amount  \\\n",
       "0  cosmos1p5tus3kyl8euzu385pwzcj00wu7rjkpqhzthpd     1.599191e+06   \n",
       "\n",
       "  first_send_timestamp  \n",
       "0  2023-05-29 15:17:41  "
      ]
     },
     "execution_count": 167,
     "metadata": {},
     "output_type": "execute_result"
    }
   ],
   "source": [
    "txs_df = txs_dict[addr]\n",
    "tt = txs_df[txs_df.txhash=='F98634D42DF053B52E80A0BCEB3CD00A1F20A6AA6772D2AABB3B782650868484']\n",
    "tt = get_send_txs(tt, addr, formatted_date)\n",
    "tt = get_send_summary(tt)\n",
    "txs_polished_dict[addr] = tt\n",
    "send_chains_txs = tt\n",
    "send_chains_txs"
   ]
  },
  {
   "cell_type": "code",
   "execution_count": 168,
   "id": "b3289826-249c-41ae-aca9-a03b5031bbe3",
   "metadata": {},
   "outputs": [
    {
     "data": {
      "text/plain": [
       "[('cosmos18e6wd0sscqlqprpl02lejln435y8aky8fme2jz',\n",
       "  'cosmos1p5tus3kyl8euzu385pwzcj00wu7rjkpqhzthpd',\n",
       "  '2023-05-29 15:17:41')]"
      ]
     },
     "execution_count": 168,
     "metadata": {},
     "output_type": "execute_result"
    }
   ],
   "source": [
    "txs_to_process = []\n",
    "for i, row in send_chains_txs.iterrows():\n",
    "    txs_to_process.append((row.from_address, row.to_address, row.first_send_timestamp))\n",
    "txs_to_process"
   ]
  },
  {
   "cell_type": "code",
   "execution_count": 170,
   "id": "17a35061-ce29-497d-bcdd-e5708db96195",
   "metadata": {},
   "outputs": [
    {
     "name": "stdout",
     "output_type": "stream",
     "text": [
      "('cosmos18e6wd0sscqlqprpl02lejln435y8aky8fme2jz', 'cosmos1p5tus3kyl8euzu385pwzcj00wu7rjkpqhzthpd', '2023-05-29 15:17:41')\n",
      "https://api.mintscan.io/v1/cosmos/account/cosmos1p5tus3kyl8euzu385pwzcj00wu7rjkpqhzthpd/txs?limit=25&from=0\n"
     ]
    },
    {
     "ename": "KeyError",
     "evalue": "\"Key 'data' not found. To replace missing values of 'data' with np.nan, pass in errors='ignore'\"",
     "output_type": "error",
     "traceback": [
      "\u001b[0;31m---------------------------------------------------------------------------\u001b[0m",
      "\u001b[0;31mKeyError\u001b[0m                                  Traceback (most recent call last)",
      "File \u001b[0;32m~/.local/share/virtualenvs/notebooks-_JPKyuDj/lib/python3.9/site-packages/pandas/io/json/_normalize.py:400\u001b[0m, in \u001b[0;36mjson_normalize.<locals>._pull_field\u001b[0;34m(js, spec, extract_record)\u001b[0m\n\u001b[1;32m    399\u001b[0m     \u001b[38;5;28;01melse\u001b[39;00m:\n\u001b[0;32m--> 400\u001b[0m         result \u001b[38;5;241m=\u001b[39m \u001b[43mresult\u001b[49m\u001b[43m[\u001b[49m\u001b[43mspec\u001b[49m\u001b[43m]\u001b[49m\n\u001b[1;32m    401\u001b[0m \u001b[38;5;28;01mexcept\u001b[39;00m \u001b[38;5;167;01mKeyError\u001b[39;00m \u001b[38;5;28;01mas\u001b[39;00m e:\n",
      "\u001b[0;31mKeyError\u001b[0m: 'data'",
      "\nThe above exception was the direct cause of the following exception:\n",
      "\u001b[0;31mKeyError\u001b[0m                                  Traceback (most recent call last)",
      "Cell \u001b[0;32mIn[170], line 7\u001b[0m\n\u001b[1;32m      5\u001b[0m addr \u001b[38;5;241m=\u001b[39m row[\u001b[38;5;241m1\u001b[39m]\n\u001b[1;32m      6\u001b[0m date_ \u001b[38;5;241m=\u001b[39m row[\u001b[38;5;241m2\u001b[39m]\n\u001b[0;32m----> 7\u001b[0m _txs_df, _messages \u001b[38;5;241m=\u001b[39m \u001b[43mget_txs_after_date\u001b[49m\u001b[43m(\u001b[49m\u001b[43maddr\u001b[49m\u001b[43m,\u001b[49m\u001b[43m \u001b[49m\u001b[43mformatted_date\u001b[49m\u001b[43m \u001b[49m\u001b[43m,\u001b[49m\u001b[38;5;124;43m'\u001b[39;49m\u001b[38;5;124;43mhttps://api.mintscan.io/v1/cosmos/account/\u001b[39;49m\u001b[38;5;132;43;01m{}\u001b[39;49;00m\u001b[38;5;124;43m/txs?limit=\u001b[39;49m\u001b[38;5;132;43;01m{}\u001b[39;49;00m\u001b[38;5;124;43m&from=\u001b[39;49m\u001b[38;5;132;43;01m{}\u001b[39;49;00m\u001b[38;5;124;43m'\u001b[39;49m\u001b[43m)\u001b[49m\n\u001b[1;32m      8\u001b[0m txs_dict[addr] \u001b[38;5;241m=\u001b[39m _txs_df\n\u001b[1;32m      9\u001b[0m messages_dict[addr] \u001b[38;5;241m=\u001b[39m _messages\n",
      "Cell \u001b[0;32mIn[159], line 15\u001b[0m, in \u001b[0;36mget_txs_after_date\u001b[0;34m(address, last_date, api_endpoint)\u001b[0m\n\u001b[1;32m     10\u001b[0m headers \u001b[38;5;241m=\u001b[39m {\n\u001b[1;32m     11\u001b[0m     \u001b[38;5;124m'\u001b[39m\u001b[38;5;124mUser-Agent\u001b[39m\u001b[38;5;124m'\u001b[39m: \u001b[38;5;124m'\u001b[39m\u001b[38;5;124mMozilla/5.0 (Windows NT 10.0; Win64; x64) AppleWebKit/537.36 (KHTML, like Gecko) Chrome/58.0.3029.110 Safari/537.3\u001b[39m\u001b[38;5;124m'\u001b[39m\n\u001b[1;32m     12\u001b[0m }\n\u001b[1;32m     14\u001b[0m response \u001b[38;5;241m=\u001b[39m requests\u001b[38;5;241m.\u001b[39mget(url, headers\u001b[38;5;241m=\u001b[39mheaders)\n\u001b[0;32m---> 15\u001b[0m tt \u001b[38;5;241m=\u001b[39m \u001b[43mpd\u001b[49m\u001b[38;5;241;43m.\u001b[39;49m\u001b[43mjson_normalize\u001b[49m\u001b[43m(\u001b[49m\u001b[43mresponse\u001b[49m\u001b[38;5;241;43m.\u001b[39;49m\u001b[43mjson\u001b[49m\u001b[43m(\u001b[49m\u001b[43m)\u001b[49m\u001b[43m,\u001b[49m\u001b[43m \u001b[49m\u001b[43mrecord_path\u001b[49m\u001b[38;5;241;43m=\u001b[39;49m\u001b[43m[\u001b[49m\u001b[38;5;124;43m'\u001b[39;49m\u001b[38;5;124;43mdata\u001b[39;49m\u001b[38;5;124;43m'\u001b[39;49m\u001b[43m,\u001b[49m\u001b[43m \u001b[49m\u001b[38;5;124;43m'\u001b[39;49m\u001b[38;5;124;43mtx\u001b[39;49m\u001b[38;5;124;43m'\u001b[39;49m\u001b[43m,\u001b[49m\u001b[38;5;124;43m'\u001b[39;49m\u001b[38;5;124;43mbody\u001b[39;49m\u001b[38;5;124;43m'\u001b[39;49m\u001b[43m,\u001b[49m\u001b[38;5;124;43m'\u001b[39;49m\u001b[38;5;124;43mmessages\u001b[39;49m\u001b[38;5;124;43m'\u001b[39;49m\u001b[43m]\u001b[49m\u001b[43m,\u001b[49m\u001b[43m \u001b[49m\u001b[43mmeta\u001b[49m\u001b[38;5;241;43m=\u001b[39;49m\u001b[43m[\u001b[49m\u001b[38;5;124;43m'\u001b[39;49m\u001b[38;5;124;43mdata\u001b[39;49m\u001b[38;5;124;43m'\u001b[39;49m\u001b[43m]\u001b[49m\u001b[43m)\u001b[49m\n\u001b[1;32m     16\u001b[0m tt[\u001b[38;5;124m'\u001b[39m\u001b[38;5;124mtxhash\u001b[39m\u001b[38;5;124m'\u001b[39m] \u001b[38;5;241m=\u001b[39m tt\u001b[38;5;241m.\u001b[39mdata\u001b[38;5;241m.\u001b[39mapply(\u001b[38;5;28;01mlambda\u001b[39;00m x: x[\u001b[38;5;124m'\u001b[39m\u001b[38;5;124mtxhash\u001b[39m\u001b[38;5;124m'\u001b[39m])\n\u001b[1;32m     17\u001b[0m tt[\u001b[38;5;124m'\u001b[39m\u001b[38;5;124mtimestamp\u001b[39m\u001b[38;5;124m'\u001b[39m] \u001b[38;5;241m=\u001b[39m pd\u001b[38;5;241m.\u001b[39mto_datetime(tt\u001b[38;5;241m.\u001b[39mdata\u001b[38;5;241m.\u001b[39mapply(\u001b[38;5;28;01mlambda\u001b[39;00m x: x[\u001b[38;5;124m'\u001b[39m\u001b[38;5;124mtimestamp\u001b[39m\u001b[38;5;124m'\u001b[39m]))\n",
      "File \u001b[0;32m~/.local/share/virtualenvs/notebooks-_JPKyuDj/lib/python3.9/site-packages/pandas/io/json/_normalize.py:519\u001b[0m, in \u001b[0;36mjson_normalize\u001b[0;34m(data, record_path, meta, meta_prefix, record_prefix, errors, sep, max_level)\u001b[0m\n\u001b[1;32m    516\u001b[0m                 meta_vals[key]\u001b[38;5;241m.\u001b[39mappend(meta_val)\n\u001b[1;32m    517\u001b[0m             records\u001b[38;5;241m.\u001b[39mextend(recs)\n\u001b[0;32m--> 519\u001b[0m \u001b[43m_recursive_extract\u001b[49m\u001b[43m(\u001b[49m\u001b[43mdata\u001b[49m\u001b[43m,\u001b[49m\u001b[43m \u001b[49m\u001b[43mrecord_path\u001b[49m\u001b[43m,\u001b[49m\u001b[43m \u001b[49m\u001b[43m{\u001b[49m\u001b[43m}\u001b[49m\u001b[43m,\u001b[49m\u001b[43m \u001b[49m\u001b[43mlevel\u001b[49m\u001b[38;5;241;43m=\u001b[39;49m\u001b[38;5;241;43m0\u001b[39;49m\u001b[43m)\u001b[49m\n\u001b[1;32m    521\u001b[0m result \u001b[38;5;241m=\u001b[39m DataFrame(records)\n\u001b[1;32m    523\u001b[0m \u001b[38;5;28;01mif\u001b[39;00m record_prefix \u001b[38;5;129;01mis\u001b[39;00m \u001b[38;5;129;01mnot\u001b[39;00m \u001b[38;5;28;01mNone\u001b[39;00m:\n",
      "File \u001b[0;32m~/.local/share/virtualenvs/notebooks-_JPKyuDj/lib/python3.9/site-packages/pandas/io/json/_normalize.py:496\u001b[0m, in \u001b[0;36mjson_normalize.<locals>._recursive_extract\u001b[0;34m(data, path, seen_meta, level)\u001b[0m\n\u001b[1;32m    494\u001b[0m         \u001b[38;5;28;01mfor\u001b[39;00m val, key \u001b[38;5;129;01min\u001b[39;00m \u001b[38;5;28mzip\u001b[39m(_meta, meta_keys):\n\u001b[1;32m    495\u001b[0m             \u001b[38;5;28;01mif\u001b[39;00m level \u001b[38;5;241m+\u001b[39m \u001b[38;5;241m1\u001b[39m \u001b[38;5;241m==\u001b[39m \u001b[38;5;28mlen\u001b[39m(val):\n\u001b[0;32m--> 496\u001b[0m                 seen_meta[key] \u001b[38;5;241m=\u001b[39m \u001b[43m_pull_field\u001b[49m\u001b[43m(\u001b[49m\u001b[43mobj\u001b[49m\u001b[43m,\u001b[49m\u001b[43m \u001b[49m\u001b[43mval\u001b[49m\u001b[43m[\u001b[49m\u001b[38;5;241;43m-\u001b[39;49m\u001b[38;5;241;43m1\u001b[39;49m\u001b[43m]\u001b[49m\u001b[43m)\u001b[49m\n\u001b[1;32m    498\u001b[0m         _recursive_extract(obj[path[\u001b[38;5;241m0\u001b[39m]], path[\u001b[38;5;241m1\u001b[39m:], seen_meta, level\u001b[38;5;241m=\u001b[39mlevel \u001b[38;5;241m+\u001b[39m \u001b[38;5;241m1\u001b[39m)\n\u001b[1;32m    499\u001b[0m \u001b[38;5;28;01melse\u001b[39;00m:\n",
      "File \u001b[0;32m~/.local/share/virtualenvs/notebooks-_JPKyuDj/lib/python3.9/site-packages/pandas/io/json/_normalize.py:410\u001b[0m, in \u001b[0;36mjson_normalize.<locals>._pull_field\u001b[0;34m(js, spec, extract_record)\u001b[0m\n\u001b[1;32m    408\u001b[0m         \u001b[38;5;28;01mreturn\u001b[39;00m np\u001b[38;5;241m.\u001b[39mnan\n\u001b[1;32m    409\u001b[0m     \u001b[38;5;28;01melse\u001b[39;00m:\n\u001b[0;32m--> 410\u001b[0m         \u001b[38;5;28;01mraise\u001b[39;00m \u001b[38;5;167;01mKeyError\u001b[39;00m(\n\u001b[1;32m    411\u001b[0m             \u001b[38;5;124mf\u001b[39m\u001b[38;5;124m\"\u001b[39m\u001b[38;5;124mKey \u001b[39m\u001b[38;5;132;01m{\u001b[39;00me\u001b[38;5;132;01m}\u001b[39;00m\u001b[38;5;124m not found. To replace missing values of \u001b[39m\u001b[38;5;132;01m{\u001b[39;00me\u001b[38;5;132;01m}\u001b[39;00m\u001b[38;5;124m with \u001b[39m\u001b[38;5;124m\"\u001b[39m\n\u001b[1;32m    412\u001b[0m             \u001b[38;5;124mf\u001b[39m\u001b[38;5;124m\"\u001b[39m\u001b[38;5;124mnp.nan, pass in errors=\u001b[39m\u001b[38;5;124m'\u001b[39m\u001b[38;5;124mignore\u001b[39m\u001b[38;5;124m'\u001b[39m\u001b[38;5;124m\"\u001b[39m\n\u001b[1;32m    413\u001b[0m         ) \u001b[38;5;28;01mfrom\u001b[39;00m \u001b[38;5;21;01me\u001b[39;00m\n\u001b[1;32m    415\u001b[0m \u001b[38;5;28;01mreturn\u001b[39;00m result\n",
      "\u001b[0;31mKeyError\u001b[0m: \"Key 'data' not found. To replace missing values of 'data' with np.nan, pass in errors='ignore'\""
     ]
    }
   ],
   "source": [
    "i = 0\n",
    "while True:\n",
    "    #parse inputs\n",
    "    row = txs_to_process[i]\n",
    "    print(row)\n",
    "    addr = row[1]\n",
    "    date_ = row[2]\n",
    "    #fetch data\n",
    "    _txs_df, _messages = get_txs_after_date(addr, formatted_date ,'https://api.mintscan.io/v1/cosmos/account/{}/txs?limit={}&from={}')\n",
    "    #store raw data\n",
    "    txs_dict[addr] = _txs_df\n",
    "    messages_dict[addr] = _messages\n",
    "    #process data\n",
    "    tt = txs_dict[addr]\n",
    "    tt = get_send_txs(tt, addr, date_)\n",
    "    tt = get_send_summary(tt)\n",
    "    send_chains_txs = pd.concat([send_chains_txs,tt])\n",
    "    #add to txs to process\n",
    "    for i, row in tt.iterrows():\n",
    "        txs_to_process.append((row.from_address, row.to_address, row.first_send_timestamp))\n",
    "    print(txs_to_process)\n",
    "    i += 1\n",
    "    if(len(txs_to_process) <= i):\n",
    "        break"
   ]
  },
  {
   "cell_type": "code",
   "execution_count": 142,
   "id": "fa5ebb0c-adf1-4099-90b6-a3e6e168f344",
   "metadata": {},
   "outputs": [
    {
     "data": {
      "text/html": [
       "<div>\n",
       "<style scoped>\n",
       "    .dataframe tbody tr th:only-of-type {\n",
       "        vertical-align: middle;\n",
       "    }\n",
       "\n",
       "    .dataframe tbody tr th {\n",
       "        vertical-align: top;\n",
       "    }\n",
       "\n",
       "    .dataframe thead th {\n",
       "        text-align: right;\n",
       "    }\n",
       "</style>\n",
       "<table border=\"1\" class=\"dataframe\">\n",
       "  <thead>\n",
       "    <tr style=\"text-align: right;\">\n",
       "      <th></th>\n",
       "      <th>from_address</th>\n",
       "      <th>to_address</th>\n",
       "      <th>tot_atom_amount</th>\n",
       "      <th>first_send_timestamp</th>\n",
       "    </tr>\n",
       "  </thead>\n",
       "  <tbody>\n",
       "    <tr>\n",
       "      <th>0</th>\n",
       "      <td>cosmos18e6wd0sscqlqprpl02lejln435y8aky8fme2jz</td>\n",
       "      <td>cosmos1p5tus3kyl8euzu385pwzcj00wu7rjkpqhzthpd</td>\n",
       "      <td>1.599191e+06</td>\n",
       "      <td>2023-05-29 15:17:41</td>\n",
       "    </tr>\n",
       "    <tr>\n",
       "      <th>0</th>\n",
       "      <td>cosmos1p5tus3kyl8euzu385pwzcj00wu7rjkpqhzthpd</td>\n",
       "      <td>cosmos1cms24y2e42d0q7wurxsk7ff8guu4lphd6jsza4</td>\n",
       "      <td>6.500500e+04</td>\n",
       "      <td>2023-05-31 02:54:41</td>\n",
       "    </tr>\n",
       "    <tr>\n",
       "      <th>1</th>\n",
       "      <td>cosmos1p5tus3kyl8euzu385pwzcj00wu7rjkpqhzthpd</td>\n",
       "      <td>cosmos1kfr242rvysart9k2ycz7l63t5yz9pvl7qlpyqt</td>\n",
       "      <td>1.275966e+06</td>\n",
       "      <td>2023-05-31 02:59:37</td>\n",
       "    </tr>\n",
       "    <tr>\n",
       "      <th>2</th>\n",
       "      <td>cosmos1p5tus3kyl8euzu385pwzcj00wu7rjkpqhzthpd</td>\n",
       "      <td>cosmos1w5mtmtuey5a3f59d9m0xh2quh90ze2vjj06rn2</td>\n",
       "      <td>6.100000e+05</td>\n",
       "      <td>2023-06-02 14:10:54</td>\n",
       "    </tr>\n",
       "  </tbody>\n",
       "</table>\n",
       "</div>"
      ],
      "text/plain": [
       "                                    from_address  \\\n",
       "0  cosmos18e6wd0sscqlqprpl02lejln435y8aky8fme2jz   \n",
       "0  cosmos1p5tus3kyl8euzu385pwzcj00wu7rjkpqhzthpd   \n",
       "1  cosmos1p5tus3kyl8euzu385pwzcj00wu7rjkpqhzthpd   \n",
       "2  cosmos1p5tus3kyl8euzu385pwzcj00wu7rjkpqhzthpd   \n",
       "\n",
       "                                      to_address  tot_atom_amount  \\\n",
       "0  cosmos1p5tus3kyl8euzu385pwzcj00wu7rjkpqhzthpd     1.599191e+06   \n",
       "0  cosmos1cms24y2e42d0q7wurxsk7ff8guu4lphd6jsza4     6.500500e+04   \n",
       "1  cosmos1kfr242rvysart9k2ycz7l63t5yz9pvl7qlpyqt     1.275966e+06   \n",
       "2  cosmos1w5mtmtuey5a3f59d9m0xh2quh90ze2vjj06rn2     6.100000e+05   \n",
       "\n",
       "  first_send_timestamp  \n",
       "0  2023-05-29 15:17:41  \n",
       "0  2023-05-31 02:54:41  \n",
       "1  2023-05-31 02:59:37  \n",
       "2  2023-06-02 14:10:54  "
      ]
     },
     "execution_count": 142,
     "metadata": {},
     "output_type": "execute_result"
    }
   ],
   "source": [
    "send_chains_txs.sort_values(by='first_send_timestamp')"
   ]
  },
  {
   "cell_type": "code",
   "execution_count": 148,
   "id": "3aa5eb99-991b-4d40-b6e2-5d67cf7814e7",
   "metadata": {},
   "outputs": [
    {
     "name": "stdout",
     "output_type": "stream",
     "text": [
      "(1, 'ciao')\n",
      "(2, 'tutto bene?')\n",
      "(3, 'yes')\n"
     ]
    }
   ],
   "source": [
    "tt = [(1,'ciao')]\n",
    "i = 0\n",
    "while True:\n",
    "    print(tt[i])\n",
    "    if(tt[i][1]=='ciao'):\n",
    "        tt.append((2,'tutto bene?'))\n",
    "    if(tt[i][1]=='tutto bene?'):\n",
    "        tt.append((3,'yes'))\n",
    "    i += 1\n",
    "    if(len(tt) <= i):\n",
    "        break"
   ]
  },
  {
   "cell_type": "code",
   "execution_count": null,
   "id": "3df771dd-6f5a-4067-82ca-ae96cbd2c765",
   "metadata": {},
   "outputs": [],
   "source": []
  }
 ],
 "metadata": {
  "kernelspec": {
   "display_name": "Python 3 (ipykernel)",
   "language": "python",
   "name": "python3"
  },
  "language_info": {
   "codemirror_mode": {
    "name": "ipython",
    "version": 3
   },
   "file_extension": ".py",
   "mimetype": "text/x-python",
   "name": "python",
   "nbconvert_exporter": "python",
   "pygments_lexer": "ipython3",
   "version": "3.9.17"
  }
 },
 "nbformat": 4,
 "nbformat_minor": 5
}
