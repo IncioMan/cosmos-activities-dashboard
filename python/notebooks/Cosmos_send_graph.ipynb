{
 "cells": [
  {
   "cell_type": "code",
   "execution_count": 257,
   "id": "b5cbeefb-ad75-4519-bcec-6f094e496f45",
   "metadata": {},
   "outputs": [],
   "source": [
    "import requests\n",
    "import json\n",
    "import pandas as pd\n",
    "import time\n",
    "import re\n",
    "import urllib\n",
    "import matplotlib\n",
    "import numpy as np\n",
    "from datetime import datetime \n",
    "pd.set_option('display.max_colwidth', None)"
   ]
  },
  {
   "cell_type": "code",
   "execution_count": 258,
   "id": "650b9fce-8f6c-4529-8241-373ecc74c7ef",
   "metadata": {},
   "outputs": [],
   "source": [
    "def get_txs_after_date(address, last_date, api_endpoint):\n",
    "    txs_df = None\n",
    "    messages = []\n",
    "    txs_from_date = None\n",
    "    start = 0\n",
    "    limit = 25\n",
    "    while True:     \n",
    "        url = api_endpoint.format(address, limit, start)\n",
    "        print(url)\n",
    "        time.sleep(30)\n",
    "        headers = {\n",
    "            'User-Agent': 'Mozilla/5.0 (Windows NT 10.0; Win64; x64) AppleWebKit/537.36 (KHTML, like Gecko) Chrome/58.0.3029.110 Safari/537.3'\n",
    "        }\n",
    "        try:\n",
    "            response = requests.get(url, headers=headers)\n",
    "            if(len(response.json())==0):\n",
    "                break\n",
    "            tt = pd.json_normalize(response.json(), record_path=['data', 'tx','body','messages'], meta=['data'])\n",
    "            tt['txhash'] = tt.data.apply(lambda x: x['txhash'])\n",
    "            tt['timestamp'] = pd.to_datetime(tt.data.apply(lambda x: x['timestamp']))\n",
    "            tt = tt.drop(columns=['data'])\n",
    "            tt['timestamp_str'] = tt.timestamp.dt.strftime(\"%Y-%m-%d %H:%M:%S\")\n",
    "            if(txs_df is None):\n",
    "                txs_df = tt\n",
    "            else:\n",
    "                txs_df = pd.concat([txs_df, tt])\n",
    "            messages.append(response.json())\n",
    "            txs_before_date = tt[tt['timestamp_str'] < last_date]\n",
    "            txs_from_date = tt[tt['timestamp_str'] >= last_date]\n",
    "            if(len(txs_before_date) > 0):\n",
    "                break\n",
    "            start += limit\n",
    "        except Exception as e:\n",
    "            print(\"Error\", e)\n",
    "            break\n",
    "    return txs_from_date, messages"
   ]
  },
  {
   "cell_type": "code",
   "execution_count": 259,
   "id": "c13b4135-2906-4471-87d3-73495b748c79",
   "metadata": {},
   "outputs": [],
   "source": [
    "def get_atom_amount(amounts):\n",
    "    for amount in amounts:\n",
    "        if(amount['denom']=='uatom'):\n",
    "            return int(amount['amount'])/1000000\n",
    "            \n",
    "def get_send_txs(df, addr, after_date):\n",
    "    df = df[df.from_address==addr]\n",
    "    df = df[df.timestamp_str >= after_date]\n",
    "    df = df[df['@type']=='/cosmos.bank.v1beta1.MsgSend']\n",
    "    df['atom_amount']= df.amount.apply(get_atom_amount)\n",
    "    return df"
   ]
  },
  {
   "cell_type": "code",
   "execution_count": 260,
   "id": "70c3f234-808e-4124-8e80-51f78066b65d",
   "metadata": {},
   "outputs": [],
   "source": [
    "def get_send_summary(df):\n",
    "    dd = tt[['from_address','to_address','atom_amount','timestamp_str']]\\\n",
    "            .groupby(['from_address','to_address']).agg(tot_atom_amount=('atom_amount', np.sum),\n",
    "                                                    first_send_timestamp=('timestamp_str', np.min))\\\n",
    "            .reset_index()\n",
    "    return dd"
   ]
  },
  {
   "cell_type": "code",
   "execution_count": 261,
   "id": "43994dd8-3c92-4308-bf73-d0bc2dcae5e9",
   "metadata": {},
   "outputs": [
    {
     "name": "stdout",
     "output_type": "stream",
     "text": [
      "2023-05-01 12:18:29\n"
     ]
    }
   ],
   "source": [
    "from datetime import datetime, timedelta\n",
    "\n",
    "# Get today's date\n",
    "today = datetime.today()\n",
    "# Calculate one month ago by subtracting timedelta\n",
    "one_month_ago = today - timedelta(days=90)\n",
    "# Format the result as a string (optional)\n",
    "formatted_date = one_month_ago.strftime('%Y-%m-%d %H:%M:%S')\n",
    "print(formatted_date)"
   ]
  },
  {
   "cell_type": "code",
   "execution_count": 262,
   "id": "bfa0c378-8a50-401b-aaa1-4b9ba5a2c736",
   "metadata": {},
   "outputs": [],
   "source": [
    "txs_dict = {} \n",
    "txs_polished_dict = {}\n",
    "messages_dict = {}\n",
    "send_chains_txs = None"
   ]
  },
  {
   "cell_type": "code",
   "execution_count": 263,
   "id": "4eb46082-513c-4569-8f73-2109160ce67a",
   "metadata": {},
   "outputs": [],
   "source": [
    "addr = 'cosmos18e6wd0sscqlqprpl02lejln435y8aky8fme2jz'"
   ]
  },
  {
   "cell_type": "code",
   "execution_count": 264,
   "id": "de83d5a6-7e30-41bd-86b5-f7088d5b4703",
   "metadata": {},
   "outputs": [
    {
     "name": "stdout",
     "output_type": "stream",
     "text": [
      "https://api.mintscan.io/v1/cosmos/account/cosmos18e6wd0sscqlqprpl02lejln435y8aky8fme2jz/txs?limit=25&from=0\n"
     ]
    }
   ],
   "source": [
    "_txs_df, _messages = get_txs_after_date(addr, formatted_date ,'https://api.mintscan.io/v1/cosmos/account/{}/txs?limit={}&from={}')"
   ]
  },
  {
   "cell_type": "code",
   "execution_count": 265,
   "id": "ce61175d-e3eb-49cb-a91f-8e7a370e9956",
   "metadata": {},
   "outputs": [],
   "source": [
    "txs_dict[addr] = _txs_df\n",
    "messages_dict[addr] = _messages"
   ]
  },
  {
   "cell_type": "code",
   "execution_count": 266,
   "id": "11d6eb75-c380-41e5-8c4e-037dc6a2a2a3",
   "metadata": {},
   "outputs": [
    {
     "data": {
      "text/html": [
       "<div>\n",
       "<style scoped>\n",
       "    .dataframe tbody tr th:only-of-type {\n",
       "        vertical-align: middle;\n",
       "    }\n",
       "\n",
       "    .dataframe tbody tr th {\n",
       "        vertical-align: top;\n",
       "    }\n",
       "\n",
       "    .dataframe thead th {\n",
       "        text-align: right;\n",
       "    }\n",
       "</style>\n",
       "<table border=\"1\" class=\"dataframe\">\n",
       "  <thead>\n",
       "    <tr style=\"text-align: right;\">\n",
       "      <th></th>\n",
       "      <th>from_address</th>\n",
       "      <th>to_address</th>\n",
       "      <th>tot_atom_amount</th>\n",
       "      <th>first_send_timestamp</th>\n",
       "    </tr>\n",
       "  </thead>\n",
       "  <tbody>\n",
       "    <tr>\n",
       "      <th>0</th>\n",
       "      <td>cosmos18e6wd0sscqlqprpl02lejln435y8aky8fme2jz</td>\n",
       "      <td>cosmos1p5tus3kyl8euzu385pwzcj00wu7rjkpqhzthpd</td>\n",
       "      <td>1.599191e+06</td>\n",
       "      <td>2023-05-29 15:17:41</td>\n",
       "    </tr>\n",
       "  </tbody>\n",
       "</table>\n",
       "</div>"
      ],
      "text/plain": [
       "                                    from_address  \\\n",
       "0  cosmos18e6wd0sscqlqprpl02lejln435y8aky8fme2jz   \n",
       "\n",
       "                                      to_address  tot_atom_amount  \\\n",
       "0  cosmos1p5tus3kyl8euzu385pwzcj00wu7rjkpqhzthpd     1.599191e+06   \n",
       "\n",
       "  first_send_timestamp  \n",
       "0  2023-05-29 15:17:41  "
      ]
     },
     "execution_count": 266,
     "metadata": {},
     "output_type": "execute_result"
    }
   ],
   "source": [
    "txs_df = txs_dict[addr]\n",
    "tt = txs_df[txs_df.txhash=='F98634D42DF053B52E80A0BCEB3CD00A1F20A6AA6772D2AABB3B782650868484']\n",
    "tt = get_send_txs(tt, addr, formatted_date)\n",
    "tt = get_send_summary(tt)\n",
    "txs_polished_dict[addr] = tt\n",
    "send_chains_txs = tt\n",
    "send_chains_txs"
   ]
  },
  {
   "cell_type": "code",
   "execution_count": 267,
   "id": "b3289826-249c-41ae-aca9-a03b5031bbe3",
   "metadata": {},
   "outputs": [
    {
     "data": {
      "text/plain": [
       "[('cosmos18e6wd0sscqlqprpl02lejln435y8aky8fme2jz',\n",
       "  'cosmos1p5tus3kyl8euzu385pwzcj00wu7rjkpqhzthpd',\n",
       "  '2023-05-29 15:17:41')]"
      ]
     },
     "execution_count": 267,
     "metadata": {},
     "output_type": "execute_result"
    }
   ],
   "source": [
    "txs_to_process = []\n",
    "for i, row in send_chains_txs.iterrows():\n",
    "    txs_to_process.append((row.from_address, row.to_address, row.first_send_timestamp))\n",
    "txs_to_process"
   ]
  },
  {
   "cell_type": "code",
   "execution_count": 268,
   "id": "389df30f-9a64-44fb-9c60-9af4c935e321",
   "metadata": {},
   "outputs": [],
   "source": [
    "i = 0"
   ]
  },
  {
   "cell_type": "code",
   "execution_count": 269,
   "id": "17a35061-ce29-497d-bcdd-e5708db96195",
   "metadata": {},
   "outputs": [
    {
     "name": "stdout",
     "output_type": "stream",
     "text": [
      "('cosmos18e6wd0sscqlqprpl02lejln435y8aky8fme2jz', 'cosmos1p5tus3kyl8euzu385pwzcj00wu7rjkpqhzthpd', '2023-05-29 15:17:41')\n",
      "https://api.mintscan.io/v1/cosmos/account/cosmos1p5tus3kyl8euzu385pwzcj00wu7rjkpqhzthpd/txs?limit=25&from=0\n",
      "[('cosmos18e6wd0sscqlqprpl02lejln435y8aky8fme2jz', 'cosmos1p5tus3kyl8euzu385pwzcj00wu7rjkpqhzthpd', '2023-05-29 15:17:41'), ('cosmos1p5tus3kyl8euzu385pwzcj00wu7rjkpqhzthpd', 'cosmos1cms24y2e42d0q7wurxsk7ff8guu4lphd6jsza4', '2023-05-31 02:54:41'), ('cosmos1p5tus3kyl8euzu385pwzcj00wu7rjkpqhzthpd', 'cosmos1kfr242rvysart9k2ycz7l63t5yz9pvl7qlpyqt', '2023-05-31 02:59:37'), ('cosmos1p5tus3kyl8euzu385pwzcj00wu7rjkpqhzthpd', 'cosmos1w5mtmtuey5a3f59d9m0xh2quh90ze2vjj06rn2', '2023-06-02 14:10:54')]\n",
      "('cosmos1p5tus3kyl8euzu385pwzcj00wu7rjkpqhzthpd', 'cosmos1cms24y2e42d0q7wurxsk7ff8guu4lphd6jsza4', '2023-05-31 02:54:41')\n",
      "https://api.mintscan.io/v1/cosmos/account/cosmos1cms24y2e42d0q7wurxsk7ff8guu4lphd6jsza4/txs?limit=25&from=0\n",
      "[('cosmos18e6wd0sscqlqprpl02lejln435y8aky8fme2jz', 'cosmos1p5tus3kyl8euzu385pwzcj00wu7rjkpqhzthpd', '2023-05-29 15:17:41'), ('cosmos1p5tus3kyl8euzu385pwzcj00wu7rjkpqhzthpd', 'cosmos1cms24y2e42d0q7wurxsk7ff8guu4lphd6jsza4', '2023-05-31 02:54:41'), ('cosmos1p5tus3kyl8euzu385pwzcj00wu7rjkpqhzthpd', 'cosmos1kfr242rvysart9k2ycz7l63t5yz9pvl7qlpyqt', '2023-05-31 02:59:37'), ('cosmos1p5tus3kyl8euzu385pwzcj00wu7rjkpqhzthpd', 'cosmos1w5mtmtuey5a3f59d9m0xh2quh90ze2vjj06rn2', '2023-06-02 14:10:54')]\n",
      "('cosmos1p5tus3kyl8euzu385pwzcj00wu7rjkpqhzthpd', 'cosmos1kfr242rvysart9k2ycz7l63t5yz9pvl7qlpyqt', '2023-05-31 02:59:37')\n",
      "https://api.mintscan.io/v1/cosmos/account/cosmos1kfr242rvysart9k2ycz7l63t5yz9pvl7qlpyqt/txs?limit=25&from=0\n",
      "https://api.mintscan.io/v1/cosmos/account/cosmos1kfr242rvysart9k2ycz7l63t5yz9pvl7qlpyqt/txs?limit=25&from=25\n",
      "[('cosmos18e6wd0sscqlqprpl02lejln435y8aky8fme2jz', 'cosmos1p5tus3kyl8euzu385pwzcj00wu7rjkpqhzthpd', '2023-05-29 15:17:41'), ('cosmos1p5tus3kyl8euzu385pwzcj00wu7rjkpqhzthpd', 'cosmos1cms24y2e42d0q7wurxsk7ff8guu4lphd6jsza4', '2023-05-31 02:54:41'), ('cosmos1p5tus3kyl8euzu385pwzcj00wu7rjkpqhzthpd', 'cosmos1kfr242rvysart9k2ycz7l63t5yz9pvl7qlpyqt', '2023-05-31 02:59:37'), ('cosmos1p5tus3kyl8euzu385pwzcj00wu7rjkpqhzthpd', 'cosmos1w5mtmtuey5a3f59d9m0xh2quh90ze2vjj06rn2', '2023-06-02 14:10:54'), ('cosmos1kfr242rvysart9k2ycz7l63t5yz9pvl7qlpyqt', 'cosmos1p5tus3kyl8euzu385pwzcj00wu7rjkpqhzthpd', '2023-07-14 17:24:56'), ('cosmos1kfr242rvysart9k2ycz7l63t5yz9pvl7qlpyqt', 'cosmos1scwcfre6h4c7epkyrdfegpeaz8umqldl50gn8w', '2023-06-22 00:40:49')]\n",
      "('cosmos1p5tus3kyl8euzu385pwzcj00wu7rjkpqhzthpd', 'cosmos1w5mtmtuey5a3f59d9m0xh2quh90ze2vjj06rn2', '2023-06-02 14:10:54')\n",
      "https://api.mintscan.io/v1/cosmos/account/cosmos1w5mtmtuey5a3f59d9m0xh2quh90ze2vjj06rn2/txs?limit=25&from=0\n",
      "https://api.mintscan.io/v1/cosmos/account/cosmos1w5mtmtuey5a3f59d9m0xh2quh90ze2vjj06rn2/txs?limit=25&from=25\n",
      "[('cosmos18e6wd0sscqlqprpl02lejln435y8aky8fme2jz', 'cosmos1p5tus3kyl8euzu385pwzcj00wu7rjkpqhzthpd', '2023-05-29 15:17:41'), ('cosmos1p5tus3kyl8euzu385pwzcj00wu7rjkpqhzthpd', 'cosmos1cms24y2e42d0q7wurxsk7ff8guu4lphd6jsza4', '2023-05-31 02:54:41'), ('cosmos1p5tus3kyl8euzu385pwzcj00wu7rjkpqhzthpd', 'cosmos1kfr242rvysart9k2ycz7l63t5yz9pvl7qlpyqt', '2023-05-31 02:59:37'), ('cosmos1p5tus3kyl8euzu385pwzcj00wu7rjkpqhzthpd', 'cosmos1w5mtmtuey5a3f59d9m0xh2quh90ze2vjj06rn2', '2023-06-02 14:10:54'), ('cosmos1kfr242rvysart9k2ycz7l63t5yz9pvl7qlpyqt', 'cosmos1p5tus3kyl8euzu385pwzcj00wu7rjkpqhzthpd', '2023-07-14 17:24:56'), ('cosmos1kfr242rvysart9k2ycz7l63t5yz9pvl7qlpyqt', 'cosmos1scwcfre6h4c7epkyrdfegpeaz8umqldl50gn8w', '2023-06-22 00:40:49'), ('cosmos1w5mtmtuey5a3f59d9m0xh2quh90ze2vjj06rn2', 'cosmos10cqac3qmh92j6medf9lesfgrg98xutxgrg3q4k', '2023-07-30 00:39:38'), ('cosmos1w5mtmtuey5a3f59d9m0xh2quh90ze2vjj06rn2', 'cosmos10gd379e6e8skpgfx6zqqymnrz8zsa5mxttdg36', '2023-07-30 11:21:15'), ('cosmos1w5mtmtuey5a3f59d9m0xh2quh90ze2vjj06rn2', 'cosmos13mt9szsv3a8qz65tkztr6kyyw7ydvjm2swn26l', '2023-07-29 18:30:40'), ('cosmos1w5mtmtuey5a3f59d9m0xh2quh90ze2vjj06rn2', 'cosmos15yvvex59pnxxxpckxjl7jjhnazxmv6eek9vetm', '2023-07-30 04:31:36'), ('cosmos1w5mtmtuey5a3f59d9m0xh2quh90ze2vjj06rn2', 'cosmos19e5d3uf5q8mlxyxge4ghkztsg378jv9kp6kdmh', '2023-07-29 23:08:10'), ('cosmos1w5mtmtuey5a3f59d9m0xh2quh90ze2vjj06rn2', 'cosmos19tkvqyq3869q22w8497da53mjuy3rwadsa5km6', '2023-07-30 01:26:41'), ('cosmos1w5mtmtuey5a3f59d9m0xh2quh90ze2vjj06rn2', 'cosmos1ea3gsrptfxf4ve4qys6j8vgerazgy787xrkmqv', '2023-07-30 03:18:10'), ('cosmos1w5mtmtuey5a3f59d9m0xh2quh90ze2vjj06rn2', 'cosmos1esy64q9u68zhnx3m7tkz5kljryagsh07wh27lx', '2023-07-29 20:24:41'), ('cosmos1w5mtmtuey5a3f59d9m0xh2quh90ze2vjj06rn2', 'cosmos1hca6yklp6kucxwv5vru84vglh4tf2l6ttrye28', '2023-07-29 23:21:39'), ('cosmos1w5mtmtuey5a3f59d9m0xh2quh90ze2vjj06rn2', 'cosmos1j8pp7zvcu9z8vd882m284j29fn2dszh05cqvf9', '2023-07-29 21:11:10'), ('cosmos1w5mtmtuey5a3f59d9m0xh2quh90ze2vjj06rn2', 'cosmos1ju6722m6qwwjy9jq8qnvmv6lppsgsu6uljlu6a', '2023-07-29 19:56:43'), ('cosmos1w5mtmtuey5a3f59d9m0xh2quh90ze2vjj06rn2', 'cosmos1mqnw33m9d3l986k5xwctlegvzdd5uycf87085d', '2023-07-30 07:13:07'), ('cosmos1w5mtmtuey5a3f59d9m0xh2quh90ze2vjj06rn2', 'cosmos1pfdm4r32ean5pw87q0w6wr0ttspdpv4dtmj99m', '2023-07-30 01:30:37'), ('cosmos1w5mtmtuey5a3f59d9m0xh2quh90ze2vjj06rn2', 'cosmos1qfkgm6mx9zdct0vt2um84c80rmz56dhcec6xdl', '2023-07-29 19:54:14'), ('cosmos1w5mtmtuey5a3f59d9m0xh2quh90ze2vjj06rn2', 'cosmos1th8zfkyr38vfznz8krnvslu83ra7kpe4j9fnc7', '2023-07-30 00:52:10'), ('cosmos1w5mtmtuey5a3f59d9m0xh2quh90ze2vjj06rn2', 'cosmos1ua97fl9pa2m5x0hdrlr68mm927cgkn750y7ytg', '2023-07-29 18:43:09'), ('cosmos1w5mtmtuey5a3f59d9m0xh2quh90ze2vjj06rn2', 'cosmos1wuvcqw3m4vfd9w2eg9epd82eqg02a33u4qryd8', '2023-07-29 21:26:37'), ('cosmos1w5mtmtuey5a3f59d9m0xh2quh90ze2vjj06rn2', 'cosmos1x5jqsut2c789x7hdynjpvqsw6z6ahd2s3guajd', '2023-07-30 02:29:09'), ('cosmos1w5mtmtuey5a3f59d9m0xh2quh90ze2vjj06rn2', 'cosmos1yzhk4vraz0er3s2x5pcpayxsur3vwpkvv5lya7', '2023-07-30 02:31:41')]\n",
      "('cosmos1kfr242rvysart9k2ycz7l63t5yz9pvl7qlpyqt', 'cosmos1p5tus3kyl8euzu385pwzcj00wu7rjkpqhzthpd', '2023-07-14 17:24:56')\n",
      "https://api.mintscan.io/v1/cosmos/account/cosmos1p5tus3kyl8euzu385pwzcj00wu7rjkpqhzthpd/txs?limit=25&from=0\n",
      "[('cosmos18e6wd0sscqlqprpl02lejln435y8aky8fme2jz', 'cosmos1p5tus3kyl8euzu385pwzcj00wu7rjkpqhzthpd', '2023-05-29 15:17:41'), ('cosmos1p5tus3kyl8euzu385pwzcj00wu7rjkpqhzthpd', 'cosmos1cms24y2e42d0q7wurxsk7ff8guu4lphd6jsza4', '2023-05-31 02:54:41'), ('cosmos1p5tus3kyl8euzu385pwzcj00wu7rjkpqhzthpd', 'cosmos1kfr242rvysart9k2ycz7l63t5yz9pvl7qlpyqt', '2023-05-31 02:59:37'), ('cosmos1p5tus3kyl8euzu385pwzcj00wu7rjkpqhzthpd', 'cosmos1w5mtmtuey5a3f59d9m0xh2quh90ze2vjj06rn2', '2023-06-02 14:10:54'), ('cosmos1kfr242rvysart9k2ycz7l63t5yz9pvl7qlpyqt', 'cosmos1p5tus3kyl8euzu385pwzcj00wu7rjkpqhzthpd', '2023-07-14 17:24:56'), ('cosmos1kfr242rvysart9k2ycz7l63t5yz9pvl7qlpyqt', 'cosmos1scwcfre6h4c7epkyrdfegpeaz8umqldl50gn8w', '2023-06-22 00:40:49'), ('cosmos1w5mtmtuey5a3f59d9m0xh2quh90ze2vjj06rn2', 'cosmos10cqac3qmh92j6medf9lesfgrg98xutxgrg3q4k', '2023-07-30 00:39:38'), ('cosmos1w5mtmtuey5a3f59d9m0xh2quh90ze2vjj06rn2', 'cosmos10gd379e6e8skpgfx6zqqymnrz8zsa5mxttdg36', '2023-07-30 11:21:15'), ('cosmos1w5mtmtuey5a3f59d9m0xh2quh90ze2vjj06rn2', 'cosmos13mt9szsv3a8qz65tkztr6kyyw7ydvjm2swn26l', '2023-07-29 18:30:40'), ('cosmos1w5mtmtuey5a3f59d9m0xh2quh90ze2vjj06rn2', 'cosmos15yvvex59pnxxxpckxjl7jjhnazxmv6eek9vetm', '2023-07-30 04:31:36'), ('cosmos1w5mtmtuey5a3f59d9m0xh2quh90ze2vjj06rn2', 'cosmos19e5d3uf5q8mlxyxge4ghkztsg378jv9kp6kdmh', '2023-07-29 23:08:10'), ('cosmos1w5mtmtuey5a3f59d9m0xh2quh90ze2vjj06rn2', 'cosmos19tkvqyq3869q22w8497da53mjuy3rwadsa5km6', '2023-07-30 01:26:41'), ('cosmos1w5mtmtuey5a3f59d9m0xh2quh90ze2vjj06rn2', 'cosmos1ea3gsrptfxf4ve4qys6j8vgerazgy787xrkmqv', '2023-07-30 03:18:10'), ('cosmos1w5mtmtuey5a3f59d9m0xh2quh90ze2vjj06rn2', 'cosmos1esy64q9u68zhnx3m7tkz5kljryagsh07wh27lx', '2023-07-29 20:24:41'), ('cosmos1w5mtmtuey5a3f59d9m0xh2quh90ze2vjj06rn2', 'cosmos1hca6yklp6kucxwv5vru84vglh4tf2l6ttrye28', '2023-07-29 23:21:39'), ('cosmos1w5mtmtuey5a3f59d9m0xh2quh90ze2vjj06rn2', 'cosmos1j8pp7zvcu9z8vd882m284j29fn2dszh05cqvf9', '2023-07-29 21:11:10'), ('cosmos1w5mtmtuey5a3f59d9m0xh2quh90ze2vjj06rn2', 'cosmos1ju6722m6qwwjy9jq8qnvmv6lppsgsu6uljlu6a', '2023-07-29 19:56:43'), ('cosmos1w5mtmtuey5a3f59d9m0xh2quh90ze2vjj06rn2', 'cosmos1mqnw33m9d3l986k5xwctlegvzdd5uycf87085d', '2023-07-30 07:13:07'), ('cosmos1w5mtmtuey5a3f59d9m0xh2quh90ze2vjj06rn2', 'cosmos1pfdm4r32ean5pw87q0w6wr0ttspdpv4dtmj99m', '2023-07-30 01:30:37'), ('cosmos1w5mtmtuey5a3f59d9m0xh2quh90ze2vjj06rn2', 'cosmos1qfkgm6mx9zdct0vt2um84c80rmz56dhcec6xdl', '2023-07-29 19:54:14'), ('cosmos1w5mtmtuey5a3f59d9m0xh2quh90ze2vjj06rn2', 'cosmos1th8zfkyr38vfznz8krnvslu83ra7kpe4j9fnc7', '2023-07-30 00:52:10'), ('cosmos1w5mtmtuey5a3f59d9m0xh2quh90ze2vjj06rn2', 'cosmos1ua97fl9pa2m5x0hdrlr68mm927cgkn750y7ytg', '2023-07-29 18:43:09'), ('cosmos1w5mtmtuey5a3f59d9m0xh2quh90ze2vjj06rn2', 'cosmos1wuvcqw3m4vfd9w2eg9epd82eqg02a33u4qryd8', '2023-07-29 21:26:37'), ('cosmos1w5mtmtuey5a3f59d9m0xh2quh90ze2vjj06rn2', 'cosmos1x5jqsut2c789x7hdynjpvqsw6z6ahd2s3guajd', '2023-07-30 02:29:09'), ('cosmos1w5mtmtuey5a3f59d9m0xh2quh90ze2vjj06rn2', 'cosmos1yzhk4vraz0er3s2x5pcpayxsur3vwpkvv5lya7', '2023-07-30 02:31:41')]\n",
      "('cosmos1kfr242rvysart9k2ycz7l63t5yz9pvl7qlpyqt', 'cosmos1scwcfre6h4c7epkyrdfegpeaz8umqldl50gn8w', '2023-06-22 00:40:49')\n",
      "https://api.mintscan.io/v1/cosmos/account/cosmos1scwcfre6h4c7epkyrdfegpeaz8umqldl50gn8w/txs?limit=25&from=0\n",
      "https://api.mintscan.io/v1/cosmos/account/cosmos1scwcfre6h4c7epkyrdfegpeaz8umqldl50gn8w/txs?limit=25&from=25\n",
      "Error \"Key 'data' not found. To replace missing values of 'data' with np.nan, pass in errors='ignore'\"\n",
      "[('cosmos18e6wd0sscqlqprpl02lejln435y8aky8fme2jz', 'cosmos1p5tus3kyl8euzu385pwzcj00wu7rjkpqhzthpd', '2023-05-29 15:17:41'), ('cosmos1p5tus3kyl8euzu385pwzcj00wu7rjkpqhzthpd', 'cosmos1cms24y2e42d0q7wurxsk7ff8guu4lphd6jsza4', '2023-05-31 02:54:41'), ('cosmos1p5tus3kyl8euzu385pwzcj00wu7rjkpqhzthpd', 'cosmos1kfr242rvysart9k2ycz7l63t5yz9pvl7qlpyqt', '2023-05-31 02:59:37'), ('cosmos1p5tus3kyl8euzu385pwzcj00wu7rjkpqhzthpd', 'cosmos1w5mtmtuey5a3f59d9m0xh2quh90ze2vjj06rn2', '2023-06-02 14:10:54'), ('cosmos1kfr242rvysart9k2ycz7l63t5yz9pvl7qlpyqt', 'cosmos1p5tus3kyl8euzu385pwzcj00wu7rjkpqhzthpd', '2023-07-14 17:24:56'), ('cosmos1kfr242rvysart9k2ycz7l63t5yz9pvl7qlpyqt', 'cosmos1scwcfre6h4c7epkyrdfegpeaz8umqldl50gn8w', '2023-06-22 00:40:49'), ('cosmos1w5mtmtuey5a3f59d9m0xh2quh90ze2vjj06rn2', 'cosmos10cqac3qmh92j6medf9lesfgrg98xutxgrg3q4k', '2023-07-30 00:39:38'), ('cosmos1w5mtmtuey5a3f59d9m0xh2quh90ze2vjj06rn2', 'cosmos10gd379e6e8skpgfx6zqqymnrz8zsa5mxttdg36', '2023-07-30 11:21:15'), ('cosmos1w5mtmtuey5a3f59d9m0xh2quh90ze2vjj06rn2', 'cosmos13mt9szsv3a8qz65tkztr6kyyw7ydvjm2swn26l', '2023-07-29 18:30:40'), ('cosmos1w5mtmtuey5a3f59d9m0xh2quh90ze2vjj06rn2', 'cosmos15yvvex59pnxxxpckxjl7jjhnazxmv6eek9vetm', '2023-07-30 04:31:36'), ('cosmos1w5mtmtuey5a3f59d9m0xh2quh90ze2vjj06rn2', 'cosmos19e5d3uf5q8mlxyxge4ghkztsg378jv9kp6kdmh', '2023-07-29 23:08:10'), ('cosmos1w5mtmtuey5a3f59d9m0xh2quh90ze2vjj06rn2', 'cosmos19tkvqyq3869q22w8497da53mjuy3rwadsa5km6', '2023-07-30 01:26:41'), ('cosmos1w5mtmtuey5a3f59d9m0xh2quh90ze2vjj06rn2', 'cosmos1ea3gsrptfxf4ve4qys6j8vgerazgy787xrkmqv', '2023-07-30 03:18:10'), ('cosmos1w5mtmtuey5a3f59d9m0xh2quh90ze2vjj06rn2', 'cosmos1esy64q9u68zhnx3m7tkz5kljryagsh07wh27lx', '2023-07-29 20:24:41'), ('cosmos1w5mtmtuey5a3f59d9m0xh2quh90ze2vjj06rn2', 'cosmos1hca6yklp6kucxwv5vru84vglh4tf2l6ttrye28', '2023-07-29 23:21:39'), ('cosmos1w5mtmtuey5a3f59d9m0xh2quh90ze2vjj06rn2', 'cosmos1j8pp7zvcu9z8vd882m284j29fn2dszh05cqvf9', '2023-07-29 21:11:10'), ('cosmos1w5mtmtuey5a3f59d9m0xh2quh90ze2vjj06rn2', 'cosmos1ju6722m6qwwjy9jq8qnvmv6lppsgsu6uljlu6a', '2023-07-29 19:56:43'), ('cosmos1w5mtmtuey5a3f59d9m0xh2quh90ze2vjj06rn2', 'cosmos1mqnw33m9d3l986k5xwctlegvzdd5uycf87085d', '2023-07-30 07:13:07'), ('cosmos1w5mtmtuey5a3f59d9m0xh2quh90ze2vjj06rn2', 'cosmos1pfdm4r32ean5pw87q0w6wr0ttspdpv4dtmj99m', '2023-07-30 01:30:37'), ('cosmos1w5mtmtuey5a3f59d9m0xh2quh90ze2vjj06rn2', 'cosmos1qfkgm6mx9zdct0vt2um84c80rmz56dhcec6xdl', '2023-07-29 19:54:14'), ('cosmos1w5mtmtuey5a3f59d9m0xh2quh90ze2vjj06rn2', 'cosmos1th8zfkyr38vfznz8krnvslu83ra7kpe4j9fnc7', '2023-07-30 00:52:10'), ('cosmos1w5mtmtuey5a3f59d9m0xh2quh90ze2vjj06rn2', 'cosmos1ua97fl9pa2m5x0hdrlr68mm927cgkn750y7ytg', '2023-07-29 18:43:09'), ('cosmos1w5mtmtuey5a3f59d9m0xh2quh90ze2vjj06rn2', 'cosmos1wuvcqw3m4vfd9w2eg9epd82eqg02a33u4qryd8', '2023-07-29 21:26:37'), ('cosmos1w5mtmtuey5a3f59d9m0xh2quh90ze2vjj06rn2', 'cosmos1x5jqsut2c789x7hdynjpvqsw6z6ahd2s3guajd', '2023-07-30 02:29:09'), ('cosmos1w5mtmtuey5a3f59d9m0xh2quh90ze2vjj06rn2', 'cosmos1yzhk4vraz0er3s2x5pcpayxsur3vwpkvv5lya7', '2023-07-30 02:31:41'), ('cosmos1scwcfre6h4c7epkyrdfegpeaz8umqldl50gn8w', 'cosmos1w5mtmtuey5a3f59d9m0xh2quh90ze2vjj06rn2', '2023-07-28 18:39:00')]\n",
      "('cosmos1w5mtmtuey5a3f59d9m0xh2quh90ze2vjj06rn2', 'cosmos10cqac3qmh92j6medf9lesfgrg98xutxgrg3q4k', '2023-07-30 00:39:38')\n",
      "https://api.mintscan.io/v1/cosmos/account/cosmos10cqac3qmh92j6medf9lesfgrg98xutxgrg3q4k/txs?limit=25&from=0\n"
     ]
    },
    {
     "ename": "KeyboardInterrupt",
     "evalue": "",
     "output_type": "error",
     "traceback": [
      "\u001b[0;31m---------------------------------------------------------------------------\u001b[0m",
      "\u001b[0;31mKeyboardInterrupt\u001b[0m                         Traceback (most recent call last)",
      "Cell \u001b[0;32mIn[269], line 8\u001b[0m\n\u001b[1;32m      6\u001b[0m date_ \u001b[38;5;241m=\u001b[39m row[\u001b[38;5;241m2\u001b[39m]\n\u001b[1;32m      7\u001b[0m \u001b[38;5;66;03m#fetch data\u001b[39;00m\n\u001b[0;32m----> 8\u001b[0m _txs_df, _messages \u001b[38;5;241m=\u001b[39m \u001b[43mget_txs_after_date\u001b[49m\u001b[43m(\u001b[49m\u001b[43maddr\u001b[49m\u001b[43m,\u001b[49m\u001b[43m \u001b[49m\u001b[43mformatted_date\u001b[49m\u001b[43m \u001b[49m\u001b[43m,\u001b[49m\u001b[38;5;124;43m'\u001b[39;49m\u001b[38;5;124;43mhttps://api.mintscan.io/v1/cosmos/account/\u001b[39;49m\u001b[38;5;132;43;01m{}\u001b[39;49;00m\u001b[38;5;124;43m/txs?limit=\u001b[39;49m\u001b[38;5;132;43;01m{}\u001b[39;49;00m\u001b[38;5;124;43m&from=\u001b[39;49m\u001b[38;5;132;43;01m{}\u001b[39;49;00m\u001b[38;5;124;43m'\u001b[39;49m\u001b[43m)\u001b[49m\n\u001b[1;32m      9\u001b[0m \u001b[38;5;66;03m#store raw data\u001b[39;00m\n\u001b[1;32m     10\u001b[0m txs_dict[addr] \u001b[38;5;241m=\u001b[39m _txs_df\n",
      "Cell \u001b[0;32mIn[258], line 10\u001b[0m, in \u001b[0;36mget_txs_after_date\u001b[0;34m(address, last_date, api_endpoint)\u001b[0m\n\u001b[1;32m      8\u001b[0m url \u001b[38;5;241m=\u001b[39m api_endpoint\u001b[38;5;241m.\u001b[39mformat(address, limit, start)\n\u001b[1;32m      9\u001b[0m \u001b[38;5;28mprint\u001b[39m(url)\n\u001b[0;32m---> 10\u001b[0m \u001b[43mtime\u001b[49m\u001b[38;5;241;43m.\u001b[39;49m\u001b[43msleep\u001b[49m\u001b[43m(\u001b[49m\u001b[38;5;241;43m30\u001b[39;49m\u001b[43m)\u001b[49m\n\u001b[1;32m     11\u001b[0m headers \u001b[38;5;241m=\u001b[39m {\n\u001b[1;32m     12\u001b[0m     \u001b[38;5;124m'\u001b[39m\u001b[38;5;124mUser-Agent\u001b[39m\u001b[38;5;124m'\u001b[39m: \u001b[38;5;124m'\u001b[39m\u001b[38;5;124mMozilla/5.0 (Windows NT 10.0; Win64; x64) AppleWebKit/537.36 (KHTML, like Gecko) Chrome/58.0.3029.110 Safari/537.3\u001b[39m\u001b[38;5;124m'\u001b[39m\n\u001b[1;32m     13\u001b[0m }\n\u001b[1;32m     14\u001b[0m \u001b[38;5;28;01mtry\u001b[39;00m:\n",
      "\u001b[0;31mKeyboardInterrupt\u001b[0m: "
     ]
    }
   ],
   "source": [
    "while True:\n",
    "    #parse inputs\n",
    "    row = txs_to_process[i]\n",
    "    print(row)\n",
    "    addr = row[1]\n",
    "    date_ = row[2]\n",
    "    #fetch data\n",
    "    _txs_df, _messages = get_txs_after_date(addr, formatted_date ,'https://api.mintscan.io/v1/cosmos/account/{}/txs?limit={}&from={}')\n",
    "    #store raw data\n",
    "    txs_dict[addr] = _txs_df\n",
    "    messages_dict[addr] = _messages\n",
    "    if(not txs_dict[addr] is None):    \n",
    "        #process data\n",
    "        tt = txs_dict[addr]\n",
    "        tt = get_send_txs(tt, addr, date_)\n",
    "        tt = get_send_summary(tt)\n",
    "        send_chains_txs = pd.concat([send_chains_txs,tt]).drop_duplicates(ignore_index=True)\n",
    "        #add to txs to process\n",
    "        for j, row in tt.iterrows():\n",
    "            txs_to_process.append((row.from_address, row.to_address, row.first_send_timestamp))\n",
    "    print(txs_to_process)\n",
    "    i += 1\n",
    "    if(len(txs_to_process) <= i):\n",
    "        break"
   ]
  },
  {
   "cell_type": "code",
   "execution_count": 276,
   "id": "fa5ebb0c-adf1-4099-90b6-a3e6e168f344",
   "metadata": {},
   "outputs": [
    {
     "name": "stdout",
     "output_type": "stream",
     "text": [
      "cosmos18e6wd0sscqlqprpl02lejln435y8aky8fme2jz cosmos1p5tus3kyl8euzu385pwzcj00wu7rjkpqhzthpd 2023-05-29 15:17:41\n",
      "cosmos1p5tus3kyl8euzu385pwzcj00wu7rjkpqhzthpd cosmos1cms24y2e42d0q7wurxsk7ff8guu4lphd6jsza4 2023-05-31 02:54:41\n",
      "cosmos1p5tus3kyl8euzu385pwzcj00wu7rjkpqhzthpd cosmos1kfr242rvysart9k2ycz7l63t5yz9pvl7qlpyqt 2023-05-31 02:59:37\n",
      "cosmos1p5tus3kyl8euzu385pwzcj00wu7rjkpqhzthpd cosmos1w5mtmtuey5a3f59d9m0xh2quh90ze2vjj06rn2 2023-06-02 14:10:54\n",
      "cosmos1kfr242rvysart9k2ycz7l63t5yz9pvl7qlpyqt cosmos1p5tus3kyl8euzu385pwzcj00wu7rjkpqhzthpd 2023-07-14 17:24:56\n",
      "cosmos1kfr242rvysart9k2ycz7l63t5yz9pvl7qlpyqt cosmos1scwcfre6h4c7epkyrdfegpeaz8umqldl50gn8w 2023-06-22 00:40:49\n",
      "cosmos1w5mtmtuey5a3f59d9m0xh2quh90ze2vjj06rn2 cosmos10cqac3qmh92j6medf9lesfgrg98xutxgrg3q4k 2023-07-30 00:39:38\n",
      "cosmos1w5mtmtuey5a3f59d9m0xh2quh90ze2vjj06rn2 cosmos10gd379e6e8skpgfx6zqqymnrz8zsa5mxttdg36 2023-07-30 11:21:15\n",
      "cosmos1w5mtmtuey5a3f59d9m0xh2quh90ze2vjj06rn2 cosmos13mt9szsv3a8qz65tkztr6kyyw7ydvjm2swn26l 2023-07-29 18:30:40\n",
      "cosmos1w5mtmtuey5a3f59d9m0xh2quh90ze2vjj06rn2 cosmos15yvvex59pnxxxpckxjl7jjhnazxmv6eek9vetm 2023-07-30 04:31:36\n",
      "cosmos1w5mtmtuey5a3f59d9m0xh2quh90ze2vjj06rn2 cosmos19e5d3uf5q8mlxyxge4ghkztsg378jv9kp6kdmh 2023-07-29 23:08:10\n",
      "cosmos1w5mtmtuey5a3f59d9m0xh2quh90ze2vjj06rn2 cosmos19tkvqyq3869q22w8497da53mjuy3rwadsa5km6 2023-07-30 01:26:41\n",
      "cosmos1w5mtmtuey5a3f59d9m0xh2quh90ze2vjj06rn2 cosmos1ea3gsrptfxf4ve4qys6j8vgerazgy787xrkmqv 2023-07-30 03:18:10\n",
      "cosmos1w5mtmtuey5a3f59d9m0xh2quh90ze2vjj06rn2 cosmos1esy64q9u68zhnx3m7tkz5kljryagsh07wh27lx 2023-07-29 20:24:41\n",
      "cosmos1w5mtmtuey5a3f59d9m0xh2quh90ze2vjj06rn2 cosmos1hca6yklp6kucxwv5vru84vglh4tf2l6ttrye28 2023-07-29 23:21:39\n",
      "cosmos1w5mtmtuey5a3f59d9m0xh2quh90ze2vjj06rn2 cosmos1j8pp7zvcu9z8vd882m284j29fn2dszh05cqvf9 2023-07-29 21:11:10\n",
      "cosmos1w5mtmtuey5a3f59d9m0xh2quh90ze2vjj06rn2 cosmos1ju6722m6qwwjy9jq8qnvmv6lppsgsu6uljlu6a 2023-07-29 19:56:43\n",
      "cosmos1w5mtmtuey5a3f59d9m0xh2quh90ze2vjj06rn2 cosmos1mqnw33m9d3l986k5xwctlegvzdd5uycf87085d 2023-07-30 07:13:07\n",
      "cosmos1w5mtmtuey5a3f59d9m0xh2quh90ze2vjj06rn2 cosmos1pfdm4r32ean5pw87q0w6wr0ttspdpv4dtmj99m 2023-07-30 01:30:37\n",
      "cosmos1w5mtmtuey5a3f59d9m0xh2quh90ze2vjj06rn2 cosmos1qfkgm6mx9zdct0vt2um84c80rmz56dhcec6xdl 2023-07-29 19:54:14\n",
      "cosmos1w5mtmtuey5a3f59d9m0xh2quh90ze2vjj06rn2 cosmos1th8zfkyr38vfznz8krnvslu83ra7kpe4j9fnc7 2023-07-30 00:52:10\n",
      "cosmos1w5mtmtuey5a3f59d9m0xh2quh90ze2vjj06rn2 cosmos1ua97fl9pa2m5x0hdrlr68mm927cgkn750y7ytg 2023-07-29 18:43:09\n",
      "cosmos1w5mtmtuey5a3f59d9m0xh2quh90ze2vjj06rn2 cosmos1wuvcqw3m4vfd9w2eg9epd82eqg02a33u4qryd8 2023-07-29 21:26:37\n",
      "cosmos1w5mtmtuey5a3f59d9m0xh2quh90ze2vjj06rn2 cosmos1x5jqsut2c789x7hdynjpvqsw6z6ahd2s3guajd 2023-07-30 02:29:09\n",
      "cosmos1w5mtmtuey5a3f59d9m0xh2quh90ze2vjj06rn2 cosmos1yzhk4vraz0er3s2x5pcpayxsur3vwpkvv5lya7 2023-07-30 02:31:41\n",
      "cosmos1scwcfre6h4c7epkyrdfegpeaz8umqldl50gn8w cosmos1w5mtmtuey5a3f59d9m0xh2quh90ze2vjj06rn2 2023-07-28 18:39:00\n"
     ]
    }
   ],
   "source": [
    "i = 0\n",
    "for from_address, to_address, first_send_timestamp in txs_to_process:\n",
    "    dd = send_chains_txs[(send_chains_txs.from_address==from_address)&\\\n",
    "                    (send_chains_txs.to_address==to_address)&\\\n",
    "                    (send_chains_txs.first_send_timestamp==first_send_timestamp)]\n",
    "    if len(dd) == 0:\n",
    "        break\n",
    "    print(from_address, to_address, first_send_timestamp)\n",
    "    i+=1"
   ]
  },
  {
   "cell_type": "markdown",
   "id": "231cb255-c29d-4033-ba24-e3ddbcc93169",
   "metadata": {},
   "source": [
    "#### Output"
   ]
  },
  {
   "cell_type": "code",
   "execution_count": 277,
   "id": "e6002298-25ba-4f00-9c8e-50daec5f2d5f",
   "metadata": {},
   "outputs": [],
   "source": [
    "send_chains_txs.to_csv(\"./data/cosmos/links.csv\")"
   ]
  },
  {
   "cell_type": "code",
   "execution_count": 278,
   "id": "3aa5eb99-991b-4d40-b6e2-5d67cf7814e7",
   "metadata": {},
   "outputs": [],
   "source": [
    "dd = pd.concat([send_chains_txs.from_address, send_chains_txs.to_address]).reset_index()\n",
    "dd.columns = ['id', 'address']\n",
    "dd.groupby(['address']).count().reset_index().to_csv(\"./data/cosmos/nodes.csv\")"
   ]
  },
  {
   "cell_type": "code",
   "execution_count": null,
   "id": "879f510f-7f21-4d61-8d8d-4ab109e9be61",
   "metadata": {},
   "outputs": [],
   "source": []
  }
 ],
 "metadata": {
  "kernelspec": {
   "display_name": "Python 3 (ipykernel)",
   "language": "python",
   "name": "python3"
  },
  "language_info": {
   "codemirror_mode": {
    "name": "ipython",
    "version": 3
   },
   "file_extension": ".py",
   "mimetype": "text/x-python",
   "name": "python",
   "nbconvert_exporter": "python",
   "pygments_lexer": "ipython3",
   "version": "3.9.17"
  }
 },
 "nbformat": 4,
 "nbformat_minor": 5
}
