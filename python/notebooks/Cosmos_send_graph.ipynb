{
 "cells": [
  {
   "cell_type": "code",
   "execution_count": 279,
   "id": "b5cbeefb-ad75-4519-bcec-6f094e496f45",
   "metadata": {},
   "outputs": [],
   "source": [
    "import requests\n",
    "import json\n",
    "import pandas as pd\n",
    "import time\n",
    "import re\n",
    "import urllib\n",
    "import matplotlib\n",
    "import numpy as np\n",
    "from datetime import datetime \n",
    "pd.set_option('display.max_colwidth', None)"
   ]
  },
  {
   "cell_type": "code",
   "execution_count": 280,
   "id": "650b9fce-8f6c-4529-8241-373ecc74c7ef",
   "metadata": {},
   "outputs": [],
   "source": [
    "def get_txs_after_date(address, last_date, api_endpoint):\n",
    "    txs_df = None\n",
    "    messages = []\n",
    "    txs_from_date = None\n",
    "    start = 0\n",
    "    limit = 25\n",
    "    while True:     \n",
    "        url = api_endpoint.format(address, limit, start)\n",
    "        print(url)\n",
    "        time.sleep(30)\n",
    "        headers = {\n",
    "            'User-Agent': 'Mozilla/5.0 (Windows NT 10.0; Win64; x64) AppleWebKit/537.36 (KHTML, like Gecko) Chrome/58.0.3029.110 Safari/537.3'\n",
    "        }\n",
    "        try:\n",
    "            response = requests.get(url, headers=headers)\n",
    "            if(len(response.json())==0):\n",
    "                break\n",
    "            tt = pd.json_normalize(response.json(), record_path=['data', 'tx','body','messages'], meta=['data'])\n",
    "            tt['txhash'] = tt.data.apply(lambda x: x['txhash'])\n",
    "            tt['timestamp'] = pd.to_datetime(tt.data.apply(lambda x: x['timestamp']))\n",
    "            tt = tt.drop(columns=['data'])\n",
    "            tt['timestamp_str'] = tt.timestamp.dt.strftime(\"%Y-%m-%d %H:%M:%S\")\n",
    "            if(txs_df is None):\n",
    "                txs_df = tt\n",
    "            else:\n",
    "                txs_df = pd.concat([txs_df, tt])\n",
    "            messages.append(response.json())\n",
    "            txs_before_date = tt[tt['timestamp_str'] < last_date]\n",
    "            txs_from_date = tt[tt['timestamp_str'] >= last_date]\n",
    "            if(len(txs_before_date) > 0):\n",
    "                break\n",
    "            start += limit\n",
    "        except Exception as e:\n",
    "            print(\"Error\", e)\n",
    "            break\n",
    "    return txs_from_date, messages"
   ]
  },
  {
   "cell_type": "code",
   "execution_count": 281,
   "id": "c13b4135-2906-4471-87d3-73495b748c79",
   "metadata": {},
   "outputs": [],
   "source": [
    "def get_atom_amount(amounts):\n",
    "    for amount in amounts:\n",
    "        if(amount['denom']=='uatom'):\n",
    "            return int(amount['amount'])/1000000\n",
    "            \n",
    "def get_send_txs(df, addr, after_date):\n",
    "    df = df[df.from_address==addr]\n",
    "    df = df[df.timestamp_str >= after_date]\n",
    "    df = df[df['@type']=='/cosmos.bank.v1beta1.MsgSend']\n",
    "    df['atom_amount']= df.amount.apply(get_atom_amount)\n",
    "    return df"
   ]
  },
  {
   "cell_type": "code",
   "execution_count": 282,
   "id": "70c3f234-808e-4124-8e80-51f78066b65d",
   "metadata": {},
   "outputs": [],
   "source": [
    "def get_send_summary(df):\n",
    "    dd = tt[['from_address','to_address','atom_amount','timestamp_str']]\\\n",
    "            .groupby(['from_address','to_address']).agg(tot_atom_amount=('atom_amount', np.sum),\n",
    "                                                    first_send_timestamp=('timestamp_str', np.min))\\\n",
    "            .reset_index()\n",
    "    return dd"
   ]
  },
  {
   "cell_type": "code",
   "execution_count": 283,
   "id": "43994dd8-3c92-4308-bf73-d0bc2dcae5e9",
   "metadata": {},
   "outputs": [
    {
     "name": "stdout",
     "output_type": "stream",
     "text": [
      "2023-05-02 11:42:10\n"
     ]
    }
   ],
   "source": [
    "from datetime import datetime, timedelta\n",
    "\n",
    "# Get today's date\n",
    "today = datetime.today()\n",
    "# Calculate one month ago by subtracting timedelta\n",
    "one_month_ago = today - timedelta(days=90)\n",
    "# Format the result as a string (optional)\n",
    "formatted_date = one_month_ago.strftime('%Y-%m-%d %H:%M:%S')\n",
    "print(formatted_date)"
   ]
  },
  {
   "cell_type": "code",
   "execution_count": 284,
   "id": "bfa0c378-8a50-401b-aaa1-4b9ba5a2c736",
   "metadata": {},
   "outputs": [],
   "source": [
    "txs_dict = {} \n",
    "txs_polished_dict = {}\n",
    "messages_dict = {}\n",
    "send_chains_txs = None"
   ]
  },
  {
   "cell_type": "code",
   "execution_count": 285,
   "id": "4eb46082-513c-4569-8f73-2109160ce67a",
   "metadata": {},
   "outputs": [],
   "source": [
    "addr = 'cosmos18e6wd0sscqlqprpl02lejln435y8aky8fme2jz'"
   ]
  },
  {
   "cell_type": "code",
   "execution_count": 286,
   "id": "de83d5a6-7e30-41bd-86b5-f7088d5b4703",
   "metadata": {},
   "outputs": [
    {
     "name": "stdout",
     "output_type": "stream",
     "text": [
      "https://api.mintscan.io/v1/cosmos/account/cosmos18e6wd0sscqlqprpl02lejln435y8aky8fme2jz/txs?limit=25&from=0\n"
     ]
    }
   ],
   "source": [
    "_txs_df, _messages = get_txs_after_date(addr, formatted_date ,'https://api.mintscan.io/v1/cosmos/account/{}/txs?limit={}&from={}')"
   ]
  },
  {
   "cell_type": "code",
   "execution_count": 287,
   "id": "ce61175d-e3eb-49cb-a91f-8e7a370e9956",
   "metadata": {},
   "outputs": [],
   "source": [
    "txs_dict[addr] = _txs_df\n",
    "messages_dict[addr] = _messages"
   ]
  },
  {
   "cell_type": "code",
   "execution_count": 288,
   "id": "11d6eb75-c380-41e5-8c4e-037dc6a2a2a3",
   "metadata": {},
   "outputs": [
    {
     "data": {
      "text/html": [
       "<div>\n",
       "<style scoped>\n",
       "    .dataframe tbody tr th:only-of-type {\n",
       "        vertical-align: middle;\n",
       "    }\n",
       "\n",
       "    .dataframe tbody tr th {\n",
       "        vertical-align: top;\n",
       "    }\n",
       "\n",
       "    .dataframe thead th {\n",
       "        text-align: right;\n",
       "    }\n",
       "</style>\n",
       "<table border=\"1\" class=\"dataframe\">\n",
       "  <thead>\n",
       "    <tr style=\"text-align: right;\">\n",
       "      <th></th>\n",
       "      <th>from_address</th>\n",
       "      <th>to_address</th>\n",
       "      <th>tot_atom_amount</th>\n",
       "      <th>first_send_timestamp</th>\n",
       "    </tr>\n",
       "  </thead>\n",
       "  <tbody>\n",
       "    <tr>\n",
       "      <th>0</th>\n",
       "      <td>cosmos18e6wd0sscqlqprpl02lejln435y8aky8fme2jz</td>\n",
       "      <td>cosmos1p5tus3kyl8euzu385pwzcj00wu7rjkpqhzthpd</td>\n",
       "      <td>1.599191e+06</td>\n",
       "      <td>2023-05-29 15:17:41</td>\n",
       "    </tr>\n",
       "  </tbody>\n",
       "</table>\n",
       "</div>"
      ],
      "text/plain": [
       "                                    from_address  \\\n",
       "0  cosmos18e6wd0sscqlqprpl02lejln435y8aky8fme2jz   \n",
       "\n",
       "                                      to_address  tot_atom_amount  \\\n",
       "0  cosmos1p5tus3kyl8euzu385pwzcj00wu7rjkpqhzthpd     1.599191e+06   \n",
       "\n",
       "  first_send_timestamp  \n",
       "0  2023-05-29 15:17:41  "
      ]
     },
     "execution_count": 288,
     "metadata": {},
     "output_type": "execute_result"
    }
   ],
   "source": [
    "txs_df = txs_dict[addr]\n",
    "tt = txs_df[txs_df.txhash=='F98634D42DF053B52E80A0BCEB3CD00A1F20A6AA6772D2AABB3B782650868484']\n",
    "tt = get_send_txs(tt, addr, formatted_date)\n",
    "tt = get_send_summary(tt)\n",
    "txs_polished_dict[addr] = tt\n",
    "send_chains_txs = tt\n",
    "send_chains_txs"
   ]
  },
  {
   "cell_type": "code",
   "execution_count": 289,
   "id": "b3289826-249c-41ae-aca9-a03b5031bbe3",
   "metadata": {},
   "outputs": [
    {
     "data": {
      "text/plain": [
       "[('cosmos18e6wd0sscqlqprpl02lejln435y8aky8fme2jz',\n",
       "  'cosmos1p5tus3kyl8euzu385pwzcj00wu7rjkpqhzthpd',\n",
       "  '2023-05-29 15:17:41')]"
      ]
     },
     "execution_count": 289,
     "metadata": {},
     "output_type": "execute_result"
    }
   ],
   "source": [
    "txs_to_process = []\n",
    "for i, row in send_chains_txs.iterrows():\n",
    "    txs_to_process.append((row.from_address, row.to_address, row.first_send_timestamp))\n",
    "txs_to_process"
   ]
  },
  {
   "cell_type": "code",
   "execution_count": 296,
   "id": "389df30f-9a64-44fb-9c60-9af4c935e321",
   "metadata": {},
   "outputs": [],
   "source": [
    "i = 0"
   ]
  },
  {
   "cell_type": "code",
   "execution_count": 321,
   "id": "17a35061-ce29-497d-bcdd-e5708db96195",
   "metadata": {},
   "outputs": [
    {
     "name": "stdout",
     "output_type": "stream",
     "text": [
      "('cosmos1cgmy9syem48llr8yhhjjz277dgmyfsv7efst3r', 'cosmos1t5u0jfg3ljsjrh2m9e47d4ny2hea7eehxrzdgd', '2023-07-30 21:22:13')\n",
      "https://api.mintscan.io/v1/cosmos/account/cosmos1t5u0jfg3ljsjrh2m9e47d4ny2hea7eehxrzdgd/txs?limit=25&from=0\n",
      "https://api.mintscan.io/v1/cosmos/account/cosmos1t5u0jfg3ljsjrh2m9e47d4ny2hea7eehxrzdgd/txs?limit=25&from=25\n",
      "('cosmos1j8pp7zvcu9z8vd882m284j29fn2dszh05cqvf9', 'cosmos1l0znsvddllw9knha3yx2svnlxny676d8ns7uys', '2023-07-31 15:38:00')\n",
      "https://api.mintscan.io/v1/cosmos/account/cosmos1l0znsvddllw9knha3yx2svnlxny676d8ns7uys/txs?limit=25&from=0\n",
      "https://api.mintscan.io/v1/cosmos/account/cosmos1l0znsvddllw9knha3yx2svnlxny676d8ns7uys/txs?limit=25&from=25\n",
      "('cosmos1vl8xm7x04cedgh639hc9ucvf6zc754fyfewhef', 'cosmos15camcflx20rsp2sx0spt73yvqfcvuhsjdafww5', '2023-07-31 13:31:03')\n",
      "https://api.mintscan.io/v1/cosmos/account/cosmos15camcflx20rsp2sx0spt73yvqfcvuhsjdafww5/txs?limit=25&from=0\n",
      "https://api.mintscan.io/v1/cosmos/account/cosmos15camcflx20rsp2sx0spt73yvqfcvuhsjdafww5/txs?limit=25&from=25\n",
      "('cosmos1w5mtmtuey5a3f59d9m0xh2quh90ze2vjj06rn2', 'cosmos10gd379e6e8skpgfx6zqqymnrz8zsa5mxttdg36', '2023-07-31 05:27:39')\n",
      "https://api.mintscan.io/v1/cosmos/account/cosmos10gd379e6e8skpgfx6zqqymnrz8zsa5mxttdg36/txs?limit=25&from=0\n",
      "https://api.mintscan.io/v1/cosmos/account/cosmos10gd379e6e8skpgfx6zqqymnrz8zsa5mxttdg36/txs?limit=25&from=25\n",
      "('cosmos1w5mtmtuey5a3f59d9m0xh2quh90ze2vjj06rn2', 'cosmos12n5hps8gmwfu6fmytpl33u0djndj28sy7k4gxk', '2023-07-31 04:18:37')\n",
      "https://api.mintscan.io/v1/cosmos/account/cosmos12n5hps8gmwfu6fmytpl33u0djndj28sy7k4gxk/txs?limit=25&from=0\n",
      "https://api.mintscan.io/v1/cosmos/account/cosmos12n5hps8gmwfu6fmytpl33u0djndj28sy7k4gxk/txs?limit=25&from=25\n",
      "('cosmos1w5mtmtuey5a3f59d9m0xh2quh90ze2vjj06rn2', 'cosmos12nn8x76urw5cpjp7hpkkztmuf9qfrvlquehzyh', '2023-07-31 00:48:09')\n",
      "https://api.mintscan.io/v1/cosmos/account/cosmos12nn8x76urw5cpjp7hpkkztmuf9qfrvlquehzyh/txs?limit=25&from=0\n",
      "Error \"Key 'data' not found. To replace missing values of 'data' with np.nan, pass in errors='ignore'\"\n",
      "('cosmos1w5mtmtuey5a3f59d9m0xh2quh90ze2vjj06rn2', 'cosmos14qw445un5aemd7r47xfkn6ayw8cplzz0jdr6gs', '2023-07-31 03:30:05')\n",
      "https://api.mintscan.io/v1/cosmos/account/cosmos14qw445un5aemd7r47xfkn6ayw8cplzz0jdr6gs/txs?limit=25&from=0\n"
     ]
    },
    {
     "ename": "KeyboardInterrupt",
     "evalue": "",
     "output_type": "error",
     "traceback": [
      "\u001b[0;31m---------------------------------------------------------------------------\u001b[0m",
      "\u001b[0;31mKeyboardInterrupt\u001b[0m                         Traceback (most recent call last)",
      "Cell \u001b[0;32mIn[321], line 8\u001b[0m\n\u001b[1;32m      6\u001b[0m date_ \u001b[38;5;241m=\u001b[39m row[\u001b[38;5;241m2\u001b[39m]\n\u001b[1;32m      7\u001b[0m \u001b[38;5;66;03m#fetch data\u001b[39;00m\n\u001b[0;32m----> 8\u001b[0m _txs_df, _messages \u001b[38;5;241m=\u001b[39m \u001b[43mget_txs_after_date\u001b[49m\u001b[43m(\u001b[49m\u001b[43maddr\u001b[49m\u001b[43m,\u001b[49m\u001b[43m \u001b[49m\u001b[43mformatted_date\u001b[49m\u001b[43m \u001b[49m\u001b[43m,\u001b[49m\u001b[38;5;124;43m'\u001b[39;49m\u001b[38;5;124;43mhttps://api.mintscan.io/v1/cosmos/account/\u001b[39;49m\u001b[38;5;132;43;01m{}\u001b[39;49;00m\u001b[38;5;124;43m/txs?limit=\u001b[39;49m\u001b[38;5;132;43;01m{}\u001b[39;49;00m\u001b[38;5;124;43m&from=\u001b[39;49m\u001b[38;5;132;43;01m{}\u001b[39;49;00m\u001b[38;5;124;43m'\u001b[39;49m\u001b[43m)\u001b[49m\n\u001b[1;32m      9\u001b[0m \u001b[38;5;66;03m#store raw data\u001b[39;00m\n\u001b[1;32m     10\u001b[0m txs_dict[addr] \u001b[38;5;241m=\u001b[39m _txs_df\n",
      "Cell \u001b[0;32mIn[280], line 10\u001b[0m, in \u001b[0;36mget_txs_after_date\u001b[0;34m(address, last_date, api_endpoint)\u001b[0m\n\u001b[1;32m      8\u001b[0m url \u001b[38;5;241m=\u001b[39m api_endpoint\u001b[38;5;241m.\u001b[39mformat(address, limit, start)\n\u001b[1;32m      9\u001b[0m \u001b[38;5;28mprint\u001b[39m(url)\n\u001b[0;32m---> 10\u001b[0m \u001b[43mtime\u001b[49m\u001b[38;5;241;43m.\u001b[39;49m\u001b[43msleep\u001b[49m\u001b[43m(\u001b[49m\u001b[38;5;241;43m30\u001b[39;49m\u001b[43m)\u001b[49m\n\u001b[1;32m     11\u001b[0m headers \u001b[38;5;241m=\u001b[39m {\n\u001b[1;32m     12\u001b[0m     \u001b[38;5;124m'\u001b[39m\u001b[38;5;124mUser-Agent\u001b[39m\u001b[38;5;124m'\u001b[39m: \u001b[38;5;124m'\u001b[39m\u001b[38;5;124mMozilla/5.0 (Windows NT 10.0; Win64; x64) AppleWebKit/537.36 (KHTML, like Gecko) Chrome/58.0.3029.110 Safari/537.3\u001b[39m\u001b[38;5;124m'\u001b[39m\n\u001b[1;32m     13\u001b[0m }\n\u001b[1;32m     14\u001b[0m \u001b[38;5;28;01mtry\u001b[39;00m:\n",
      "\u001b[0;31mKeyboardInterrupt\u001b[0m: "
     ]
    }
   ],
   "source": [
    "while True:\n",
    "    #parse inputs\n",
    "    row = txs_to_process[i]\n",
    "    print(row)\n",
    "    addr = row[1]\n",
    "    date_ = row[2]\n",
    "    #fetch data\n",
    "    _txs_df, _messages = get_txs_after_date(addr, formatted_date ,'https://api.mintscan.io/v1/cosmos/account/{}/txs?limit={}&from={}')\n",
    "    #store raw data\n",
    "    txs_dict[addr] = _txs_df\n",
    "    messages_dict[addr] = _messages\n",
    "    if(not txs_dict[addr] is None):    \n",
    "        #process data\n",
    "        tt = txs_dict[addr]\n",
    "        tt = get_send_txs(tt, addr, date_)\n",
    "        tt = get_send_summary(tt)\n",
    "        send_chains_txs = pd.concat([send_chains_txs,tt]).drop_duplicates(ignore_index=True)\n",
    "        #add to txs to process\n",
    "        for j, row in tt.iterrows():\n",
    "            txs_to_process.append((row.from_address, row.to_address, row.first_send_timestamp))\n",
    "    #print(txs_to_process)\n",
    "    i += 1\n",
    "    if(len(txs_to_process) <= i):\n",
    "        break"
   ]
  },
  {
   "cell_type": "code",
   "execution_count": 323,
   "id": "c586ff51-f6ab-4da7-bbef-b6631eaaf042",
   "metadata": {},
   "outputs": [],
   "source": [
    "i = i-1"
   ]
  },
  {
   "cell_type": "code",
   "execution_count": 308,
   "id": "fa5ebb0c-adf1-4099-90b6-a3e6e168f344",
   "metadata": {},
   "outputs": [
    {
     "name": "stdout",
     "output_type": "stream",
     "text": [
      "cosmos18e6wd0sscqlqprpl02lejln435y8aky8fme2jz cosmos1p5tus3kyl8euzu385pwzcj00wu7rjkpqhzthpd 2023-05-29 15:17:41\n",
      "cosmos1p5tus3kyl8euzu385pwzcj00wu7rjkpqhzthpd cosmos1cms24y2e42d0q7wurxsk7ff8guu4lphd6jsza4 2023-05-31 02:54:41\n",
      "cosmos1p5tus3kyl8euzu385pwzcj00wu7rjkpqhzthpd cosmos1kfr242rvysart9k2ycz7l63t5yz9pvl7qlpyqt 2023-05-31 02:59:37\n",
      "cosmos1p5tus3kyl8euzu385pwzcj00wu7rjkpqhzthpd cosmos1w5mtmtuey5a3f59d9m0xh2quh90ze2vjj06rn2 2023-06-02 14:10:54\n",
      "cosmos1kfr242rvysart9k2ycz7l63t5yz9pvl7qlpyqt cosmos1p5tus3kyl8euzu385pwzcj00wu7rjkpqhzthpd 2023-07-14 17:24:56\n",
      "cosmos1kfr242rvysart9k2ycz7l63t5yz9pvl7qlpyqt cosmos1scwcfre6h4c7epkyrdfegpeaz8umqldl50gn8w 2023-06-22 00:40:49\n",
      "cosmos1w5mtmtuey5a3f59d9m0xh2quh90ze2vjj06rn2 cosmos10gd379e6e8skpgfx6zqqymnrz8zsa5mxttdg36 2023-07-31 05:27:39\n",
      "cosmos1w5mtmtuey5a3f59d9m0xh2quh90ze2vjj06rn2 cosmos12n5hps8gmwfu6fmytpl33u0djndj28sy7k4gxk 2023-07-31 04:18:37\n",
      "cosmos1w5mtmtuey5a3f59d9m0xh2quh90ze2vjj06rn2 cosmos12nn8x76urw5cpjp7hpkkztmuf9qfrvlquehzyh 2023-07-31 00:48:09\n",
      "cosmos1w5mtmtuey5a3f59d9m0xh2quh90ze2vjj06rn2 cosmos14qw445un5aemd7r47xfkn6ayw8cplzz0jdr6gs 2023-07-31 03:30:05\n",
      "cosmos1w5mtmtuey5a3f59d9m0xh2quh90ze2vjj06rn2 cosmos16a90rdad2p9rvsy5mt4h2zuxes6yl77u2hw4x2 2023-07-30 19:13:36\n",
      "cosmos1w5mtmtuey5a3f59d9m0xh2quh90ze2vjj06rn2 cosmos18p4hqkvfn5nspznhsef2g3ruf6fq7aumpwgt7r 2023-07-31 02:55:08\n",
      "cosmos1w5mtmtuey5a3f59d9m0xh2quh90ze2vjj06rn2 cosmos18ym8ytsqtp9e7wuntnc7wpl33hs9fx972gp4v5 2023-07-30 23:21:11\n",
      "cosmos1w5mtmtuey5a3f59d9m0xh2quh90ze2vjj06rn2 cosmos19fhserx9jqerdjz2kem57208lk6e7ft7szmchz 2023-07-31 04:33:10\n",
      "cosmos1w5mtmtuey5a3f59d9m0xh2quh90ze2vjj06rn2 cosmos1cgmy9syem48llr8yhhjjz277dgmyfsv7efst3r 2023-07-30 21:21:46\n",
      "cosmos1w5mtmtuey5a3f59d9m0xh2quh90ze2vjj06rn2 cosmos1hyvu7w4xzsg2p8kccggykf4hhuefqj7k4jk5u7 2023-07-30 21:40:37\n",
      "cosmos1w5mtmtuey5a3f59d9m0xh2quh90ze2vjj06rn2 cosmos1j8pp7zvcu9z8vd882m284j29fn2dszh05cqvf9 2023-07-30 22:26:39\n",
      "cosmos1w5mtmtuey5a3f59d9m0xh2quh90ze2vjj06rn2 cosmos1jq7n6vddh67fxwfqv6lrkwddt5zyqwds0xrdp7 2023-07-31 06:44:41\n",
      "cosmos1w5mtmtuey5a3f59d9m0xh2quh90ze2vjj06rn2 cosmos1vl8xm7x04cedgh639hc9ucvf6zc754fyfewhef 2023-07-30 21:26:55\n",
      "cosmos1w5mtmtuey5a3f59d9m0xh2quh90ze2vjj06rn2 cosmos1z67emd2rc2n3zk3jsrtzqk3l7dyuuq8fjsg4y6 2023-07-31 02:02:40\n",
      "cosmos1w5mtmtuey5a3f59d9m0xh2quh90ze2vjj06rn2 cosmos1zmqxte6mfvu0j0t3f5q9le29lz2ej92pp6sl5a 2023-07-31 01:56:12\n",
      "cosmos1scwcfre6h4c7epkyrdfegpeaz8umqldl50gn8w cosmos1w5mtmtuey5a3f59d9m0xh2quh90ze2vjj06rn2 2023-07-29 04:48:59\n",
      "cosmos12n5hps8gmwfu6fmytpl33u0djndj28sy7k4gxk cosmos1t5u0jfg3ljsjrh2m9e47d4ny2hea7eehxrzdgd 2023-07-31 04:19:01\n",
      "cosmos16a90rdad2p9rvsy5mt4h2zuxes6yl77u2hw4x2 cosmos1t5u0jfg3ljsjrh2m9e47d4ny2hea7eehxrzdgd 2023-07-30 19:14:01\n",
      "cosmos18p4hqkvfn5nspznhsef2g3ruf6fq7aumpwgt7r cosmos1t5u0jfg3ljsjrh2m9e47d4ny2hea7eehxrzdgd 2023-07-31 02:56:06\n",
      "cosmos18ym8ytsqtp9e7wuntnc7wpl33hs9fx972gp4v5 cosmos1t5u0jfg3ljsjrh2m9e47d4ny2hea7eehxrzdgd 2023-07-30 23:22:27\n",
      "cosmos19fhserx9jqerdjz2kem57208lk6e7ft7szmchz cosmos1t5u0jfg3ljsjrh2m9e47d4ny2hea7eehxrzdgd 2023-07-31 04:34:07\n",
      "cosmos1cgmy9syem48llr8yhhjjz277dgmyfsv7efst3r cosmos1t5u0jfg3ljsjrh2m9e47d4ny2hea7eehxrzdgd 2023-07-30 21:22:13\n"
     ]
    }
   ],
   "source": [
    "k = 0\n",
    "for from_address, to_address, first_send_timestamp in txs_to_process:\n",
    "    dd = send_chains_txs[(send_chains_txs.from_address==from_address)&\\\n",
    "                    (send_chains_txs.to_address==to_address)&\\\n",
    "                    (send_chains_txs.first_send_timestamp==first_send_timestamp)]\n",
    "    if len(dd) == 0:\n",
    "        break\n",
    "    print(from_address, to_address, first_send_timestamp)\n",
    "    k+=1"
   ]
  },
  {
   "cell_type": "markdown",
   "id": "231cb255-c29d-4033-ba24-e3ddbcc93169",
   "metadata": {},
   "source": [
    "#### Output"
   ]
  },
  {
   "cell_type": "code",
   "execution_count": 331,
   "id": "626f75cc-dd02-494f-a8b3-5ef635ba65bf",
   "metadata": {},
   "outputs": [],
   "source": [
    "tt = send_chains_txs[send_chains_txs.tot_atom_amount > 500]"
   ]
  },
  {
   "cell_type": "code",
   "execution_count": 332,
   "id": "d32df149-8d21-47d7-a0f1-f398341d6189",
   "metadata": {},
   "outputs": [],
   "source": [
    "tt.to_csv(\"./data/cosmos/major_links.csv\")"
   ]
  },
  {
   "cell_type": "code",
   "execution_count": 333,
   "id": "70137df1-5933-4160-84c3-3dccc2392fbe",
   "metadata": {},
   "outputs": [],
   "source": [
    "dd = pd.concat([tt.from_address, tt.to_address]).reset_index()\n",
    "dd.columns = ['id', 'address']\n",
    "ddd = dd.groupby(['address']).count().reset_index()\n",
    "ddd.to_csv(\"./data/cosmos/major_nodes.csv\")"
   ]
  },
  {
   "cell_type": "code",
   "execution_count": 324,
   "id": "e6002298-25ba-4f00-9c8e-50daec5f2d5f",
   "metadata": {},
   "outputs": [],
   "source": [
    "send_chains_txs.to_csv(\"./data/cosmos/links.csv\")"
   ]
  },
  {
   "cell_type": "code",
   "execution_count": 326,
   "id": "3aa5eb99-991b-4d40-b6e2-5d67cf7814e7",
   "metadata": {},
   "outputs": [],
   "source": [
    "dd = pd.concat([send_chains_txs.from_address, send_chains_txs.to_address]).reset_index()\n",
    "dd.columns = ['id', 'address']\n",
    "ddd = dd.groupby(['address']).count().reset_index()\n",
    "ddd.to_csv(\"./data/cosmos/nodes.csv\")"
   ]
  },
  {
   "cell_type": "code",
   "execution_count": null,
   "id": "b597015e-74a6-4e92-94ac-049812b5d7dc",
   "metadata": {},
   "outputs": [],
   "source": []
  }
 ],
 "metadata": {
  "kernelspec": {
   "display_name": "Python 3 (ipykernel)",
   "language": "python",
   "name": "python3"
  },
  "language_info": {
   "codemirror_mode": {
    "name": "ipython",
    "version": 3
   },
   "file_extension": ".py",
   "mimetype": "text/x-python",
   "name": "python",
   "nbconvert_exporter": "python",
   "pygments_lexer": "ipython3",
   "version": "3.9.17"
  }
 },
 "nbformat": 4,
 "nbformat_minor": 5
}
