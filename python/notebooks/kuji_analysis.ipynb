{
 "cells": [
  {
   "cell_type": "code",
   "execution_count": 288,
   "id": "17f826e6-403c-49d5-8856-5474fe421a69",
   "metadata": {},
   "outputs": [],
   "source": [
    "import pandas as pd\n",
    "import json\n",
    "import numpy as np\n",
    "pd.set_option('display.max_colwidth', None)"
   ]
  },
  {
   "cell_type": "code",
   "execution_count": 289,
   "id": "88a3ad35-8c8d-4648-baa5-108a7053ec46",
   "metadata": {},
   "outputs": [],
   "source": [
    "address = 'kujira1pkmjc7p7lqg6m3nm7csde88pnpad945kla5hyu'\n",
    "df = pd.read_csv(f'./data/kujira/{address}.csv')"
   ]
  },
  {
   "cell_type": "code",
   "execution_count": 290,
   "id": "85f8d47b-6f61-479f-8e7d-1dae6a0c47d6",
   "metadata": {},
   "outputs": [],
   "source": [
    "df['created_at'] = pd.to_datetime(df.created_at)\n",
    "df['complete_denom'] = df['amount']\n",
    "df[['amount', 'valuta']] = df['amount'].str.extract(r'(\\d+)(.*)')"
   ]
  },
  {
   "cell_type": "code",
   "execution_count": 291,
   "id": "5f894683-6248-4fd4-a237-828ce11b5fb7",
   "metadata": {},
   "outputs": [],
   "source": [
    "df['denom'] = df.valuta.replace({\n",
    "    'factory/kujira1qk00h5atutpsv900x202pxx42npjr9thg58dnqpa72f2p7m2luase444a7/uusk':'uUSK',\n",
    "    'ibc/295548A78785A1007F232DE286149A6FF512F180AF5657780FC89C009E2C348F': 'axlUSDC',\n",
    "    'ibc/27394FB092D2ECCD56123C74F36E4C1F926001CEADA9CA97EA622B25F41E5EB2': 'ATOM',\n",
    "    'ibc/1B38805B1C75352B28169284F96DF56BDEBD9E8FAC005BDCC8CF0378C82AA8E7': 'wETH',\n",
    "    'ibc/640E1C3E28FD45F611971DF891AE3DC90C825DF759DF8FAA8F33F7F72B35AD56': 'ASTRO',\n",
    "    'factory/kujira143fwcudwy0exd6zd3xyvqt2kae68ud6n8jqchufu7wdg5sryd4lqtlvvep/urcpt': 'xKUJI',\n",
    "    'ibc/DA59C009A0B3B95E0549E6BF7B075C8239285989FF457A8EDDBB56F10B2A6986': 'LUNA',\n",
    "    'ibc/0306D6B66EAA2EDBB7EAD23C0EC9DDFC69BB43E80B398035E90FBCFEF3FD1A87': 'stATOM'\n",
    "})"
   ]
  },
  {
   "cell_type": "code",
   "execution_count": 292,
   "id": "c00b1635-4356-419d-acae-c893d9140ced",
   "metadata": {},
   "outputs": [],
   "source": [
    "with open(f'data/kujira/contracts.json', \"r\") as json_file:\n",
    "    contracts = json.load(json_file)"
   ]
  },
  {
   "cell_type": "code",
   "execution_count": 293,
   "id": "3baf8f58-016a-425e-ab52-befb36c14681",
   "metadata": {},
   "outputs": [],
   "source": [
    "contracts_dict = {}\n",
    "for contract in contracts:\n",
    "    contracts_dict[contract['Address']] = contract['Label']"
   ]
  },
  {
   "cell_type": "code",
   "execution_count": 294,
   "id": "e68c60bf-ca20-4efe-ad3f-c4d43af7e72f",
   "metadata": {},
   "outputs": [],
   "source": [
    "df['contract_label'] = df.contract_address.replace(contracts_dict)"
   ]
  },
  {
   "cell_type": "code",
   "execution_count": 295,
   "id": "b95f6e9e-0dd2-46cb-9f20-51d53b04b50c",
   "metadata": {},
   "outputs": [],
   "source": [
    "def get_contract_label(row):\n",
    "    if(row['action'] == '/ibc.core.client.v1.MsgUpdateClient'):\n",
    "        if(pd.isna(row['contract_label'])):\n",
    "            return 'IBC Transfer'\n",
    "    if(row['action'] == '/cosmos.bank.v1beta1.MsgSend'):\n",
    "        if(pd.isna(row['contract_label'])):\n",
    "            return 'Transfer'\n",
    "    return row['contract_label']"
   ]
  },
  {
   "cell_type": "code",
   "execution_count": 296,
   "id": "e679816a-3337-4db5-8cc7-68718e5b610f",
   "metadata": {},
   "outputs": [],
   "source": [
    "df['contract_label'] = df.apply(lambda row: get_contract_label(row), axis=1)"
   ]
  },
  {
   "cell_type": "code",
   "execution_count": 297,
   "id": "275268b9-b6b8-4b56-a56b-23aa67d4ee3e",
   "metadata": {},
   "outputs": [
    {
     "data": {
      "text/plain": [
       "array(['ukuji', 'axlUSDC', 'uUSK', 'ATOM', 'wETH', 'ASTRO', 'xKUJI',\n",
       "       'LUNA', 'stATOM'], dtype=object)"
      ]
     },
     "execution_count": 297,
     "metadata": {},
     "output_type": "execute_result"
    }
   ],
   "source": [
    "tt = df[((df.address == 'kujira1pkmjc7p7lqg6m3nm7csde88pnpad945kla5hyu'))]\n",
    "tt.denom.unique()"
   ]
  },
  {
   "cell_type": "code",
   "execution_count": 398,
   "id": "2101a2fa-3c7d-4da3-98db-d33c1d4c34ea",
   "metadata": {},
   "outputs": [
    {
     "data": {
      "text/html": [
       "<div>\n",
       "<style scoped>\n",
       "    .dataframe tbody tr th:only-of-type {\n",
       "        vertical-align: middle;\n",
       "    }\n",
       "\n",
       "    .dataframe tbody tr th {\n",
       "        vertical-align: top;\n",
       "    }\n",
       "\n",
       "    .dataframe thead th {\n",
       "        text-align: right;\n",
       "    }\n",
       "</style>\n",
       "<table border=\"1\" class=\"dataframe\">\n",
       "  <thead>\n",
       "    <tr style=\"text-align: right;\">\n",
       "      <th></th>\n",
       "      <th>created_at</th>\n",
       "      <th>tx_hash</th>\n",
       "      <th>address</th>\n",
       "      <th>amount</th>\n",
       "      <th>operation</th>\n",
       "      <th>action</th>\n",
       "      <th>contract_label</th>\n",
       "      <th>denom</th>\n",
       "    </tr>\n",
       "  </thead>\n",
       "  <tbody>\n",
       "    <tr>\n",
       "      <th>713</th>\n",
       "      <td>2023-05-27 22:20:54+00:00</td>\n",
       "      <td>0FCB53D118CC6DCD12FDC5D5909540B57D8795790F2A9FBA153F058CA426B603</td>\n",
       "      <td>kujira1pkmjc7p7lqg6m3nm7csde88pnpad945kla5hyu</td>\n",
       "      <td>716</td>\n",
       "      <td>coin_spent</td>\n",
       "      <td>/cosmwasm.wasm.v1.MsgExecuteContract</td>\n",
       "      <td>FIN ASTRO-USK</td>\n",
       "      <td>ukuji</td>\n",
       "    </tr>\n",
       "    <tr>\n",
       "      <th>715</th>\n",
       "      <td>2023-05-27 22:20:54+00:00</td>\n",
       "      <td>0FCB53D118CC6DCD12FDC5D5909540B57D8795790F2A9FBA153F058CA426B603</td>\n",
       "      <td>kujira1pkmjc7p7lqg6m3nm7csde88pnpad945kla5hyu</td>\n",
       "      <td>414057462</td>\n",
       "      <td>coin_spent</td>\n",
       "      <td>/cosmwasm.wasm.v1.MsgExecuteContract</td>\n",
       "      <td>FIN ASTRO-USK</td>\n",
       "      <td>ASTRO</td>\n",
       "    </tr>\n",
       "  </tbody>\n",
       "</table>\n",
       "</div>"
      ],
      "text/plain": [
       "                   created_at  \\\n",
       "713 2023-05-27 22:20:54+00:00   \n",
       "715 2023-05-27 22:20:54+00:00   \n",
       "\n",
       "                                                              tx_hash  \\\n",
       "713  0FCB53D118CC6DCD12FDC5D5909540B57D8795790F2A9FBA153F058CA426B603   \n",
       "715  0FCB53D118CC6DCD12FDC5D5909540B57D8795790F2A9FBA153F058CA426B603   \n",
       "\n",
       "                                           address     amount   operation  \\\n",
       "713  kujira1pkmjc7p7lqg6m3nm7csde88pnpad945kla5hyu        716  coin_spent   \n",
       "715  kujira1pkmjc7p7lqg6m3nm7csde88pnpad945kla5hyu  414057462  coin_spent   \n",
       "\n",
       "                                   action contract_label  denom  \n",
       "713  /cosmwasm.wasm.v1.MsgExecuteContract  FIN ASTRO-USK  ukuji  \n",
       "715  /cosmwasm.wasm.v1.MsgExecuteContract  FIN ASTRO-USK  ASTRO  "
      ]
     },
     "execution_count": 398,
     "metadata": {},
     "output_type": "execute_result"
    }
   ],
   "source": [
    "tt[tt.tx_hash=='0FCB53D118CC6DCD12FDC5D5909540B57D8795790F2A9FBA153F058CA426B603'][useful_cols]"
   ]
  },
  {
   "cell_type": "code",
   "execution_count": 298,
   "id": "7a5c87da-1fdd-41fa-ba3f-24aa56d5f90b",
   "metadata": {},
   "outputs": [
    {
     "data": {
      "text/html": [
       "<div>\n",
       "<style scoped>\n",
       "    .dataframe tbody tr th:only-of-type {\n",
       "        vertical-align: middle;\n",
       "    }\n",
       "\n",
       "    .dataframe tbody tr th {\n",
       "        vertical-align: top;\n",
       "    }\n",
       "\n",
       "    .dataframe thead th {\n",
       "        text-align: right;\n",
       "    }\n",
       "</style>\n",
       "<table border=\"1\" class=\"dataframe\">\n",
       "  <thead>\n",
       "    <tr style=\"text-align: right;\">\n",
       "      <th></th>\n",
       "      <th>created_at</th>\n",
       "      <th>tx_hash</th>\n",
       "      <th>address</th>\n",
       "      <th>amount</th>\n",
       "      <th>operation</th>\n",
       "      <th>action</th>\n",
       "      <th>contract_label</th>\n",
       "      <th>denom</th>\n",
       "    </tr>\n",
       "  </thead>\n",
       "  <tbody>\n",
       "    <tr>\n",
       "      <th>1821</th>\n",
       "      <td>2022-07-12 17:44:38+00:00</td>\n",
       "      <td>59FF4DF16DEE76E53404AC5894AD8462FDEC8A2718592AFCAD6B33A99C8BE479</td>\n",
       "      <td>kujira1pkmjc7p7lqg6m3nm7csde88pnpad945kla5hyu</td>\n",
       "      <td>49000000</td>\n",
       "      <td>coin_received</td>\n",
       "      <td>/ibc.core.client.v1.MsgUpdateClient</td>\n",
       "      <td>IBC Transfer</td>\n",
       "      <td>axlUSDC</td>\n",
       "    </tr>\n",
       "    <tr>\n",
       "      <th>1816</th>\n",
       "      <td>2022-07-12 17:45:33+00:00</td>\n",
       "      <td>B6AA1AD9BAB1AC75746E31F8B98727F26B63878CAD488F05EC2878F71464A503</td>\n",
       "      <td>kujira1pkmjc7p7lqg6m3nm7csde88pnpad945kla5hyu</td>\n",
       "      <td>1090000000</td>\n",
       "      <td>coin_received</td>\n",
       "      <td>/cosmos.bank.v1beta1.MsgSend</td>\n",
       "      <td>Transfer</td>\n",
       "      <td>ukuji</td>\n",
       "    </tr>\n",
       "    <tr>\n",
       "      <th>1807</th>\n",
       "      <td>2022-07-12 17:46:13+00:00</td>\n",
       "      <td>5194346F49923CC1685CD472BCEA43DE49B4251134F06AF76C828552E07DCC8D</td>\n",
       "      <td>kujira1pkmjc7p7lqg6m3nm7csde88pnpad945kla5hyu</td>\n",
       "      <td>5000000</td>\n",
       "      <td>coin_spent</td>\n",
       "      <td>/cosmwasm.wasm.v1.MsgExecuteContract</td>\n",
       "      <td>FIN KUJI-axlUSDC</td>\n",
       "      <td>axlUSDC</td>\n",
       "    </tr>\n",
       "    <tr>\n",
       "      <th>1810</th>\n",
       "      <td>2022-07-12 17:46:13+00:00</td>\n",
       "      <td>5194346F49923CC1685CD472BCEA43DE49B4251134F06AF76C828552E07DCC8D</td>\n",
       "      <td>kujira1pkmjc7p7lqg6m3nm7csde88pnpad945kla5hyu</td>\n",
       "      <td>12543970</td>\n",
       "      <td>coin_received</td>\n",
       "      <td>/cosmwasm.wasm.v1.MsgExecuteContract</td>\n",
       "      <td>FIN KUJI-axlUSDC</td>\n",
       "      <td>ukuji</td>\n",
       "    </tr>\n",
       "    <tr>\n",
       "      <th>1805</th>\n",
       "      <td>2022-07-12 17:46:13+00:00</td>\n",
       "      <td>5194346F49923CC1685CD472BCEA43DE49B4251134F06AF76C828552E07DCC8D</td>\n",
       "      <td>kujira1pkmjc7p7lqg6m3nm7csde88pnpad945kla5hyu</td>\n",
       "      <td>4454</td>\n",
       "      <td>coin_spent</td>\n",
       "      <td>/cosmwasm.wasm.v1.MsgExecuteContract</td>\n",
       "      <td>FIN KUJI-axlUSDC</td>\n",
       "      <td>ukuji</td>\n",
       "    </tr>\n",
       "    <tr>\n",
       "      <th>...</th>\n",
       "      <td>...</td>\n",
       "      <td>...</td>\n",
       "      <td>...</td>\n",
       "      <td>...</td>\n",
       "      <td>...</td>\n",
       "      <td>...</td>\n",
       "      <td>...</td>\n",
       "      <td>...</td>\n",
       "    </tr>\n",
       "    <tr>\n",
       "      <th>89</th>\n",
       "      <td>2023-07-28 18:43:25+00:00</td>\n",
       "      <td>EEFD9E3BE115B7BE86B485857F23877F3C6F536C227799905B861FDA478B0C56</td>\n",
       "      <td>kujira1pkmjc7p7lqg6m3nm7csde88pnpad945kla5hyu</td>\n",
       "      <td>9456458</td>\n",
       "      <td>coin_received</td>\n",
       "      <td>/cosmwasm.wasm.v1.MsgExecuteContract</td>\n",
       "      <td>CALC-DCA</td>\n",
       "      <td>ukuji</td>\n",
       "    </tr>\n",
       "    <tr>\n",
       "      <th>71</th>\n",
       "      <td>2023-08-04 18:01:21+00:00</td>\n",
       "      <td>1E7AEC0CA968323704290F02B35CA76486FBFD379A19F51F2DD34E312C8D26EA</td>\n",
       "      <td>kujira1pkmjc7p7lqg6m3nm7csde88pnpad945kla5hyu</td>\n",
       "      <td>1492658</td>\n",
       "      <td>coin_received</td>\n",
       "      <td>/cosmwasm.wasm.v1.MsgExecuteContract</td>\n",
       "      <td>CALC-DCA</td>\n",
       "      <td>axlUSDC</td>\n",
       "    </tr>\n",
       "    <tr>\n",
       "      <th>53</th>\n",
       "      <td>2023-08-04 18:43:23+00:00</td>\n",
       "      <td>3BFABB8565BF7F855073A1F0E31F141253B644CDF87A50D62FAA3A31A5AB1466</td>\n",
       "      <td>kujira1pkmjc7p7lqg6m3nm7csde88pnpad945kla5hyu</td>\n",
       "      <td>7080033</td>\n",
       "      <td>coin_received</td>\n",
       "      <td>/cosmwasm.wasm.v1.MsgExecuteContract</td>\n",
       "      <td>CALC-DCA</td>\n",
       "      <td>ukuji</td>\n",
       "    </tr>\n",
       "    <tr>\n",
       "      <th>35</th>\n",
       "      <td>2023-08-11 18:01:23+00:00</td>\n",
       "      <td>C2F975BA3CC9E5E6DDD85B61AA0F0A1796CB49DCB4EF0BE2A8B025C431A90792</td>\n",
       "      <td>kujira1pkmjc7p7lqg6m3nm7csde88pnpad945kla5hyu</td>\n",
       "      <td>2471288</td>\n",
       "      <td>coin_received</td>\n",
       "      <td>/cosmwasm.wasm.v1.MsgExecuteContract</td>\n",
       "      <td>CALC-DCA</td>\n",
       "      <td>axlUSDC</td>\n",
       "    </tr>\n",
       "    <tr>\n",
       "      <th>17</th>\n",
       "      <td>2023-08-11 18:43:19+00:00</td>\n",
       "      <td>7DD3341D97655F2C6A4423757AD26EDAB89CD0FF0DAA507E32D8EBA08ABFF316</td>\n",
       "      <td>kujira1pkmjc7p7lqg6m3nm7csde88pnpad945kla5hyu</td>\n",
       "      <td>3551938</td>\n",
       "      <td>coin_received</td>\n",
       "      <td>/cosmwasm.wasm.v1.MsgExecuteContract</td>\n",
       "      <td>CALC-DCA</td>\n",
       "      <td>ukuji</td>\n",
       "    </tr>\n",
       "  </tbody>\n",
       "</table>\n",
       "<p>403 rows × 8 columns</p>\n",
       "</div>"
      ],
      "text/plain": [
       "                    created_at  \\\n",
       "1821 2022-07-12 17:44:38+00:00   \n",
       "1816 2022-07-12 17:45:33+00:00   \n",
       "1807 2022-07-12 17:46:13+00:00   \n",
       "1810 2022-07-12 17:46:13+00:00   \n",
       "1805 2022-07-12 17:46:13+00:00   \n",
       "...                        ...   \n",
       "89   2023-07-28 18:43:25+00:00   \n",
       "71   2023-08-04 18:01:21+00:00   \n",
       "53   2023-08-04 18:43:23+00:00   \n",
       "35   2023-08-11 18:01:23+00:00   \n",
       "17   2023-08-11 18:43:19+00:00   \n",
       "\n",
       "                                                               tx_hash  \\\n",
       "1821  59FF4DF16DEE76E53404AC5894AD8462FDEC8A2718592AFCAD6B33A99C8BE479   \n",
       "1816  B6AA1AD9BAB1AC75746E31F8B98727F26B63878CAD488F05EC2878F71464A503   \n",
       "1807  5194346F49923CC1685CD472BCEA43DE49B4251134F06AF76C828552E07DCC8D   \n",
       "1810  5194346F49923CC1685CD472BCEA43DE49B4251134F06AF76C828552E07DCC8D   \n",
       "1805  5194346F49923CC1685CD472BCEA43DE49B4251134F06AF76C828552E07DCC8D   \n",
       "...                                                                ...   \n",
       "89    EEFD9E3BE115B7BE86B485857F23877F3C6F536C227799905B861FDA478B0C56   \n",
       "71    1E7AEC0CA968323704290F02B35CA76486FBFD379A19F51F2DD34E312C8D26EA   \n",
       "53    3BFABB8565BF7F855073A1F0E31F141253B644CDF87A50D62FAA3A31A5AB1466   \n",
       "35    C2F975BA3CC9E5E6DDD85B61AA0F0A1796CB49DCB4EF0BE2A8B025C431A90792   \n",
       "17    7DD3341D97655F2C6A4423757AD26EDAB89CD0FF0DAA507E32D8EBA08ABFF316   \n",
       "\n",
       "                                            address      amount  \\\n",
       "1821  kujira1pkmjc7p7lqg6m3nm7csde88pnpad945kla5hyu    49000000   \n",
       "1816  kujira1pkmjc7p7lqg6m3nm7csde88pnpad945kla5hyu  1090000000   \n",
       "1807  kujira1pkmjc7p7lqg6m3nm7csde88pnpad945kla5hyu     5000000   \n",
       "1810  kujira1pkmjc7p7lqg6m3nm7csde88pnpad945kla5hyu    12543970   \n",
       "1805  kujira1pkmjc7p7lqg6m3nm7csde88pnpad945kla5hyu        4454   \n",
       "...                                             ...         ...   \n",
       "89    kujira1pkmjc7p7lqg6m3nm7csde88pnpad945kla5hyu     9456458   \n",
       "71    kujira1pkmjc7p7lqg6m3nm7csde88pnpad945kla5hyu     1492658   \n",
       "53    kujira1pkmjc7p7lqg6m3nm7csde88pnpad945kla5hyu     7080033   \n",
       "35    kujira1pkmjc7p7lqg6m3nm7csde88pnpad945kla5hyu     2471288   \n",
       "17    kujira1pkmjc7p7lqg6m3nm7csde88pnpad945kla5hyu     3551938   \n",
       "\n",
       "          operation                                action    contract_label  \\\n",
       "1821  coin_received   /ibc.core.client.v1.MsgUpdateClient      IBC Transfer   \n",
       "1816  coin_received          /cosmos.bank.v1beta1.MsgSend          Transfer   \n",
       "1807     coin_spent  /cosmwasm.wasm.v1.MsgExecuteContract  FIN KUJI-axlUSDC   \n",
       "1810  coin_received  /cosmwasm.wasm.v1.MsgExecuteContract  FIN KUJI-axlUSDC   \n",
       "1805     coin_spent  /cosmwasm.wasm.v1.MsgExecuteContract  FIN KUJI-axlUSDC   \n",
       "...             ...                                   ...               ...   \n",
       "89    coin_received  /cosmwasm.wasm.v1.MsgExecuteContract          CALC-DCA   \n",
       "71    coin_received  /cosmwasm.wasm.v1.MsgExecuteContract          CALC-DCA   \n",
       "53    coin_received  /cosmwasm.wasm.v1.MsgExecuteContract          CALC-DCA   \n",
       "35    coin_received  /cosmwasm.wasm.v1.MsgExecuteContract          CALC-DCA   \n",
       "17    coin_received  /cosmwasm.wasm.v1.MsgExecuteContract          CALC-DCA   \n",
       "\n",
       "        denom  \n",
       "1821  axlUSDC  \n",
       "1816    ukuji  \n",
       "1807  axlUSDC  \n",
       "1810    ukuji  \n",
       "1805    ukuji  \n",
       "...       ...  \n",
       "89      ukuji  \n",
       "71    axlUSDC  \n",
       "53      ukuji  \n",
       "35    axlUSDC  \n",
       "17      ukuji  \n",
       "\n",
       "[403 rows x 8 columns]"
      ]
     },
     "execution_count": 298,
     "metadata": {},
     "output_type": "execute_result"
    }
   ],
   "source": [
    "tt[['created_at', 'tx_hash', 'address', 'amount', 'operation', 'action',\n",
    "       'contract_label', 'denom']].sort_values(by='created_at')"
   ]
  },
  {
   "cell_type": "code",
   "execution_count": 299,
   "id": "7953ae3c-34c9-4e9c-8ca3-e89eae5ac5c7",
   "metadata": {},
   "outputs": [
    {
     "data": {
      "text/plain": [
       "contract_label\n",
       "Orca Market; USK-ATOM                            97\n",
       "CALC-DCA                                         95\n",
       "Orca Market; USK-stATOM                          33\n",
       "FIN: ATOM-USK                                    30\n",
       "FIN KUJI-axlUSDC                                 24\n",
       "USK Market; wETH                                 22\n",
       "FIN: axlUSDC-USK                                 21\n",
       "FIN ASTRO-USK                                    10\n",
       "Enable Orca Market for LUNA collateral on USK     9\n",
       "Enable LUNA as USK Collateral                     8\n",
       "FIN ATOM-axlUSDC                                  7\n",
       "IBC Transfer                                      7\n",
       "USK Market; ATOM                                  6\n",
       "FIN: KUJI-USK                                     6\n",
       "GHOST: Vault: KUJI                                6\n",
       "FIN stATOM-ATOM                                   6\n",
       "FIN LUNA-USK                                      3\n",
       "Transfer                                          2\n",
       "Name: count, dtype: int64"
      ]
     },
     "execution_count": 299,
     "metadata": {},
     "output_type": "execute_result"
    }
   ],
   "source": [
    "tt.contract_label.value_counts()"
   ]
  },
  {
   "cell_type": "code",
   "execution_count": 300,
   "id": "f631fde1-5556-4791-9294-6f662a1bcedb",
   "metadata": {},
   "outputs": [],
   "source": [
    "useful_cols = ['created_at', 'tx_hash', 'address', 'amount', 'operation', 'action', 'contract_label', 'denom']"
   ]
  },
  {
   "cell_type": "markdown",
   "id": "96b8468c-d62b-487c-aefb-8989d32f17d8",
   "metadata": {},
   "source": [
    "### Association"
   ]
  },
  {
   "cell_type": "code",
   "execution_count": 303,
   "id": "c34e457d-1421-4925-95ad-2c7db84f845b",
   "metadata": {},
   "outputs": [],
   "source": [
    "tt_spent = tt[tt.operation=='coin_spent'][useful_cols]\n",
    "tt_received = tt[tt.operation=='coin_received'][useful_cols]"
   ]
  },
  {
   "cell_type": "markdown",
   "id": "6b07dcab-2631-491f-92e3-6ac1c8431c01",
   "metadata": {},
   "source": [
    "#### Spent <- Received"
   ]
  },
  {
   "cell_type": "code",
   "execution_count": 376,
   "id": "7c2591a1-6ab4-445b-9ca3-1fee339da4fd",
   "metadata": {},
   "outputs": [],
   "source": [
    "tt_spent_received_merged = tt_spent.merge(tt_received, on=['denom','address'], suffixes=['_spent','_received'])"
   ]
  },
  {
   "cell_type": "code",
   "execution_count": 377,
   "id": "a64829ef-b02d-49d8-a1e3-074172b29fe9",
   "metadata": {},
   "outputs": [],
   "source": [
    "tt_spent_received_merged['created_at_delta_seconds'] = (tt_spent_received_merged.created_at_spent - tt_spent_received_merged.created_at_received) / np.timedelta64(1, 's')\n",
    "tt_received_spent_merged_ = tt_spent_received_merged[tt_spent_received_merged['created_at_delta_seconds'] >= 0]"
   ]
  },
  {
   "cell_type": "code",
   "execution_count": 378,
   "id": "4ac6f41c-3632-46d9-b1d3-ca3b25f4062d",
   "metadata": {},
   "outputs": [],
   "source": [
    "tt_spent_received_delta_seconds = tt_received_spent_merged_[['tx_hash_spent','created_at_delta_seconds']].groupby('tx_hash_spent').min().reset_index()"
   ]
  },
  {
   "cell_type": "code",
   "execution_count": 379,
   "id": "48c7a916-b408-41c0-b61b-add1af549857",
   "metadata": {},
   "outputs": [],
   "source": [
    "tt_spent_received_merged_delta = tt_received_spent_merged_.merge(tt_spent_received_delta_seconds, on=['tx_hash_spent','created_at_delta_seconds'])"
   ]
  },
  {
   "cell_type": "code",
   "execution_count": 380,
   "id": "c37c2d95-fd53-400b-b42c-1889cb62b2fa",
   "metadata": {},
   "outputs": [
    {
     "data": {
      "text/html": [
       "<div>\n",
       "<style scoped>\n",
       "    .dataframe tbody tr th:only-of-type {\n",
       "        vertical-align: middle;\n",
       "    }\n",
       "\n",
       "    .dataframe tbody tr th {\n",
       "        vertical-align: top;\n",
       "    }\n",
       "\n",
       "    .dataframe thead th {\n",
       "        text-align: right;\n",
       "    }\n",
       "</style>\n",
       "<table border=\"1\" class=\"dataframe\">\n",
       "  <thead>\n",
       "    <tr style=\"text-align: right;\">\n",
       "      <th></th>\n",
       "      <th>created_at_spent</th>\n",
       "      <th>tx_hash_spent</th>\n",
       "      <th>address</th>\n",
       "      <th>amount_spent</th>\n",
       "      <th>operation_spent</th>\n",
       "      <th>action_spent</th>\n",
       "      <th>contract_label_spent</th>\n",
       "      <th>denom</th>\n",
       "      <th>created_at_received</th>\n",
       "      <th>tx_hash_received</th>\n",
       "      <th>amount_received</th>\n",
       "      <th>operation_received</th>\n",
       "      <th>action_received</th>\n",
       "      <th>contract_label_received</th>\n",
       "      <th>created_at_delta_seconds</th>\n",
       "    </tr>\n",
       "  </thead>\n",
       "  <tbody>\n",
       "    <tr>\n",
       "      <th>143</th>\n",
       "      <td>2023-03-09 20:59:26+00:00</td>\n",
       "      <td>2F922451D78A1515ADB0E501358226DE5696DB960322F13696F72C7270D17CEC</td>\n",
       "      <td>kujira1pkmjc7p7lqg6m3nm7csde88pnpad945kla5hyu</td>\n",
       "      <td>7762496</td>\n",
       "      <td>coin_spent</td>\n",
       "      <td>/cosmwasm.wasm.v1.MsgExecuteContract</td>\n",
       "      <td>FIN: ATOM-USK</td>\n",
       "      <td>ATOM</td>\n",
       "      <td>2023-03-09 20:58:18+00:00</td>\n",
       "      <td>201746DA98272A1F84398F0EEE7B21226BDF020F9BDEA86E056B90DAB0151678</td>\n",
       "      <td>7762496</td>\n",
       "      <td>coin_received</td>\n",
       "      <td>/cosmwasm.wasm.v1.MsgExecuteContract</td>\n",
       "      <td>Orca Market; USK-ATOM</td>\n",
       "      <td>68.0</td>\n",
       "    </tr>\n",
       "  </tbody>\n",
       "</table>\n",
       "</div>"
      ],
      "text/plain": [
       "             created_at_spent  \\\n",
       "143 2023-03-09 20:59:26+00:00   \n",
       "\n",
       "                                                        tx_hash_spent  \\\n",
       "143  2F922451D78A1515ADB0E501358226DE5696DB960322F13696F72C7270D17CEC   \n",
       "\n",
       "                                           address amount_spent  \\\n",
       "143  kujira1pkmjc7p7lqg6m3nm7csde88pnpad945kla5hyu      7762496   \n",
       "\n",
       "    operation_spent                          action_spent  \\\n",
       "143      coin_spent  /cosmwasm.wasm.v1.MsgExecuteContract   \n",
       "\n",
       "    contract_label_spent denom       created_at_received  \\\n",
       "143        FIN: ATOM-USK  ATOM 2023-03-09 20:58:18+00:00   \n",
       "\n",
       "                                                     tx_hash_received  \\\n",
       "143  201746DA98272A1F84398F0EEE7B21226BDF020F9BDEA86E056B90DAB0151678   \n",
       "\n",
       "    amount_received operation_received                       action_received  \\\n",
       "143         7762496      coin_received  /cosmwasm.wasm.v1.MsgExecuteContract   \n",
       "\n",
       "    contract_label_received  created_at_delta_seconds  \n",
       "143   Orca Market; USK-ATOM                      68.0  "
      ]
     },
     "execution_count": 380,
     "metadata": {},
     "output_type": "execute_result"
    }
   ],
   "source": [
    "tt_spent_received_merged_delta[tt_spent_received_merged_delta.tx_hash_spent=='2F922451D78A1515ADB0E501358226DE5696DB960322F13696F72C7270D17CEC']"
   ]
  },
  {
   "cell_type": "markdown",
   "id": "e2599fbc-fed7-46c0-a50e-7d8d51db2108",
   "metadata": {},
   "source": [
    "#### Received <- Spent"
   ]
  },
  {
   "cell_type": "code",
   "execution_count": 410,
   "id": "bef8991d-e70f-4eff-99ee-d1c62ad65d2d",
   "metadata": {},
   "outputs": [],
   "source": [
    "tt_received_spent_merged = tt_received.merge(tt_spent, on=['address','contract_label'], suffixes=['_received','_spent'], how='left')"
   ]
  },
  {
   "cell_type": "code",
   "execution_count": 417,
   "id": "f51ecbc8-d479-4388-9363-42c6b61bb7b9",
   "metadata": {},
   "outputs": [],
   "source": [
    "tt_na = tt_received_spent_merged[tt_received_spent_merged.tx_hash_spent.isna()]\n",
    "tt_received_spent_merged = tt_received_spent_merged[~tt_received_spent_merged.tx_hash_spent.isna()]"
   ]
  },
  {
   "cell_type": "code",
   "execution_count": 418,
   "id": "f3fb63f0-04ad-46ca-929c-1f49590e37b6",
   "metadata": {},
   "outputs": [],
   "source": [
    "tt_received_spent_merged['created_at_delta_seconds'] = (tt_received_spent_merged.created_at_received - tt_received_spent_merged.created_at_spent) / np.timedelta64(1, 's')\n",
    "tt_received_spent_merged_ = tt_received_spent_merged[tt_received_spent_merged['created_at_delta_seconds'] >= 0]"
   ]
  },
  {
   "cell_type": "code",
   "execution_count": 419,
   "id": "1e21b5d5-2c38-40b5-b9b0-6a3e842fdfb1",
   "metadata": {},
   "outputs": [],
   "source": [
    "tt_received_spent_delta_seconds = tt_received_spent_merged_[['tx_hash_received','created_at_delta_seconds']].groupby('tx_hash_received').min().reset_index()"
   ]
  },
  {
   "cell_type": "code",
   "execution_count": 420,
   "id": "54bb03be-fb80-496f-b831-3cd39264e303",
   "metadata": {},
   "outputs": [],
   "source": [
    "tt_received_spent_merged_delta = tt_received_spent_merged_\\\n",
    "                                        .merge(tt_received_spent_delta_seconds, on=['tx_hash_received','created_at_delta_seconds'])"
   ]
  },
  {
   "cell_type": "code",
   "execution_count": 425,
   "id": "c7feb27d-6ea9-4de3-885c-1a20f3922c1d",
   "metadata": {},
   "outputs": [],
   "source": [
    "tt_received_spent_merged_delta = pd.concat([tt_received_spent_merged_delta, tt_na])"
   ]
  },
  {
   "cell_type": "markdown",
   "id": "7f3c24b6-167f-4e32-91d1-0d70d9cea62c",
   "metadata": {},
   "source": [
    "#### Merge"
   ]
  },
  {
   "cell_type": "code",
   "execution_count": 431,
   "id": "904fdfd3-9c5a-42af-950e-01dfdeb8185c",
   "metadata": {},
   "outputs": [],
   "source": [
    "tt_spent_received_merged_delta['direction'] = 'SPENT'\n",
    "tt_received_spent_merged_delta['direction'] = 'RECEIVED'\n",
    "tt_spent_dep = tt_spent_received_merged_delta[['created_at_spent', 'tx_hash_spent', 'address', 'amount_spent',\n",
    "       'operation_spent', 'action_spent', 'contract_label_spent', 'denom','direction','tx_hash_received']]\n",
    "tt_received_dep = tt_received_spent_merged_delta[['created_at_received', 'tx_hash_received', 'address', 'amount_received',\n",
    "       'operation_received', 'action_received', 'contract_label', 'denom_received','direction','tx_hash_spent']]"
   ]
  },
  {
   "cell_type": "code",
   "execution_count": 432,
   "id": "70a8d8fc-9001-46af-8a74-62698bf19db2",
   "metadata": {},
   "outputs": [],
   "source": [
    "tt_spent_dep.columns = ['created_at', 'tx_hash', 'address', 'amount',\n",
    "       'operation', 'action', 'contract_label', 'denom','direction','tx_hash_dep']\n",
    "tt_received_dep.columns = ['created_at', 'tx_hash', 'address', 'amount',\n",
    "       'operation', 'action', 'contract_label', 'denom','direction','tx_hash_dep']\n",
    "tt_deps = pd.concat([tt_spent_dep, tt_received_dep])"
   ]
  },
  {
   "cell_type": "markdown",
   "id": "b96a7e5c-24d7-420c-a192-845908922c70",
   "metadata": {},
   "source": [
    "### Export"
   ]
  },
  {
   "cell_type": "code",
   "execution_count": 433,
   "id": "4371b064-3df5-414c-be86-fe595fd57c41",
   "metadata": {},
   "outputs": [],
   "source": [
    "df_to_export = tt_deps[tt_deps.denom=='ASTRO']"
   ]
  },
  {
   "cell_type": "code",
   "execution_count": 434,
   "id": "90bf22c6-5186-4d3f-aa8d-b84d4eb21c0d",
   "metadata": {},
   "outputs": [
    {
     "data": {
      "text/html": [
       "<div>\n",
       "<style scoped>\n",
       "    .dataframe tbody tr th:only-of-type {\n",
       "        vertical-align: middle;\n",
       "    }\n",
       "\n",
       "    .dataframe tbody tr th {\n",
       "        vertical-align: top;\n",
       "    }\n",
       "\n",
       "    .dataframe thead th {\n",
       "        text-align: right;\n",
       "    }\n",
       "</style>\n",
       "<table border=\"1\" class=\"dataframe\">\n",
       "  <thead>\n",
       "    <tr style=\"text-align: right;\">\n",
       "      <th></th>\n",
       "      <th>created_at</th>\n",
       "      <th>tx_hash</th>\n",
       "      <th>address</th>\n",
       "      <th>amount</th>\n",
       "      <th>operation</th>\n",
       "      <th>action</th>\n",
       "      <th>contract_label</th>\n",
       "      <th>denom</th>\n",
       "      <th>direction</th>\n",
       "      <th>tx_hash_dep</th>\n",
       "    </tr>\n",
       "  </thead>\n",
       "  <tbody>\n",
       "    <tr>\n",
       "      <th>163</th>\n",
       "      <td>2023-05-27 22:25:28+00:00</td>\n",
       "      <td>08118B2458735B931D21386C8C2766E07041F20B76B189F962AC538B53162FD8</td>\n",
       "      <td>kujira1pkmjc7p7lqg6m3nm7csde88pnpad945kla5hyu</td>\n",
       "      <td>1586178650</td>\n",
       "      <td>coin_spent</td>\n",
       "      <td>/cosmwasm.wasm.v1.MsgExecuteContract</td>\n",
       "      <td>FIN ASTRO-USK</td>\n",
       "      <td>ASTRO</td>\n",
       "      <td>SPENT</td>\n",
       "      <td>293DB82BD23939FBE14B3254D5C60CE711B3D3C7AD74BD6641EA2C90814FCECC</td>\n",
       "    </tr>\n",
       "    <tr>\n",
       "      <th>164</th>\n",
       "      <td>2023-05-27 22:20:54+00:00</td>\n",
       "      <td>0FCB53D118CC6DCD12FDC5D5909540B57D8795790F2A9FBA153F058CA426B603</td>\n",
       "      <td>kujira1pkmjc7p7lqg6m3nm7csde88pnpad945kla5hyu</td>\n",
       "      <td>414057462</td>\n",
       "      <td>coin_spent</td>\n",
       "      <td>/cosmwasm.wasm.v1.MsgExecuteContract</td>\n",
       "      <td>FIN ASTRO-USK</td>\n",
       "      <td>ASTRO</td>\n",
       "      <td>SPENT</td>\n",
       "      <td>3841889246C6C7B3B85ED8205B5356F3318692F668C6ECEB0A408175DCB08E20</td>\n",
       "    </tr>\n",
       "    <tr>\n",
       "      <th>165</th>\n",
       "      <td>2023-05-27 22:20:43+00:00</td>\n",
       "      <td>09C62E13E1D3CD961514445E8A7BE86AF520840A5785DC91260C8178165534D3</td>\n",
       "      <td>kujira1pkmjc7p7lqg6m3nm7csde88pnpad945kla5hyu</td>\n",
       "      <td>1388000000</td>\n",
       "      <td>coin_spent</td>\n",
       "      <td>/cosmwasm.wasm.v1.MsgExecuteContract</td>\n",
       "      <td>FIN ASTRO-USK</td>\n",
       "      <td>ASTRO</td>\n",
       "      <td>SPENT</td>\n",
       "      <td>3841889246C6C7B3B85ED8205B5356F3318692F668C6ECEB0A408175DCB08E20</td>\n",
       "    </tr>\n",
       "    <tr>\n",
       "      <th>1982</th>\n",
       "      <td>2023-05-27 22:25:05+00:00</td>\n",
       "      <td>293DB82BD23939FBE14B3254D5C60CE711B3D3C7AD74BD6641EA2C90814FCECC</td>\n",
       "      <td>kujira1pkmjc7p7lqg6m3nm7csde88pnpad945kla5hyu</td>\n",
       "      <td>1586178650</td>\n",
       "      <td>coin_received</td>\n",
       "      <td>/ibc.core.client.v1.MsgUpdateClient</td>\n",
       "      <td>IBC Transfer</td>\n",
       "      <td>ASTRO</td>\n",
       "      <td>RECEIVED</td>\n",
       "      <td>NaN</td>\n",
       "    </tr>\n",
       "    <tr>\n",
       "      <th>1991</th>\n",
       "      <td>2023-05-27 22:19:24+00:00</td>\n",
       "      <td>3841889246C6C7B3B85ED8205B5356F3318692F668C6ECEB0A408175DCB08E20</td>\n",
       "      <td>kujira1pkmjc7p7lqg6m3nm7csde88pnpad945kla5hyu</td>\n",
       "      <td>1802057462</td>\n",
       "      <td>coin_received</td>\n",
       "      <td>/ibc.core.client.v1.MsgUpdateClient</td>\n",
       "      <td>IBC Transfer</td>\n",
       "      <td>ASTRO</td>\n",
       "      <td>RECEIVED</td>\n",
       "      <td>NaN</td>\n",
       "    </tr>\n",
       "  </tbody>\n",
       "</table>\n",
       "</div>"
      ],
      "text/plain": [
       "                    created_at  \\\n",
       "163  2023-05-27 22:25:28+00:00   \n",
       "164  2023-05-27 22:20:54+00:00   \n",
       "165  2023-05-27 22:20:43+00:00   \n",
       "1982 2023-05-27 22:25:05+00:00   \n",
       "1991 2023-05-27 22:19:24+00:00   \n",
       "\n",
       "                                                               tx_hash  \\\n",
       "163   08118B2458735B931D21386C8C2766E07041F20B76B189F962AC538B53162FD8   \n",
       "164   0FCB53D118CC6DCD12FDC5D5909540B57D8795790F2A9FBA153F058CA426B603   \n",
       "165   09C62E13E1D3CD961514445E8A7BE86AF520840A5785DC91260C8178165534D3   \n",
       "1982  293DB82BD23939FBE14B3254D5C60CE711B3D3C7AD74BD6641EA2C90814FCECC   \n",
       "1991  3841889246C6C7B3B85ED8205B5356F3318692F668C6ECEB0A408175DCB08E20   \n",
       "\n",
       "                                            address      amount  \\\n",
       "163   kujira1pkmjc7p7lqg6m3nm7csde88pnpad945kla5hyu  1586178650   \n",
       "164   kujira1pkmjc7p7lqg6m3nm7csde88pnpad945kla5hyu   414057462   \n",
       "165   kujira1pkmjc7p7lqg6m3nm7csde88pnpad945kla5hyu  1388000000   \n",
       "1982  kujira1pkmjc7p7lqg6m3nm7csde88pnpad945kla5hyu  1586178650   \n",
       "1991  kujira1pkmjc7p7lqg6m3nm7csde88pnpad945kla5hyu  1802057462   \n",
       "\n",
       "          operation                                action contract_label  \\\n",
       "163      coin_spent  /cosmwasm.wasm.v1.MsgExecuteContract  FIN ASTRO-USK   \n",
       "164      coin_spent  /cosmwasm.wasm.v1.MsgExecuteContract  FIN ASTRO-USK   \n",
       "165      coin_spent  /cosmwasm.wasm.v1.MsgExecuteContract  FIN ASTRO-USK   \n",
       "1982  coin_received   /ibc.core.client.v1.MsgUpdateClient   IBC Transfer   \n",
       "1991  coin_received   /ibc.core.client.v1.MsgUpdateClient   IBC Transfer   \n",
       "\n",
       "      denom direction  \\\n",
       "163   ASTRO     SPENT   \n",
       "164   ASTRO     SPENT   \n",
       "165   ASTRO     SPENT   \n",
       "1982  ASTRO  RECEIVED   \n",
       "1991  ASTRO  RECEIVED   \n",
       "\n",
       "                                                           tx_hash_dep  \n",
       "163   293DB82BD23939FBE14B3254D5C60CE711B3D3C7AD74BD6641EA2C90814FCECC  \n",
       "164   3841889246C6C7B3B85ED8205B5356F3318692F668C6ECEB0A408175DCB08E20  \n",
       "165   3841889246C6C7B3B85ED8205B5356F3318692F668C6ECEB0A408175DCB08E20  \n",
       "1982                                                               NaN  \n",
       "1991                                                               NaN  "
      ]
     },
     "execution_count": 434,
     "metadata": {},
     "output_type": "execute_result"
    }
   ],
   "source": [
    "df_to_export"
   ]
  },
  {
   "cell_type": "code",
   "execution_count": 435,
   "id": "cb751f0d-95ae-4f35-b236-4129904d7ce2",
   "metadata": {},
   "outputs": [],
   "source": [
    "df1 = df_to_export[['tx_hash']]\n",
    "df1.columns = ['address']\n",
    "df2 = df_to_export[['tx_hash_dep']]\n",
    "df2.columns = ['address']\n",
    "pd.concat([df1, df2])\\\n",
    "        .drop_duplicates(ignore_index=True)\\\n",
    "        .to_csv(f'data/kujira/graph/nodes.csv', index=False)"
   ]
  },
  {
   "cell_type": "code",
   "execution_count": 436,
   "id": "47a8a897-878e-417c-8f88-d1271b389829",
   "metadata": {},
   "outputs": [],
   "source": [
    "df_to_export.to_csv(f'data/kujira/graph/links.csv', index=False)"
   ]
  },
  {
   "cell_type": "code",
   "execution_count": null,
   "id": "fde7a74a-bf53-421b-9047-d8b2cd20ae57",
   "metadata": {},
   "outputs": [],
   "source": []
  }
 ],
 "metadata": {
  "kernelspec": {
   "display_name": "Python 3 (ipykernel)",
   "language": "python",
   "name": "python3"
  },
  "language_info": {
   "codemirror_mode": {
    "name": "ipython",
    "version": 3
   },
   "file_extension": ".py",
   "mimetype": "text/x-python",
   "name": "python",
   "nbconvert_exporter": "python",
   "pygments_lexer": "ipython3",
   "version": "3.9.17"
  }
 },
 "nbformat": 4,
 "nbformat_minor": 5
}
