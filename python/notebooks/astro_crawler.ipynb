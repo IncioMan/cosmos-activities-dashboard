{
 "cells": [
  {
   "cell_type": "code",
   "execution_count": 347,
   "id": "8b99b978-c372-40b7-b821-5cc06690daf6",
   "metadata": {},
   "outputs": [],
   "source": [
    "import requests\n",
    "import json\n",
    "import pandas as pd\n",
    "import time\n",
    "import re\n",
    "import urllib\n",
    "import matplotlib\n",
    "import numpy as np\n",
    "pd.set_option('display.max_colwidth', None)"
   ]
  },
  {
   "cell_type": "code",
   "execution_count": 348,
   "id": "0412dcf9-c701-406a-a2c4-5bcadae6c540",
   "metadata": {},
   "outputs": [],
   "source": [
    "import boto3\n",
    "from io import StringIO"
   ]
  },
  {
   "cell_type": "code",
   "execution_count": 349,
   "id": "0cbcb10b-ef04-470d-8ded-8403b3439a08",
   "metadata": {},
   "outputs": [],
   "source": [
    "s3 = boto3.client('s3')"
   ]
  },
  {
   "cell_type": "code",
   "execution_count": 350,
   "id": "197c6fb6-7ca1-411a-ae53-f2fdf8262106",
   "metadata": {},
   "outputs": [],
   "source": [
    "address = \"terra1w579ysjvpx7xxhckxewk8sykxz70gm48wpcuruenl29rhe6p6raslhj0m6\""
   ]
  },
  {
   "cell_type": "code",
   "execution_count": 351,
   "id": "005ecbf8-91c9-402a-82f0-b0c436353b45",
   "metadata": {},
   "outputs": [],
   "source": [
    "def get_txs_time_period(_from, _to):\n",
    "    _df = None\n",
    "    timestamp = urllib.parse.quote(_from.strftime(\"%Y-%m-%d+%H:%M:%S\"),safe='+')\n",
    "    while True:\n",
    "        url = f\"\"\"\n",
    "        https://api.seer.coinhall.org/api/coinhall/swaps/{address}?offset={timestamp}.010646870&limit=15\n",
    "        \"\"\"\n",
    "        print(url)\n",
    "        # Send a GET request to the API\n",
    "        response = requests.get(url)\n",
    "    \n",
    "        time.sleep(1)\n",
    "        print(f\"Number of txs received: {len(response.json()['txs'])}\")\n",
    "        \n",
    "        new_df = pd.DataFrame(response.json()['txs'])\n",
    "        if _df is None:\n",
    "            _df = new_df\n",
    "        else:\n",
    "            _df = pd.concat([_df, new_df])\n",
    "        _df.timestamp = pd.to_datetime(_df.timestamp)\n",
    "        min_ts = _df.timestamp.min()\n",
    "        timestamp = urllib.parse.quote(min_ts.strftime(\"%Y-%m-%d+%H:%M:%S\"),safe='+')\n",
    "\n",
    "        if(min_ts.to_pydatetime().replace(tzinfo=None).strftime(\"%Y-%m-%d\") < _to.strftime(\"%Y-%m-%d\")):\n",
    "            break\n",
    "    return _df"
   ]
  },
  {
   "cell_type": "code",
   "execution_count": 352,
   "id": "8fb00b06-976c-4848-b853-5ee5fc450641",
   "metadata": {},
   "outputs": [],
   "source": [
    "from datetime import datetime, timedelta\n",
    "\n",
    "current_date = datetime.now()\n",
    "threshold_day = current_date - timedelta(days=40)"
   ]
  },
  {
   "cell_type": "code",
   "execution_count": 353,
   "id": "fd7e4d4f-1c5b-4683-9c18-702d7df1447c",
   "metadata": {},
   "outputs": [
    {
     "name": "stdout",
     "output_type": "stream",
     "text": [
      "Trying to load swaps from incioman-data-analysis astro_trades/data/raw_swaps/swaps.csv\n",
      "Loaded swaps from incioman-data-analysis astro_trades/data/raw_swaps/swaps.csv\n"
     ]
    }
   ],
   "source": [
    "bucket_name='incioman-data-analysis'\n",
    "file_path_in_bucket = 'astro_trades/data/raw_swaps/swaps.csv'\n",
    "try:\n",
    "    print(f\"Trying to load swaps from {bucket_name} {file_path_in_bucket}\")\n",
    "    # Load the CSV file from S3\n",
    "    obj = s3.get_object(Bucket=bucket_name, Key=file_path_in_bucket)\n",
    "    df = pd.read_csv(obj['Body'])\n",
    "    df.timestamp = pd.to_datetime(df.timestamp, format='mixed')\n",
    "    print(f\"Loaded swaps from {bucket_name} {file_path_in_bucket}\")\n",
    "except Exception as e:\n",
    "    print(f\"No file yet {e}\")\n",
    "    df = None"
   ]
  },
  {
   "cell_type": "code",
   "execution_count": 354,
   "id": "0ecba429-cddb-4b88-bf4f-21bdcffb9335",
   "metadata": {},
   "outputs": [
    {
     "name": "stdout",
     "output_type": "stream",
     "text": [
      "Filling the upper gap from 2023-07-26 to 2023-07-26\n",
      "\n",
      "        https://api.seer.coinhall.org/api/coinhall/swaps/terra1w579ysjvpx7xxhckxewk8sykxz70gm48wpcuruenl29rhe6p6raslhj0m6?offset=2023-07-26+20%3A28%3A33.010646870&limit=15\n",
      "        \n",
      "Number of txs received: 15\n",
      "\n",
      "        https://api.seer.coinhall.org/api/coinhall/swaps/terra1w579ysjvpx7xxhckxewk8sykxz70gm48wpcuruenl29rhe6p6raslhj0m6?offset=2023-07-26+18%3A01%3A12.010646870&limit=15\n",
      "        \n",
      "Number of txs received: 15\n",
      "\n",
      "        https://api.seer.coinhall.org/api/coinhall/swaps/terra1w579ysjvpx7xxhckxewk8sykxz70gm48wpcuruenl29rhe6p6raslhj0m6?offset=2023-07-26+18%3A00%3A04.010646870&limit=15\n",
      "        \n",
      "Number of txs received: 15\n",
      "\n",
      "        https://api.seer.coinhall.org/api/coinhall/swaps/terra1w579ysjvpx7xxhckxewk8sykxz70gm48wpcuruenl29rhe6p6raslhj0m6?offset=2023-07-26+17%3A30%3A26.010646870&limit=15\n",
      "        \n",
      "Number of txs received: 15\n",
      "\n",
      "        https://api.seer.coinhall.org/api/coinhall/swaps/terra1w579ysjvpx7xxhckxewk8sykxz70gm48wpcuruenl29rhe6p6raslhj0m6?offset=2023-07-26+15%3A07%3A03.010646870&limit=15\n",
      "        \n",
      "Number of txs received: 15\n",
      "\n",
      "        https://api.seer.coinhall.org/api/coinhall/swaps/terra1w579ysjvpx7xxhckxewk8sykxz70gm48wpcuruenl29rhe6p6raslhj0m6?offset=2023-07-26+14%3A14%3A59.010646870&limit=15\n",
      "        \n",
      "Number of txs received: 15\n",
      "\n",
      "        https://api.seer.coinhall.org/api/coinhall/swaps/terra1w579ysjvpx7xxhckxewk8sykxz70gm48wpcuruenl29rhe6p6raslhj0m6?offset=2023-07-26+11%3A48%3A36.010646870&limit=15\n",
      "        \n",
      "Number of txs received: 15\n",
      "\n",
      "        https://api.seer.coinhall.org/api/coinhall/swaps/terra1w579ysjvpx7xxhckxewk8sykxz70gm48wpcuruenl29rhe6p6raslhj0m6?offset=2023-07-26+07%3A02%3A55.010646870&limit=15\n",
      "        \n",
      "Number of txs received: 15\n",
      "\n",
      "        https://api.seer.coinhall.org/api/coinhall/swaps/terra1w579ysjvpx7xxhckxewk8sykxz70gm48wpcuruenl29rhe6p6raslhj0m6?offset=2023-07-26+04%3A16%3A59.010646870&limit=15\n",
      "        \n",
      "Number of txs received: 15\n",
      "\n",
      "        https://api.seer.coinhall.org/api/coinhall/swaps/terra1w579ysjvpx7xxhckxewk8sykxz70gm48wpcuruenl29rhe6p6raslhj0m6?offset=2023-07-26+01%3A07%3A47.010646870&limit=15\n",
      "        \n",
      "Number of txs received: 15\n",
      "\n",
      "        https://api.seer.coinhall.org/api/coinhall/swaps/terra1w579ysjvpx7xxhckxewk8sykxz70gm48wpcuruenl29rhe6p6raslhj0m6?offset=2023-07-26+00%3A30%3A01.010646870&limit=15\n",
      "        \n",
      "Number of txs received: 15\n"
     ]
    }
   ],
   "source": [
    "if df is None:\n",
    "    print(\"No data yet. Downloading it all...\")\n",
    "    df = get_txs_time_period(current_date, threshold_day)\n",
    "else:\n",
    "    if df.timestamp.max().to_pydatetime().replace(tzinfo=None) < current_date:\n",
    "        print(f\"Filling the upper gap from {current_date.strftime('%Y-%m-%d')} to {df.timestamp.max().to_pydatetime().replace(tzinfo=None).strftime('%Y-%m-%d')}\")\n",
    "        tt_df = get_txs_time_period(current_date, df.timestamp.max().to_pydatetime().replace(tzinfo=None))\n",
    "        df = pd.concat([df, tt_df])\n",
    "    if df.timestamp.min().to_pydatetime().replace(tzinfo=None) > threshold_day:\n",
    "        print(f\"Filling the lower gap from {threshold_day.strftime('%Y-%m-%d')} to {df.timestamp.min().to_pydatetime().replace(tzinfo=None).strftime('%Y-%m-%d')}\")\n",
    "        tt_df = get_txs_time_period(df.timestamp.min().to_pydatetime().replace(tzinfo=None), threshold_day)\n",
    "        df = pd.concat([df, tt_df])\n",
    "df = df.drop_duplicates(ignore_index=True)"
   ]
  },
  {
   "cell_type": "code",
   "execution_count": 355,
   "id": "e087660e-cf86-4156-9f08-07d78606752a",
   "metadata": {},
   "outputs": [],
   "source": [
    "assets = {\n",
    "    'ibc/B3504E092456BA618CC28AC671A71FB08C6CA0FD0BE7C8A5B5A3E2DD933CC9E4':'axlUSDC',\n",
    "    'terra1nsuqsk6kh58ulczatwev87ttq2z6r3pusulg9r24mfj2fvtzd4uq3exn26':'ASTRO'\n",
    "}"
   ]
  },
  {
   "cell_type": "code",
   "execution_count": 376,
   "id": "3ac04ad6-1113-47a3-893e-97a5328fd212",
   "metadata": {},
   "outputs": [],
   "source": [
    "df = df.drop_duplicates(ignore_index=True)\n",
    "df.returnAsset = df.returnAsset.replace(assets)\n",
    "df.offerAsset = df.offerAsset.replace(assets)"
   ]
  },
  {
   "cell_type": "code",
   "execution_count": 377,
   "id": "f969175b-920a-4d46-bc92-b67c68ec2507",
   "metadata": {},
   "outputs": [],
   "source": [
    "df['date'] = df.timestamp.apply(lambda x: x.strftime(\"%Y-%m-%d\"))"
   ]
  },
  {
   "cell_type": "code",
   "execution_count": 378,
   "id": "1ff01739-c52d-4444-b06d-bc88a7d6ef6c",
   "metadata": {},
   "outputs": [
    {
     "name": "stdout",
     "output_type": "stream",
     "text": [
      "Trying to upload swaps to incioman-data-analysis astro_trades/data/raw_swaps/swaps.csv\n",
      "Uploaded swaps to incioman-data-analysis astro_trades/data/raw_swaps/swaps.csv\n"
     ]
    }
   ],
   "source": [
    "try:\n",
    "    print(f\"Trying to upload swaps to {bucket_name} {file_path_in_bucket}\")\n",
    "    csv_buffer = df.to_csv(index=False)\n",
    "    s3 = boto3.client('s3')\n",
    "    s3.put_object(Bucket=bucket_name, Key=file_path_in_bucket, Body=csv_buffer)\n",
    "    print(f\"Uploaded swaps to {bucket_name} {file_path_in_bucket}\")\n",
    "except Exception as e:\n",
    "    print(f\"Could not upload file {e}\")"
   ]
  },
  {
   "cell_type": "code",
   "execution_count": 379,
   "id": "f63a1484-fef7-4377-a500-a5ea0880bc91",
   "metadata": {},
   "outputs": [
    {
     "name": "stderr",
     "output_type": "stream",
     "text": [
      "/tmp/ipykernel_31/482981915.py:3: SettingWithCopyWarning: \n",
      "A value is trying to be set on a copy of a slice from a DataFrame.\n",
      "Try using .loc[row_indexer,col_indexer] = value instead\n",
      "\n",
      "See the caveats in the documentation: https://pandas.pydata.org/pandas-docs/stable/user_guide/indexing.html#returning-a-view-versus-a-copy\n",
      "  _sell['astro_amount'] =  - _sell.offerAmount\n",
      "/tmp/ipykernel_31/482981915.py:4: SettingWithCopyWarning: \n",
      "A value is trying to be set on a copy of a slice from a DataFrame.\n",
      "Try using .loc[row_indexer,col_indexer] = value instead\n",
      "\n",
      "See the caveats in the documentation: https://pandas.pydata.org/pandas-docs/stable/user_guide/indexing.html#returning-a-view-versus-a-copy\n",
      "  _buy['astro_amount'] =  _buy.returnAmount\n",
      "/tmp/ipykernel_31/482981915.py:5: SettingWithCopyWarning: \n",
      "A value is trying to be set on a copy of a slice from a DataFrame.\n",
      "Try using .loc[row_indexer,col_indexer] = value instead\n",
      "\n",
      "See the caveats in the documentation: https://pandas.pydata.org/pandas-docs/stable/user_guide/indexing.html#returning-a-view-versus-a-copy\n",
      "  _sell['usdc_amount'] =  - _sell.returnAmount\n",
      "/tmp/ipykernel_31/482981915.py:6: SettingWithCopyWarning: \n",
      "A value is trying to be set on a copy of a slice from a DataFrame.\n",
      "Try using .loc[row_indexer,col_indexer] = value instead\n",
      "\n",
      "See the caveats in the documentation: https://pandas.pydata.org/pandas-docs/stable/user_guide/indexing.html#returning-a-view-versus-a-copy\n",
      "  _buy['usdc_amount'] =  _buy.offerAmount\n"
     ]
    }
   ],
   "source": [
    "_sell = df[df.offerAsset=='ASTRO']\n",
    "_buy = df[df.returnAsset=='ASTRO']\n",
    "_sell['astro_amount'] =  - _sell.offerAmount\n",
    "_buy['astro_amount'] =  _buy.returnAmount\n",
    "_sell['usdc_amount'] =  - _sell.returnAmount\n",
    "_buy['usdc_amount'] =  _buy.offerAmount\n",
    "df = pd.concat([_sell, _buy])"
   ]
  },
  {
   "cell_type": "code",
   "execution_count": 380,
   "id": "2a51eec7-17f6-4aad-aa01-bea6816549d4",
   "metadata": {},
   "outputs": [
    {
     "name": "stdout",
     "output_type": "stream",
     "text": [
      "2023-06-26\n",
      "2023-07-19\n",
      "2023-07-26\n"
     ]
    }
   ],
   "source": [
    "from datetime import datetime, timedelta\n",
    "\n",
    "today = datetime.today()\n",
    "one_month_earlier = today - timedelta(days=30)\n",
    "one_month_earlier_date = one_month_earlier.strftime(\"%Y-%m-%d\")\n",
    "one_week_earlier = today - timedelta(days=7)\n",
    "one_week_earlier_date = one_week_earlier.strftime(\"%Y-%m-%d\")\n",
    "today_date = today.strftime(\"%Y-%m-%d\")\n",
    "\n",
    "print(one_month_earlier_date)\n",
    "print(one_week_earlier_date)\n",
    "print(today_date)"
   ]
  },
  {
   "cell_type": "code",
   "execution_count": 381,
   "id": "fbf08583-09b7-41fa-b168-8680f60e21c3",
   "metadata": {},
   "outputs": [],
   "source": [
    "def get_df_before_date(df, date, sell=True):  \n",
    "    if(sell):\n",
    "        _tt =  df[(df.date >= date)]\\\n",
    "            [['traderAddress','usdc_amount']]\\\n",
    "            .groupby('traderAddress')\\\n",
    "            .sum()\n",
    "        _tt = _tt[_tt.usdc_amount < 0]\n",
    "    else:\n",
    "        _tt =  df[(df.date >= date)]\\\n",
    "            [['traderAddress','usdc_amount']]\\\n",
    "            .groupby('traderAddress')\\\n",
    "            .sum()\n",
    "        _tt = _tt[_tt.usdc_amount > 0]\n",
    "    return _tt.sort_values(by='usdc_amount', ascending=sell).reset_index().head(50)"
   ]
  },
  {
   "cell_type": "code",
   "execution_count": 382,
   "id": "14bfb10e-85a2-42d1-b252-55144b1ce658",
   "metadata": {},
   "outputs": [],
   "source": [
    "tt_sell_month = get_df_before_date(df, one_month_earlier_date)\n",
    "tt_sell_week = get_df_before_date(df, one_week_earlier_date)\n",
    "tt_sell_today = get_df_before_date(df, today_date)\n",
    "\n",
    "tt_buy_month = get_df_before_date(df, one_month_earlier_date, sell=False)\n",
    "tt_buy_week = get_df_before_date(df, one_week_earlier_date, sell=False)\n",
    "tt_buy_today = get_df_before_date(df, today_date, sell=False)"
   ]
  },
  {
   "cell_type": "code",
   "execution_count": 393,
   "id": "a2b71225-517a-4bdd-bb7d-08da38e12da7",
   "metadata": {},
   "outputs": [
    {
     "data": {
      "text/html": [
       "<div>\n",
       "<style scoped>\n",
       "    .dataframe tbody tr th:only-of-type {\n",
       "        vertical-align: middle;\n",
       "    }\n",
       "\n",
       "    .dataframe tbody tr th {\n",
       "        vertical-align: top;\n",
       "    }\n",
       "\n",
       "    .dataframe thead th {\n",
       "        text-align: right;\n",
       "    }\n",
       "</style>\n",
       "<table border=\"1\" class=\"dataframe\">\n",
       "  <thead>\n",
       "    <tr style=\"text-align: right;\">\n",
       "      <th></th>\n",
       "      <th>traderAddress</th>\n",
       "      <th>usdc_amount</th>\n",
       "      <th>dollar_amount</th>\n",
       "    </tr>\n",
       "  </thead>\n",
       "  <tbody>\n",
       "    <tr>\n",
       "      <th>0</th>\n",
       "      <td>terra1sgl7m7v4487x36gvutljxn2crwpzpwv9v26exr</td>\n",
       "      <td>11514.824708</td>\n",
       "      <td>11514.824708</td>\n",
       "    </tr>\n",
       "    <tr>\n",
       "      <th>1</th>\n",
       "      <td>terra1ce5sd6z70cwzn84my2dq33d2sec6md9z5l9s7g</td>\n",
       "      <td>2938.140742</td>\n",
       "      <td>2938.140742</td>\n",
       "    </tr>\n",
       "    <tr>\n",
       "      <th>2</th>\n",
       "      <td>terra1g9srmv7ck4q94wmnluj3zryg9ttwr73gtqjgyq</td>\n",
       "      <td>909.011054</td>\n",
       "      <td>909.011054</td>\n",
       "    </tr>\n",
       "    <tr>\n",
       "      <th>3</th>\n",
       "      <td>terra163fsgaq8rnv68yxkm3rkhwelvm00wrtcc0x9hy</td>\n",
       "      <td>321.886710</td>\n",
       "      <td>321.886710</td>\n",
       "    </tr>\n",
       "    <tr>\n",
       "      <th>4</th>\n",
       "      <td>terra1yg57sejzex9mya0tzg95rqvyjfe2yrahys6xs7</td>\n",
       "      <td>129.230874</td>\n",
       "      <td>129.230874</td>\n",
       "    </tr>\n",
       "    <tr>\n",
       "      <th>5</th>\n",
       "      <td>terra15weraluk0pg0prv2nn28ly9zwdxn29nfx89av2</td>\n",
       "      <td>60.000000</td>\n",
       "      <td>60.000000</td>\n",
       "    </tr>\n",
       "    <tr>\n",
       "      <th>6</th>\n",
       "      <td>terra19lss58v6cnew83t59trluhkclu2n34sqv9p5y3</td>\n",
       "      <td>27.701226</td>\n",
       "      <td>27.701226</td>\n",
       "    </tr>\n",
       "    <tr>\n",
       "      <th>7</th>\n",
       "      <td>terra19qumnlx5yly30ny3xaavrjwwnlq4335g995r3m</td>\n",
       "      <td>19.437782</td>\n",
       "      <td>19.437782</td>\n",
       "    </tr>\n",
       "    <tr>\n",
       "      <th>8</th>\n",
       "      <td>terra15m7j76syfaz4n6u8tss7p5ufwfuhjk04g7z8mp</td>\n",
       "      <td>18.890926</td>\n",
       "      <td>18.890926</td>\n",
       "    </tr>\n",
       "    <tr>\n",
       "      <th>9</th>\n",
       "      <td>terra1wgrzscvefvlme6zhgxsdj92tfsczflwjlzujjt</td>\n",
       "      <td>4.458326</td>\n",
       "      <td>4.458326</td>\n",
       "    </tr>\n",
       "    <tr>\n",
       "      <th>10</th>\n",
       "      <td>terra1e7qd69as29w7afdt5mdmc8ne5quq9gfzmya9yu</td>\n",
       "      <td>4.094090</td>\n",
       "      <td>4.094090</td>\n",
       "    </tr>\n",
       "    <tr>\n",
       "      <th>11</th>\n",
       "      <td>terra1ld7v4ltkfldlexvcxased7fxr6evffv2k4du0s</td>\n",
       "      <td>3.615986</td>\n",
       "      <td>3.615986</td>\n",
       "    </tr>\n",
       "    <tr>\n",
       "      <th>12</th>\n",
       "      <td>terra1t70xq9pjhvvzvzsjqf4a8hq75wjhe709eaedul</td>\n",
       "      <td>1.347936</td>\n",
       "      <td>1.347936</td>\n",
       "    </tr>\n",
       "  </tbody>\n",
       "</table>\n",
       "</div>"
      ],
      "text/plain": [
       "                                   traderAddress   usdc_amount  dollar_amount\n",
       "0   terra1sgl7m7v4487x36gvutljxn2crwpzpwv9v26exr  11514.824708   11514.824708\n",
       "1   terra1ce5sd6z70cwzn84my2dq33d2sec6md9z5l9s7g   2938.140742    2938.140742\n",
       "2   terra1g9srmv7ck4q94wmnluj3zryg9ttwr73gtqjgyq    909.011054     909.011054\n",
       "3   terra163fsgaq8rnv68yxkm3rkhwelvm00wrtcc0x9hy    321.886710     321.886710\n",
       "4   terra1yg57sejzex9mya0tzg95rqvyjfe2yrahys6xs7    129.230874     129.230874\n",
       "5   terra15weraluk0pg0prv2nn28ly9zwdxn29nfx89av2     60.000000      60.000000\n",
       "6   terra19lss58v6cnew83t59trluhkclu2n34sqv9p5y3     27.701226      27.701226\n",
       "7   terra19qumnlx5yly30ny3xaavrjwwnlq4335g995r3m     19.437782      19.437782\n",
       "8   terra15m7j76syfaz4n6u8tss7p5ufwfuhjk04g7z8mp     18.890926      18.890926\n",
       "9   terra1wgrzscvefvlme6zhgxsdj92tfsczflwjlzujjt      4.458326       4.458326\n",
       "10  terra1e7qd69as29w7afdt5mdmc8ne5quq9gfzmya9yu      4.094090       4.094090\n",
       "11  terra1ld7v4ltkfldlexvcxased7fxr6evffv2k4du0s      3.615986       3.615986\n",
       "12  terra1t70xq9pjhvvzvzsjqf4a8hq75wjhe709eaedul      1.347936       1.347936"
      ]
     },
     "execution_count": 393,
     "metadata": {},
     "output_type": "execute_result"
    }
   ],
   "source": [
    "tt_buy_today"
   ]
  },
  {
   "cell_type": "code",
   "execution_count": 384,
   "id": "fbf4598f-6160-4517-9bfd-eeb63c3254eb",
   "metadata": {},
   "outputs": [],
   "source": [
    "import requests\n",
    "import json\n",
    "\n",
    "def get_balances(address):\n",
    "    url = \"https://starscream-terra-mainnet.chainscope.dev/\"\n",
    "    headers = {\n",
    "        \"Content-Type\": \"application/json\"\n",
    "    }\n",
    "    \n",
    "    body = {\n",
    "        \"query\": \"\"\"\n",
    "        query Query($address: String!, $tokenContracts: [String!]!) {\n",
    "            tokenBalances(address: $address, tokenContracts: $tokenContracts)\n",
    "        }\n",
    "        \"\"\",\n",
    "        \"variables\": {\n",
    "            \"address\": f\"{address}\",\n",
    "            \"tokenContracts\": [\n",
    "                \"terra1x62mjnme4y0rdnag3r8rfgjuutsqlkkyuh4ndgex0wl3wue25uksau39q8\",\n",
    "                \"terra1xp9hrhthzddnl7j5du83gqqr4wmdjm5t0guzg9jp6jwrtpukwfjsjgy4f3\",\n",
    "                \"terra19p20mfnvwh9yvyr7aus3a6z6g6uk28fv4jhx9kmnc2m7krg27q2qkfenjw\",\n",
    "                \"terra1nsuqsk6kh58ulczatwev87ttq2z6r3pusulg9r24mfj2fvtzd4uq3exn26\",\n",
    "                \"terra1ecgazyd0waaj3g7l9cmy5gulhxkps2gmxu9ghducvuypjq68mq2s5lvsct\",\n",
    "                \"terra1lxx40s29qvkrcj8fsa3yzyehy7w50umdvvnls2r830rys6lu2zns63eelv\",\n",
    "                \"terra17aj4ty4sz4yhgm08na8drc0v03v2jwr3waxcqrwhajj729zhl7zqnpc0ml\"\n",
    "            ]\n",
    "        },\n",
    "        \"operationName\": \"Query\"\n",
    "    }\n",
    "    \n",
    "    response = requests.post(url, headers=headers, data=json.dumps(body))\n",
    "    \n",
    "    if response.status_code == 200:\n",
    "        result = response.json()\n",
    "        return result\n",
    "    else:\n",
    "        print(\"Request failed with status code:\", response.status_code)"
   ]
  },
  {
   "cell_type": "code",
   "execution_count": 385,
   "id": "07619c58-0ee1-44a9-a523-61a45d7749eb",
   "metadata": {},
   "outputs": [],
   "source": [
    "tokens = [\n",
    "\"xASTRO\",\n",
    "\"SAYVE\",\n",
    "\"ORNE\",\n",
    "\"ASTRO\",\n",
    "\"ampLUNA\",\n",
    "\"ROAR\",\n",
    "\"boneLuna\"\n",
    "]"
   ]
  },
  {
   "cell_type": "code",
   "execution_count": 386,
   "id": "8f41366c-c706-4802-975c-53849c5250c3",
   "metadata": {},
   "outputs": [],
   "source": [
    "addresses = set(tt_sell_month.traderAddress.tolist())\\\n",
    "    .union(set(tt_sell_week.traderAddress.tolist()))\\\n",
    "    .union(set(tt_sell_today.traderAddress.tolist()))\\\n",
    "    .union(set(tt_buy_month.traderAddress.tolist()))\\\n",
    "    .union(set(tt_buy_week.traderAddress.tolist()))\\\n",
    "    .union(set(tt_buy_today.traderAddress.tolist()))"
   ]
  },
  {
   "cell_type": "code",
   "execution_count": 387,
   "id": "f279adcf-bc7f-4740-937c-198a7c66306c",
   "metadata": {},
   "outputs": [],
   "source": [
    "balances = []\n",
    "for address in addresses:\n",
    "    balance_dict = {k: int(v)/1000000 for k, v in zip(tokens, get_balances(address)['data']['tokenBalances'])}\n",
    "    balance_dict['traderAddress']= address\n",
    "    balances.append(balance_dict)"
   ]
  },
  {
   "cell_type": "code",
   "execution_count": 388,
   "id": "61a6cbfe-5369-4b7e-9591-bf3fcee1eb28",
   "metadata": {},
   "outputs": [],
   "source": [
    "def add_balances(df, balances, sell=True):\n",
    "    _tt = df\n",
    "    if(not sell):\n",
    "        _tt['dollar_amount'] = _tt.usdc_amount\n",
    "    if(sell):\n",
    "        _tt['dollar_amount'] = _tt.usdc_amount\n",
    "    _tt = pd.DataFrame(balances).merge(df, on='traderAddress')\n",
    "    _tt['total_astro_holdings'] = _tt['ASTRO'] + _tt['xASTRO']\n",
    "    _tt.dollar_amount = _tt.dollar_amount.apply(abs)\n",
    "    _tt.total_return_dollar_amount = _tt.dollar_amount.apply(int)\n",
    "    _tt[\"total_return_dollar_amount_label\"] = _tt.total_return_dollar_amount.apply(lambda x: f\"${int(x/1000)}k\" if x > 1000 else f\"${x}\")\n",
    "    return _tt"
   ]
  },
  {
   "cell_type": "code",
   "execution_count": 389,
   "id": "f52324d7-4beb-4580-bb11-eb87851f4b7a",
   "metadata": {},
   "outputs": [
    {
     "name": "stderr",
     "output_type": "stream",
     "text": [
      "/tmp/ipykernel_31/3410077199.py:10: UserWarning: Pandas doesn't allow columns to be created via a new attribute name - see https://pandas.pydata.org/pandas-docs/stable/indexing.html#attribute-access\n",
      "  _tt.total_return_dollar_amount = _tt.dollar_amount.apply(int)\n",
      "/tmp/ipykernel_31/3410077199.py:10: UserWarning: Pandas doesn't allow columns to be created via a new attribute name - see https://pandas.pydata.org/pandas-docs/stable/indexing.html#attribute-access\n",
      "  _tt.total_return_dollar_amount = _tt.dollar_amount.apply(int)\n",
      "/tmp/ipykernel_31/3410077199.py:10: UserWarning: Pandas doesn't allow columns to be created via a new attribute name - see https://pandas.pydata.org/pandas-docs/stable/indexing.html#attribute-access\n",
      "  _tt.total_return_dollar_amount = _tt.dollar_amount.apply(int)\n"
     ]
    }
   ],
   "source": [
    "tt_sell_month_balances = add_balances(tt_sell_month, balances)\n",
    "tt_sell_week_balances = add_balances(tt_sell_week, balances)\n",
    "tt_sell_today_balances = add_balances(tt_sell_today, balances)"
   ]
  },
  {
   "cell_type": "code",
   "execution_count": 390,
   "id": "39a6029e-cb6a-4c9b-8b01-57ed5bf13bbb",
   "metadata": {},
   "outputs": [
    {
     "name": "stderr",
     "output_type": "stream",
     "text": [
      "/tmp/ipykernel_31/3410077199.py:10: UserWarning: Pandas doesn't allow columns to be created via a new attribute name - see https://pandas.pydata.org/pandas-docs/stable/indexing.html#attribute-access\n",
      "  _tt.total_return_dollar_amount = _tt.dollar_amount.apply(int)\n",
      "/tmp/ipykernel_31/3410077199.py:10: UserWarning: Pandas doesn't allow columns to be created via a new attribute name - see https://pandas.pydata.org/pandas-docs/stable/indexing.html#attribute-access\n",
      "  _tt.total_return_dollar_amount = _tt.dollar_amount.apply(int)\n",
      "/tmp/ipykernel_31/3410077199.py:10: UserWarning: Pandas doesn't allow columns to be created via a new attribute name - see https://pandas.pydata.org/pandas-docs/stable/indexing.html#attribute-access\n",
      "  _tt.total_return_dollar_amount = _tt.dollar_amount.apply(int)\n"
     ]
    }
   ],
   "source": [
    "tt_buy_month_balances = add_balances(tt_buy_month, balances, sell=False)\n",
    "tt_buy_week_balances = add_balances(tt_buy_week, balances, sell=False)\n",
    "tt_buy_today_balances = add_balances(tt_buy_today, balances, sell=False)"
   ]
  },
  {
   "cell_type": "code",
   "execution_count": 391,
   "id": "7f000977-8e90-4858-90f6-6449764230a7",
   "metadata": {},
   "outputs": [],
   "source": [
    "def write_to_s3(df, filename, bucket_name='incioman-data-analysis'):\n",
    "    print(f\"Uploading {filename} to {datetime.today().date().strftime('%Y%m%d')} on s3\")\n",
    "    json_string = df.to_json(orient='records')\n",
    "    file_path = f\"astro_trades/data/summary_for_webapp/{datetime.today().date().strftime('%Y%m%d')}/{filename}\"\n",
    "    s3.put_object(Body=json_string, Bucket=bucket_name, Key=file_path)"
   ]
  },
  {
   "cell_type": "code",
   "execution_count": 392,
   "id": "9403034f-2859-4448-9e06-4d37cf62a8c4",
   "metadata": {},
   "outputs": [
    {
     "name": "stdout",
     "output_type": "stream",
     "text": [
      "Uploading top_monthly_sellers.json to 20230726 on s3\n",
      "Uploading top_weekly_sellers.json to 20230726 on s3\n",
      "Uploading top_today_sellers.json to 20230726 on s3\n",
      "Uploading top_monthly_buyers.json to 20230726 on s3\n",
      "Uploading top_weekly_buyers.json to 20230726 on s3\n",
      "Uploading top_today_buyers.json to 20230726 on s3\n"
     ]
    }
   ],
   "source": [
    "write_to_s3(tt_sell_month_balances, \"top_monthly_sellers.json\")\n",
    "write_to_s3(tt_sell_week_balances, \"top_weekly_sellers.json\")\n",
    "write_to_s3(tt_sell_today_balances, \"top_today_sellers.json\")\n",
    "\n",
    "write_to_s3(tt_buy_month_balances, \"top_monthly_buyers.json\")\n",
    "write_to_s3(tt_buy_week_balances, \"top_weekly_buyers.json\")\n",
    "write_to_s3(tt_buy_today_balances, \"top_today_buyers.json\")"
   ]
  },
  {
   "cell_type": "code",
   "execution_count": null,
   "id": "db9f749f-c360-454e-ba18-7772eb6e1c43",
   "metadata": {},
   "outputs": [],
   "source": []
  }
 ],
 "metadata": {
  "kernelspec": {
   "display_name": "Python 3 (ipykernel)",
   "language": "python",
   "name": "python3"
  },
  "language_info": {
   "codemirror_mode": {
    "name": "ipython",
    "version": 3
   },
   "file_extension": ".py",
   "mimetype": "text/x-python",
   "name": "python",
   "nbconvert_exporter": "python",
   "pygments_lexer": "ipython3",
   "version": "3.9.17"
  }
 },
 "nbformat": 4,
 "nbformat_minor": 5
}
