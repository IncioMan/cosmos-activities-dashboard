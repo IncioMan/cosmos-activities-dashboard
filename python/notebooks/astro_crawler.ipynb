{
 "cells": [
  {
   "cell_type": "code",
   "execution_count": 91,
   "id": "8b99b978-c372-40b7-b821-5cc06690daf6",
   "metadata": {},
   "outputs": [],
   "source": [
    "import requests\n",
    "import json\n",
    "import pandas as pd\n",
    "import time\n",
    "import re\n",
    "import urllib\n",
    "import matplotlib\n",
    "pd.set_option('display.max_colwidth', None)"
   ]
  },
  {
   "cell_type": "code",
   "execution_count": 92,
   "id": "197c6fb6-7ca1-411a-ae53-f2fdf8262106",
   "metadata": {},
   "outputs": [],
   "source": [
    "address = \"terra1w579ysjvpx7xxhckxewk8sykxz70gm48wpcuruenl29rhe6p6raslhj0m6\""
   ]
  },
  {
   "cell_type": "code",
   "execution_count": 93,
   "id": "005ecbf8-91c9-402a-82f0-b0c436353b45",
   "metadata": {},
   "outputs": [],
   "source": [
    "def get_txs_time_period(_from, _to):\n",
    "    _df = None\n",
    "    timestamp = urllib.parse.quote(_from.strftime(\"%Y-%m-%d+%H:%M:%S\"),safe='+')\n",
    "    while True:\n",
    "        url = f\"\"\"\n",
    "        https://api.seer.coinhall.org/api/coinhall/swaps/{address}?offset={timestamp}.010646870&limit=15\n",
    "        \"\"\"\n",
    "        print(url)\n",
    "        # Send a GET request to the API\n",
    "        response = requests.get(url)\n",
    "    \n",
    "        time.sleep(1)\n",
    "        print(f\"Number of txs received: {len(response.json()['txs'])}\")\n",
    "        \n",
    "        new_df = pd.DataFrame(response.json()['txs'])\n",
    "        if _df is None:\n",
    "            _df = new_df\n",
    "        else:\n",
    "            _df = pd.concat([_df, new_df])\n",
    "        _df.timestamp = pd.to_datetime(_df.timestamp)\n",
    "        min_ts = _df.timestamp.min()\n",
    "        timestamp = urllib.parse.quote(min_ts.strftime(\"%Y-%m-%d+%H:%M:%S\"),safe='+')\n",
    "\n",
    "        if(min_ts.to_pydatetime().replace(tzinfo=None) < _to):\n",
    "            break\n",
    "    return _df"
   ]
  },
  {
   "cell_type": "code",
   "execution_count": 94,
   "id": "8fb00b06-976c-4848-b853-5ee5fc450641",
   "metadata": {},
   "outputs": [],
   "source": [
    "from datetime import datetime, timedelta\n",
    "\n",
    "current_date = datetime.now()\n",
    "threshold_day = current_date - timedelta(days=40)"
   ]
  },
  {
   "cell_type": "code",
   "execution_count": 95,
   "id": "fd7e4d4f-1c5b-4683-9c18-702d7df1447c",
   "metadata": {},
   "outputs": [],
   "source": [
    "try:\n",
    "    df = pd.read_csv(\"./data/astro/swaps.csv\")\n",
    "    df.timestamp = pd.to_datetime(df.timestamp, format='mixed')\n",
    "except Exception as e:\n",
    "    print(f\"No file yet {e}\")\n",
    "    df = None"
   ]
  },
  {
   "cell_type": "code",
   "execution_count": null,
   "id": "0ecba429-cddb-4b88-bf4f-21bdcffb9335",
   "metadata": {},
   "outputs": [],
   "source": [
    "if df is None:\n",
    "    print(\"No data yet. Downloading it all...\")\n",
    "    df = get_txs_time_period(current_date, threshold_day)\n",
    "else:\n",
    "    if df.timestamp.max().to_pydatetime().replace(tzinfo=None) < current_date:\n",
    "        print(f\"Filling the upper gap from {current_date.strftime('%Y-%m-%d')} to {df.timestamp.max().to_pydatetime().replace(tzinfo=None).strftime('%Y-%m-%d')}\")\n",
    "        tt_df = get_txs_time_period(current_date, df.timestamp.max().to_pydatetime().replace(tzinfo=None))\n",
    "        df = pd.concat([df, tt_df])\n",
    "    if df.timestamp.min().to_pydatetime().replace(tzinfo=None) > threshold_day:\n",
    "        print(f\"Filling the lower gap from {threshold_day.strftime('%Y-%m-%d')} to {df.timestamp.min().to_pydatetime().replace(tzinfo=None).strftime('%Y-%m-%d')}\")\n",
    "        tt_df = get_txs_time_period(df.timestamp.min().to_pydatetime().replace(tzinfo=None), threshold_day)\n",
    "        df = pd.concat([df, tt_df])\n",
    "df = df.drop_duplicates(ignore_index=True)"
   ]
  },
  {
   "cell_type": "code",
   "execution_count": 97,
   "id": "e087660e-cf86-4156-9f08-07d78606752a",
   "metadata": {},
   "outputs": [],
   "source": [
    "assets = {\n",
    "    'ibc/B3504E092456BA618CC28AC671A71FB08C6CA0FD0BE7C8A5B5A3E2DD933CC9E4':'axlUSDC',\n",
    "    'terra1nsuqsk6kh58ulczatwev87ttq2z6r3pusulg9r24mfj2fvtzd4uq3exn26':'ASTRO'\n",
    "}"
   ]
  },
  {
   "cell_type": "code",
   "execution_count": 98,
   "id": "3ac04ad6-1113-47a3-893e-97a5328fd212",
   "metadata": {},
   "outputs": [],
   "source": [
    "df = df.drop_duplicates(ignore_index=True)\n",
    "df.returnAsset = df.returnAsset.replace(assets)\n",
    "df.offerAsset = df.offerAsset.replace(assets)"
   ]
  },
  {
   "cell_type": "code",
   "execution_count": 99,
   "id": "f969175b-920a-4d46-bc92-b67c68ec2507",
   "metadata": {},
   "outputs": [],
   "source": [
    "df['date'] = df.timestamp.apply(lambda x: x.strftime(\"%Y-%m-%d\"))"
   ]
  },
  {
   "cell_type": "code",
   "execution_count": 100,
   "id": "5f4d198b-619d-44d5-912a-6377cd863b57",
   "metadata": {},
   "outputs": [],
   "source": [
    "df.to_csv(f'data/astro/swaps.csv', index=False)"
   ]
  },
  {
   "cell_type": "code",
   "execution_count": 101,
   "id": "4bea4fad-4f93-4daf-af7f-dd2ecb819e72",
   "metadata": {},
   "outputs": [],
   "source": [
    "astro_sell = df[df.offerAsset=='ASTRO']"
   ]
  },
  {
   "cell_type": "code",
   "execution_count": 102,
   "id": "bb8ec9b9-4dbb-4c8c-829e-d467b92c0b97",
   "metadata": {},
   "outputs": [
    {
     "data": {
      "text/html": [
       "<div>\n",
       "<style scoped>\n",
       "    .dataframe tbody tr th:only-of-type {\n",
       "        vertical-align: middle;\n",
       "    }\n",
       "\n",
       "    .dataframe tbody tr th {\n",
       "        vertical-align: top;\n",
       "    }\n",
       "\n",
       "    .dataframe thead th {\n",
       "        text-align: right;\n",
       "    }\n",
       "</style>\n",
       "<table border=\"1\" class=\"dataframe\">\n",
       "  <thead>\n",
       "    <tr style=\"text-align: right;\">\n",
       "      <th></th>\n",
       "      <th>txHash</th>\n",
       "      <th>timestamp</th>\n",
       "      <th>traderAddress</th>\n",
       "      <th>offerAsset</th>\n",
       "      <th>offerAmount</th>\n",
       "      <th>offerAssetUsdPrice</th>\n",
       "      <th>returnAsset</th>\n",
       "      <th>returnAmount</th>\n",
       "      <th>returnAssetUsdPrice</th>\n",
       "      <th>isHallSwap</th>\n",
       "      <th>usdVolume</th>\n",
       "      <th>date</th>\n",
       "    </tr>\n",
       "  </thead>\n",
       "  <tbody>\n",
       "    <tr>\n",
       "      <th>0</th>\n",
       "      <td>FE01E7E53809EA79EC2715E3FF8D7257F7E1D7FAA313F69A85D6D9C0BB251BD6</td>\n",
       "      <td>2023-07-04 19:16:15.443000+00:00</td>\n",
       "      <td>terra1djkwwpgevx42h8j7zwtgtvy2zcd2z345n5kuhn</td>\n",
       "      <td>ASTRO</td>\n",
       "      <td>2.716330</td>\n",
       "      <td>0.026810</td>\n",
       "      <td>axlUSDC</td>\n",
       "      <td>0.072808</td>\n",
       "      <td>1.000239</td>\n",
       "      <td>False</td>\n",
       "      <td>0.072825</td>\n",
       "      <td>2023-07-04</td>\n",
       "    </tr>\n",
       "    <tr>\n",
       "      <th>1</th>\n",
       "      <td>FE01E7E53809EA79EC2715E3FF8D7257F7E1D7FAA313F69A85D6D9C0BB251BD6</td>\n",
       "      <td>2023-07-04 19:16:15.443000+00:00</td>\n",
       "      <td>terra1djkwwpgevx42h8j7zwtgtvy2zcd2z345n5kuhn</td>\n",
       "      <td>ASTRO</td>\n",
       "      <td>16.465340</td>\n",
       "      <td>0.026810</td>\n",
       "      <td>axlUSDC</td>\n",
       "      <td>0.441335</td>\n",
       "      <td>1.000239</td>\n",
       "      <td>False</td>\n",
       "      <td>0.441440</td>\n",
       "      <td>2023-07-04</td>\n",
       "    </tr>\n",
       "    <tr>\n",
       "      <th>2</th>\n",
       "      <td>9E66D50BC32283FE84AA95C9DD88024AD88DBA358BC45DBA15DD7332D69CBB84</td>\n",
       "      <td>2023-07-04 19:15:33.373000+00:00</td>\n",
       "      <td>terra1djkwwpgevx42h8j7zwtgtvy2zcd2z345n5kuhn</td>\n",
       "      <td>ASTRO</td>\n",
       "      <td>569.578058</td>\n",
       "      <td>0.026796</td>\n",
       "      <td>axlUSDC</td>\n",
       "      <td>15.267301</td>\n",
       "      <td>0.999693</td>\n",
       "      <td>False</td>\n",
       "      <td>15.262612</td>\n",
       "      <td>2023-07-04</td>\n",
       "    </tr>\n",
       "    <tr>\n",
       "      <th>3</th>\n",
       "      <td>9E66D50BC32283FE84AA95C9DD88024AD88DBA358BC45DBA15DD7332D69CBB84</td>\n",
       "      <td>2023-07-04 19:15:33.373000+00:00</td>\n",
       "      <td>terra1djkwwpgevx42h8j7zwtgtvy2zcd2z345n5kuhn</td>\n",
       "      <td>ASTRO</td>\n",
       "      <td>1064.903007</td>\n",
       "      <td>0.026798</td>\n",
       "      <td>axlUSDC</td>\n",
       "      <td>28.546487</td>\n",
       "      <td>0.999693</td>\n",
       "      <td>False</td>\n",
       "      <td>28.537719</td>\n",
       "      <td>2023-07-04</td>\n",
       "    </tr>\n",
       "    <tr>\n",
       "      <th>4</th>\n",
       "      <td>7FDFCACE399E6390C39BBA96B36FAC3F9D37F551EB6F71973716012A98336E7A</td>\n",
       "      <td>2023-07-04 19:15:03.564000+00:00</td>\n",
       "      <td>terra1djkwwpgevx42h8j7zwtgtvy2zcd2z345n5kuhn</td>\n",
       "      <td>ASTRO</td>\n",
       "      <td>13.645774</td>\n",
       "      <td>0.026800</td>\n",
       "      <td>axlUSDC</td>\n",
       "      <td>0.365817</td>\n",
       "      <td>0.999693</td>\n",
       "      <td>False</td>\n",
       "      <td>0.365705</td>\n",
       "      <td>2023-07-04</td>\n",
       "    </tr>\n",
       "  </tbody>\n",
       "</table>\n",
       "</div>"
      ],
      "text/plain": [
       "                                                             txHash  \\\n",
       "0  FE01E7E53809EA79EC2715E3FF8D7257F7E1D7FAA313F69A85D6D9C0BB251BD6   \n",
       "1  FE01E7E53809EA79EC2715E3FF8D7257F7E1D7FAA313F69A85D6D9C0BB251BD6   \n",
       "2  9E66D50BC32283FE84AA95C9DD88024AD88DBA358BC45DBA15DD7332D69CBB84   \n",
       "3  9E66D50BC32283FE84AA95C9DD88024AD88DBA358BC45DBA15DD7332D69CBB84   \n",
       "4  7FDFCACE399E6390C39BBA96B36FAC3F9D37F551EB6F71973716012A98336E7A   \n",
       "\n",
       "                         timestamp  \\\n",
       "0 2023-07-04 19:16:15.443000+00:00   \n",
       "1 2023-07-04 19:16:15.443000+00:00   \n",
       "2 2023-07-04 19:15:33.373000+00:00   \n",
       "3 2023-07-04 19:15:33.373000+00:00   \n",
       "4 2023-07-04 19:15:03.564000+00:00   \n",
       "\n",
       "                                  traderAddress offerAsset  offerAmount  \\\n",
       "0  terra1djkwwpgevx42h8j7zwtgtvy2zcd2z345n5kuhn      ASTRO     2.716330   \n",
       "1  terra1djkwwpgevx42h8j7zwtgtvy2zcd2z345n5kuhn      ASTRO    16.465340   \n",
       "2  terra1djkwwpgevx42h8j7zwtgtvy2zcd2z345n5kuhn      ASTRO   569.578058   \n",
       "3  terra1djkwwpgevx42h8j7zwtgtvy2zcd2z345n5kuhn      ASTRO  1064.903007   \n",
       "4  terra1djkwwpgevx42h8j7zwtgtvy2zcd2z345n5kuhn      ASTRO    13.645774   \n",
       "\n",
       "   offerAssetUsdPrice returnAsset  returnAmount  returnAssetUsdPrice  \\\n",
       "0            0.026810     axlUSDC      0.072808             1.000239   \n",
       "1            0.026810     axlUSDC      0.441335             1.000239   \n",
       "2            0.026796     axlUSDC     15.267301             0.999693   \n",
       "3            0.026798     axlUSDC     28.546487             0.999693   \n",
       "4            0.026800     axlUSDC      0.365817             0.999693   \n",
       "\n",
       "   isHallSwap  usdVolume        date  \n",
       "0       False   0.072825  2023-07-04  \n",
       "1       False   0.441440  2023-07-04  \n",
       "2       False  15.262612  2023-07-04  \n",
       "3       False  28.537719  2023-07-04  \n",
       "4       False   0.365705  2023-07-04  "
      ]
     },
     "execution_count": 102,
     "metadata": {},
     "output_type": "execute_result"
    }
   ],
   "source": [
    "astro_sell.head()"
   ]
  },
  {
   "cell_type": "code",
   "execution_count": 103,
   "id": "aed58da2-5ac7-4447-82bc-09367db64af2",
   "metadata": {},
   "outputs": [],
   "source": [
    "tt = astro_sell[astro_sell.date >= '2023-07-01']\\\n",
    "    [['traderAddress','returnAmount']]\\\n",
    "    .groupby('traderAddress')\\\n",
    "    .sum().sort_values(by='returnAmount', ascending=False).reset_index().head(50)"
   ]
  },
  {
   "cell_type": "code",
   "execution_count": 104,
   "id": "fbf4598f-6160-4517-9bfd-eeb63c3254eb",
   "metadata": {},
   "outputs": [],
   "source": [
    "import requests\n",
    "import json\n",
    "\n",
    "def get_balances(address):\n",
    "    url = \"https://starscream-terra-mainnet.chainscope.dev/\"\n",
    "    headers = {\n",
    "        \"Content-Type\": \"application/json\"\n",
    "    }\n",
    "    \n",
    "    body = {\n",
    "        \"query\": \"\"\"\n",
    "        query Query($address: String!, $tokenContracts: [String!]!) {\n",
    "            tokenBalances(address: $address, tokenContracts: $tokenContracts)\n",
    "        }\n",
    "        \"\"\",\n",
    "        \"variables\": {\n",
    "            \"address\": f\"{address}\",\n",
    "            \"tokenContracts\": [\n",
    "                \"terra1x62mjnme4y0rdnag3r8rfgjuutsqlkkyuh4ndgex0wl3wue25uksau39q8\",\n",
    "                \"terra1xp9hrhthzddnl7j5du83gqqr4wmdjm5t0guzg9jp6jwrtpukwfjsjgy4f3\",\n",
    "                \"terra19p20mfnvwh9yvyr7aus3a6z6g6uk28fv4jhx9kmnc2m7krg27q2qkfenjw\",\n",
    "                \"terra1nsuqsk6kh58ulczatwev87ttq2z6r3pusulg9r24mfj2fvtzd4uq3exn26\",\n",
    "                \"terra1ecgazyd0waaj3g7l9cmy5gulhxkps2gmxu9ghducvuypjq68mq2s5lvsct\",\n",
    "                \"terra1lxx40s29qvkrcj8fsa3yzyehy7w50umdvvnls2r830rys6lu2zns63eelv\",\n",
    "                \"terra17aj4ty4sz4yhgm08na8drc0v03v2jwr3waxcqrwhajj729zhl7zqnpc0ml\"\n",
    "            ]\n",
    "        },\n",
    "        \"operationName\": \"Query\"\n",
    "    }\n",
    "    \n",
    "    response = requests.post(url, headers=headers, data=json.dumps(body))\n",
    "    \n",
    "    if response.status_code == 200:\n",
    "        result = response.json()\n",
    "        return result\n",
    "    else:\n",
    "        print(\"Request failed with status code:\", response.status_code)"
   ]
  },
  {
   "cell_type": "code",
   "execution_count": 105,
   "id": "07619c58-0ee1-44a9-a523-61a45d7749eb",
   "metadata": {},
   "outputs": [],
   "source": [
    "tokens = [\n",
    "\"xASTRO\",\n",
    "\"SAYVE\",\n",
    "\"ORNE\",\n",
    "\"ASTRO\",\n",
    "\"ampLUNA\",\n",
    "\"ROAR\",\n",
    "\"boneLuna\"\n",
    "]"
   ]
  },
  {
   "cell_type": "code",
   "execution_count": 106,
   "id": "f279adcf-bc7f-4740-937c-198a7c66306c",
   "metadata": {},
   "outputs": [],
   "source": [
    "balances = []\n",
    "for i, row in tt.iterrows():\n",
    "    address = row['traderAddress']\n",
    "    balance_dict = {k: int(v)/1000000 for k, v in zip(tokens, get_balances(row['traderAddress'])['data']['tokenBalances'])}\n",
    "    balance_dict['traderAddress']= address\n",
    "    balances.append(balance_dict)"
   ]
  },
  {
   "cell_type": "code",
   "execution_count": 107,
   "id": "39a6029e-cb6a-4c9b-8b01-57ed5bf13bbb",
   "metadata": {},
   "outputs": [],
   "source": [
    "tt = pd.DataFrame(balances).merge(tt, on='traderAddress')"
   ]
  },
  {
   "cell_type": "code",
   "execution_count": 109,
   "id": "5de0d008-1a44-40e2-b08b-602949fb180f",
   "metadata": {},
   "outputs": [],
   "source": [
    "tt['Total_astro'] = tt['ASTRO'] + tt['xASTRO']"
   ]
  },
  {
   "cell_type": "code",
   "execution_count": 110,
   "id": "abc8cefc-39b3-4a2e-9206-93f01d512c32",
   "metadata": {},
   "outputs": [],
   "source": [
    "json_data = tt.to_json(orient='records')\n",
    "with open(\"./data/astro/top_sellers.json\", 'w') as f:\n",
    "    f.write(json_data)"
   ]
  },
  {
   "cell_type": "markdown",
   "id": "f0c40eba-e5ec-42c6-90e5-d6c9c23d127c",
   "metadata": {},
   "source": [
    "astro_sell[['date','returnAmount']].groupby('date').sum().plot(kind='bar')"
   ]
  },
  {
   "cell_type": "markdown",
   "id": "dd8bcb7e-51a7-41b6-9f88-b788797a9e77",
   "metadata": {},
   "source": [
    "astro_sell[['date','traderAddress']].groupby('date').count().plot(kind='bar')"
   ]
  },
  {
   "cell_type": "code",
   "execution_count": null,
   "id": "9ed22a9d-7a9e-4aad-b91e-27ed835863a6",
   "metadata": {},
   "outputs": [],
   "source": []
  }
 ],
 "metadata": {
  "kernelspec": {
   "display_name": "Python 3 (ipykernel)",
   "language": "python",
   "name": "python3"
  },
  "language_info": {
   "codemirror_mode": {
    "name": "ipython",
    "version": 3
   },
   "file_extension": ".py",
   "mimetype": "text/x-python",
   "name": "python",
   "nbconvert_exporter": "python",
   "pygments_lexer": "ipython3",
   "version": "3.9.17"
  }
 },
 "nbformat": 4,
 "nbformat_minor": 5
}
