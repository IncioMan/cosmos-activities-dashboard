{
 "cells": [
  {
   "cell_type": "code",
   "execution_count": null,
   "id": "73a5988d-33e4-473e-be05-77cf02e8dac9",
   "metadata": {},
   "outputs": [],
   "source": [
    "import requests\n",
    "import json\n",
    "import pandas as pd\n",
    "import time\n",
    "import re\n",
    "pd.set_option('display.max_colwidth', None)"
   ]
  },
  {
   "cell_type": "code",
   "execution_count": null,
   "id": "611cd07f-797d-499e-a578-b0ea46e11d9e",
   "metadata": {},
   "outputs": [],
   "source": [
    "def get_tx_hash(events):\n",
    "    for event in events:\n",
    "        if(event['type'] == 'tx'):\n",
    "            for attr in event['attributes']:\n",
    "                if('composite_key' in attr and attr['composite_key']=='tx.hash'):\n",
    "                    return attr['value']\n",
    "    return None"
   ]
  },
  {
   "cell_type": "code",
   "execution_count": null,
   "id": "b5013227-25a7-4f36-8bb6-3dd833ea51ec",
   "metadata": {},
   "outputs": [],
   "source": [
    "def get_tx_action(events):\n",
    "    for event in events:\n",
    "        if(event['type'] == 'message'):\n",
    "            for attr in event['attributes']:\n",
    "                if('key' in attr and attr['key']=='action'):\n",
    "                    return attr['value']\n",
    "    return None"
   ]
  },
  {
   "cell_type": "code",
   "execution_count": null,
   "id": "e6cd232b-e928-4de6-bf05-c547d511eeca",
   "metadata": {},
   "outputs": [],
   "source": [
    "def get_tx_contract_address(events):\n",
    "    for event in events:\n",
    "        if(event['type'] == 'execute'):\n",
    "            action = None\n",
    "            for attr in event['attributes']:\n",
    "                if('key' in attr and attr['key']=='_contract_address'):\n",
    "                    return attr['value']\n",
    "    return None"
   ]
  },
  {
   "cell_type": "code",
   "execution_count": null,
   "id": "f1a399a6-3ff7-47ef-9a13-526483bb9d6d",
   "metadata": {},
   "outputs": [],
   "source": [
    "def get_tx_contract_action(events):\n",
    "    for event in events:\n",
    "        if(event['type'] == 'wasm'):\n",
    "            for attr in event['attributes']:\n",
    "                if('key' in attr and attr['key']=='action'):\n",
    "                    return attr['value']\n",
    "    return None"
   ]
  },
  {
   "cell_type": "code",
   "execution_count": null,
   "id": "60cc8282-44cb-4613-bda3-edb51e23333e",
   "metadata": {},
   "outputs": [],
   "source": [
    "def get_tx_coin_spent(event):\n",
    "    spender = None\n",
    "    amounts = []\n",
    "    if(event['type'] == 'coin_spent'):    \n",
    "        for attr in event['attributes']:\n",
    "            if('key' in attr and attr['key']=='spender'):\n",
    "                spender = attr['value']\n",
    "            if('key' in attr and attr['key']=='amount'):\n",
    "                amounts = attr['value'].split(',')\n",
    "    return spender, amounts"
   ]
  },
  {
   "cell_type": "code",
   "execution_count": null,
   "id": "051813e2-3313-4892-8b7d-fc63be4de46e",
   "metadata": {},
   "outputs": [],
   "source": [
    "def get_tx_coin_received(event):\n",
    "    receiver = None\n",
    "    amounts = []\n",
    "    if(event['type'] == 'coin_received'):\n",
    "        for attr in event['attributes']:\n",
    "            if('key' in attr and attr['key']=='receiver'):\n",
    "                receiver = attr['value']\n",
    "            if('key' in attr and attr['key']=='amount'):\n",
    "                amounts = attr['value'].split(',')\n",
    "    return receiver, amounts"
   ]
  },
  {
   "cell_type": "code",
   "execution_count": null,
   "id": "e96704ea-f36c-45a3-8901-8e9b070835a5",
   "metadata": {},
   "outputs": [],
   "source": [
    "def parse_tx(tx):\n",
    "    raw_msg = tx\n",
    "    tx_parsed_tuples = []\n",
    "    tx_created_at = tx['block']['created_at']\n",
    "    tx_events = tx['events']\n",
    "    tx_hash = get_tx_hash(tx_events)\n",
    "    tx_action = get_tx_action(tx_events)\n",
    "    tx_contract_address = get_tx_contract_address(tx_events)\n",
    "    tx_contract_action = get_tx_contract_action(tx_events)\n",
    "    for event in tx_events:\n",
    "        spender, amounts = get_tx_coin_spent(event)\n",
    "        if(spender and amounts and len(amounts) > 0):\n",
    "            for amount in amounts:\n",
    "                tx_parsed_tuples.append((tx_created_at, tx_hash, spender, amount, event['type'], tx_action, tx_contract_address, tx_contract_action))\n",
    "        receiver, amounts = get_tx_coin_received(event)\n",
    "        if(receiver and amounts and len(amounts) > 0):\n",
    "            for amount in amounts:\n",
    "                tx_parsed_tuples.append((tx_created_at, tx_hash, receiver, amount, event['type'], tx_action, tx_contract_address, tx_contract_action))\n",
    "    return tx_parsed_tuples"
   ]
  },
  {
   "cell_type": "code",
   "execution_count": null,
   "id": "61ce8214-4efd-479f-a22e-23baa551861b",
   "metadata": {},
   "outputs": [],
   "source": [
    "df = None\n",
    "i = 0\n",
    "limit = 10\n",
    "raw_msgs = []\n",
    "while True:\n",
    "    # API endpoint URL\n",
    "    address = 'kujira1pkmjc7p7lqg6m3nm7csde88pnpad945kla5hyu'\n",
    "    url = f\"https://api.kujira.app/api/txs?q={address}&limit={limit}&offset={i}&order_by=rowid&order_dir=desc\"\n",
    "    print(url)\n",
    "    # Send a GET request to the API\n",
    "    response = requests.get(url)\n",
    "\n",
    "    # Check if the request was successful (status code 200)\n",
    "    if response.status_code == 200:\n",
    "        # Retrieve the JSON data\n",
    "        n_txs = len(response.json()['txs'])\n",
    "        print(f\"Received: {n_txs} txs\")\n",
    "        if(n_txs == 0):\n",
    "            break\n",
    "        \n",
    "        json_data = response.json()\n",
    "        raw_msgs.append(json_data)\n",
    "        vals = []\n",
    "        for tx in response.json()['txs']:\n",
    "            # Call the parse_json function to parse the JSON data\n",
    "            vals = vals + parse_tx(tx)\n",
    "        if(df is None):\n",
    "            df = pd.DataFrame(vals, columns=['created_at','tx_hash', 'address', 'amount','operation','action', 'contract_address', 'contract_action'])\n",
    "        else:\n",
    "            df = pd.concat([df, pd.DataFrame(vals, columns=['created_at','tx_hash', 'address', 'amount','operation','action', 'contract_address', 'contract_action'])])\n",
    "        i += limit\n",
    "        print(i)\n",
    "        print(len(df))\n",
    "    else:\n",
    "        # Handle any errors that occurred during the request\n",
    "        print(\"Error:\", response.status_code)\n",
    "df.to_csv(f'data/kujira/{address}.csv', index=False)"
   ]
  },
  {
   "cell_type": "code",
   "execution_count": null,
   "id": "4ff4fccd-0b97-4462-957d-c6e8f10ed5f7",
   "metadata": {},
   "outputs": [],
   "source": [
    "df.created_at = pd.to_datetime(df.created_at)"
   ]
  },
  {
   "cell_type": "code",
   "execution_count": null,
   "id": "165b031c-dd0a-47ca-872e-b923816c582f",
   "metadata": {},
   "outputs": [],
   "source": [
    "df.created_at.max()"
   ]
  },
  {
   "cell_type": "code",
   "execution_count": null,
   "id": "e682b0a8-d8e1-43ef-94f6-fb73f5c4f21a",
   "metadata": {},
   "outputs": [],
   "source": [
    "df.head()"
   ]
  },
  {
   "cell_type": "code",
   "execution_count": null,
   "id": "8dfa1907-fb50-4e03-9115-f132a283bfff",
   "metadata": {},
   "outputs": [],
   "source": [
    "response = requests.get('https://api.rorcualnodes.com/contracts')"
   ]
  },
  {
   "cell_type": "code",
   "execution_count": null,
   "id": "8d833ce7-1756-4588-a287-74ebaf51f11a",
   "metadata": {},
   "outputs": [],
   "source": [
    "data = response.json()"
   ]
  },
  {
   "cell_type": "code",
   "execution_count": null,
   "id": "a954c53a-2e9d-4ba6-ba6f-56c87c4f74ee",
   "metadata": {},
   "outputs": [],
   "source": [
    "with open(f'data/kujira/contracts.json', \"w\") as json_file:\n",
    "    json.dump(data, json_file)"
   ]
  },
  {
   "cell_type": "code",
   "execution_count": null,
   "id": "69b6f5a8-4ef7-4ca6-954f-40752d7fee96",
   "metadata": {},
   "outputs": [],
   "source": []
  }
 ],
 "metadata": {
  "kernelspec": {
   "display_name": "Python 3 (ipykernel)",
   "language": "python",
   "name": "python3"
  },
  "language_info": {
   "codemirror_mode": {
    "name": "ipython",
    "version": 3
   },
   "file_extension": ".py",
   "mimetype": "text/x-python",
   "name": "python",
   "nbconvert_exporter": "python",
   "pygments_lexer": "ipython3",
   "version": "3.9.17"
  }
 },
 "nbformat": 4,
 "nbformat_minor": 5
}
