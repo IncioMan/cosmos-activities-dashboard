{
 "cells": [
  {
   "cell_type": "code",
   "execution_count": 25,
   "id": "8b99b978-c372-40b7-b821-5cc06690daf6",
   "metadata": {},
   "outputs": [],
   "source": [
    "import requests\n",
    "import json\n",
    "import pandas as pd\n",
    "import time\n",
    "import re\n",
    "import urllib\n",
    "import matplotlib\n",
    "import matplotlib.pyplot as plt\n",
    "import numpy as np\n",
    "import boto3\n",
    "pd.set_option('display.max_colwidth', None)\n",
    "pd.options.display.float_format = '{:.2f}'.format"
   ]
  },
  {
   "cell_type": "code",
   "execution_count": 26,
   "id": "a305ca02-c4bb-4d39-bdf8-4b5a20b65802",
   "metadata": {},
   "outputs": [],
   "source": [
    "s3 = boto3.client('s3')"
   ]
  },
  {
   "cell_type": "code",
   "execution_count": 27,
   "id": "7d9ee728-7a46-4b58-aaa2-72edf8225579",
   "metadata": {},
   "outputs": [],
   "source": [
    "from datetime import datetime\n",
    "def write_to_s3(df, file_path, bucket_name='incioman-data-analysis'):\n",
    "    print(f\"Uploading {file_path} to {datetime.today().date().strftime('%Y%m%d')} on s3\")\n",
    "    json_string = df.to_json(orient='records')\n",
    "    s3.put_object(Body=json_string, Bucket=bucket_name, Key=file_path)"
   ]
  },
  {
   "cell_type": "code",
   "execution_count": 28,
   "id": "7197adbb-b64d-457b-8aa4-e7e6bbea27d1",
   "metadata": {},
   "outputs": [],
   "source": [
    "def load_from_s3(file_path_in_bucket, bucket_name='incioman-data-analysis'):\n",
    "    print(f\"Trying to load swaps from {bucket_name} {file_path_in_bucket}\")\n",
    "    # Load the CSV file from S3\n",
    "    obj = s3.get_object(Bucket=bucket_name, Key=file_path_in_bucket)\n",
    "    df = pd.read_csv(obj['Body'])\n",
    "    print(f\"Loaded swaps from {bucket_name} {file_path_in_bucket}\")\n",
    "    return df"
   ]
  },
  {
   "cell_type": "code",
   "execution_count": 29,
   "id": "fd7e4d4f-1c5b-4683-9c18-702d7df1447c",
   "metadata": {},
   "outputs": [
    {
     "name": "stdout",
     "output_type": "stream",
     "text": [
      "Trying to load swaps from incioman-data-analysis astro_trades/data/raw_swaps/swaps.csv\n",
      "Loaded swaps from incioman-data-analysis astro_trades/data/raw_swaps/swaps.csv\n"
     ]
    }
   ],
   "source": [
    "file_path_in_bucket = 'astro_trades/data/raw_swaps/swaps.csv'\n",
    "try:\n",
    "    swaps_df = load_from_s3(file_path_in_bucket)\n",
    "    swaps_df.timestamp = pd.to_datetime(swaps_df.timestamp, format='mixed')\n",
    "except Exception as e:\n",
    "    print(f\"No file yet {e}\")\n",
    "    swaps_df = None"
   ]
  },
  {
   "cell_type": "code",
   "execution_count": 30,
   "id": "a82f0b87-9a46-4e64-8602-d8b8a3b96b1d",
   "metadata": {},
   "outputs": [
    {
     "name": "stdout",
     "output_type": "stream",
     "text": [
      "Trying to load swaps from incioman-data-analysis astro_trades/data/balances/20230720.csv\n",
      "Loaded swaps from incioman-data-analysis astro_trades/data/balances/20230720.csv\n"
     ]
    }
   ],
   "source": [
    "file_path_in_bucket = 'astro_trades/data/balances/20230720.csv'\n",
    "try:\n",
    "    balances_df = load_from_s3(file_path_in_bucket)\n",
    "    balances_df['traderAddress'] = balances_df['address']\n",
    "except Exception as e:\n",
    "    print(f\"No file yet {e}\")\n",
    "    balances_df = None"
   ]
  },
  {
   "cell_type": "code",
   "execution_count": 31,
   "id": "164f1ed5-f2a9-45dd-9fb0-d66b5ac3952d",
   "metadata": {},
   "outputs": [
    {
     "name": "stderr",
     "output_type": "stream",
     "text": [
      "/tmp/ipykernel_310/142230925.py:3: SettingWithCopyWarning: \n",
      "A value is trying to be set on a copy of a slice from a DataFrame.\n",
      "Try using .loc[row_indexer,col_indexer] = value instead\n",
      "\n",
      "See the caveats in the documentation: https://pandas.pydata.org/pandas-docs/stable/user_guide/indexing.html#returning-a-view-versus-a-copy\n",
      "  _sell['astro_amount'] =  - _sell.offerAmount\n",
      "/tmp/ipykernel_310/142230925.py:4: SettingWithCopyWarning: \n",
      "A value is trying to be set on a copy of a slice from a DataFrame.\n",
      "Try using .loc[row_indexer,col_indexer] = value instead\n",
      "\n",
      "See the caveats in the documentation: https://pandas.pydata.org/pandas-docs/stable/user_guide/indexing.html#returning-a-view-versus-a-copy\n",
      "  _buy['astro_amount'] =  _buy.returnAmount\n"
     ]
    }
   ],
   "source": [
    "_sell = swaps_df[swaps_df.offerAsset=='ASTRO']\n",
    "_buy = swaps_df[swaps_df.returnAsset=='ASTRO']\n",
    "_sell['astro_amount'] =  - _sell.offerAmount\n",
    "_buy['astro_amount'] =  _buy.returnAmount\n",
    "swaps_df = pd.concat([_sell, _buy])"
   ]
  },
  {
   "cell_type": "markdown",
   "id": "32b05bcd-8fad-4e6a-9c67-4f3f87984706",
   "metadata": {},
   "source": [
    "tokens = [\n",
    "\"xASTRO\",\n",
    "\"SAYVE\",\n",
    "\"ORNE\",\n",
    "\"ASTRO\",\n",
    "\"ampLUNA\",\n",
    "\"ROAR\",\n",
    "\"boneLuna\"\n",
    "]"
   ]
  },
  {
   "cell_type": "markdown",
   "id": "3f9510df-9e46-41fd-832f-827c77cab4a7",
   "metadata": {},
   "source": [
    "import requests\n",
    "import json\n",
    "\n",
    "def get_balances(address):\n",
    "    url = \"https://starscream-terra-mainnet.chainscope.dev/\"\n",
    "    headers = {\n",
    "        \"Content-Type\": \"application/json\"\n",
    "    }\n",
    "    \n",
    "    body = {\n",
    "        \"query\": \"\"\"\n",
    "        query Query($address: String!, $tokenContracts: [String!]!) {\n",
    "            tokenBalances(address: $address, tokenContracts: $tokenContracts)\n",
    "        }\n",
    "        \"\"\",\n",
    "        \"variables\": {\n",
    "            \"address\": f\"{address}\",\n",
    "            \"tokenContracts\": [\n",
    "                \"terra1x62mjnme4y0rdnag3r8rfgjuutsqlkkyuh4ndgex0wl3wue25uksau39q8\",\n",
    "                \"terra1xp9hrhthzddnl7j5du83gqqr4wmdjm5t0guzg9jp6jwrtpukwfjsjgy4f3\",\n",
    "                \"terra19p20mfnvwh9yvyr7aus3a6z6g6uk28fv4jhx9kmnc2m7krg27q2qkfenjw\",\n",
    "                \"terra1nsuqsk6kh58ulczatwev87ttq2z6r3pusulg9r24mfj2fvtzd4uq3exn26\",\n",
    "                \"terra1ecgazyd0waaj3g7l9cmy5gulhxkps2gmxu9ghducvuypjq68mq2s5lvsct\",\n",
    "                \"terra1lxx40s29qvkrcj8fsa3yzyehy7w50umdvvnls2r830rys6lu2zns63eelv\",\n",
    "                \"terra17aj4ty4sz4yhgm08na8drc0v03v2jwr3waxcqrwhajj729zhl7zqnpc0ml\"\n",
    "            ]\n",
    "        },\n",
    "        \"operationName\": \"Query\"\n",
    "    }\n",
    "    \n",
    "    response = requests.post(url, headers=headers, data=json.dumps(body))\n",
    "    \n",
    "    if response.status_code == 200:\n",
    "        result = response.json()\n",
    "        return result\n",
    "    else:\n",
    "        print(\"Request failed with status code:\", response.status_code)"
   ]
  },
  {
   "cell_type": "markdown",
   "id": "747524ef-ef24-43b1-b415-6dce07d91935",
   "metadata": {},
   "source": [
    "addresses = set(df.traderAddress.tolist())"
   ]
  },
  {
   "cell_type": "markdown",
   "id": "d1fe4862-ec35-4007-ad4d-29023d86415f",
   "metadata": {},
   "source": [
    "balances = []\n",
    "for address in addresses:\n",
    "    try:\n",
    "        balance_dict = {k: int(v)/1000000 for k, v in zip(tokens, get_balances(address)['data']['tokenBalances'])}\n",
    "        balance_dict['traderAddress']= address\n",
    "        balances.append(balance_dict)\n",
    "    except:\n",
    "        print(f\"Error processing: {address}\")"
   ]
  },
  {
   "cell_type": "markdown",
   "id": "162eb2f8-5a4e-4c31-9044-87cd1f405d9c",
   "metadata": {},
   "source": [
    "balances_df = pd.DataFrame(balances)\n",
    "balances_df['total_astro_holdings'] = balances_df['ASTRO'] + balances_df['xASTRO']"
   ]
  },
  {
   "cell_type": "markdown",
   "id": "2995f110-1c50-4254-80d4-a51032bb0fa7",
   "metadata": {},
   "source": [
    "df_ = pd.DataFrame(balances_df).merge(df, on='traderAddress')"
   ]
  },
  {
   "cell_type": "markdown",
   "id": "d8b84ab9-0593-4c78-9cea-d3be3c97ddf2",
   "metadata": {},
   "source": [
    "balances_df.total_astro.sort_values().cumsum().reset_index(drop=True).plot(kind='line')"
   ]
  },
  {
   "cell_type": "code",
   "execution_count": 33,
   "id": "973a8ccb-3948-4510-99d4-81169023c717",
   "metadata": {},
   "outputs": [],
   "source": [
    "percentile = 0.99"
   ]
  },
  {
   "cell_type": "code",
   "execution_count": 34,
   "id": "1d18d8b3-144f-424e-b6f2-5a3b5b592b6d",
   "metadata": {},
   "outputs": [],
   "source": [
    "astro_price = 0.022"
   ]
  },
  {
   "cell_type": "code",
   "execution_count": 35,
   "id": "e8116dd2-23f8-4c77-a425-ef688a3d55fc",
   "metadata": {},
   "outputs": [
    {
     "name": "stdout",
     "output_type": "stream",
     "text": [
      "Amount of ASTRO that defines a whale (0.99 percentile): 117915.78052971986\n"
     ]
    }
   ],
   "source": [
    "print(f\"Amount of ASTRO that defines a whale ({percentile} percentile): {balances_df.total_astro.quantile(percentile)}\")"
   ]
  },
  {
   "cell_type": "code",
   "execution_count": 36,
   "id": "ccc57c23-8224-4143-8511-ba07f1e92e53",
   "metadata": {},
   "outputs": [],
   "source": [
    "whales = balances_df[balances_df.total_astro > balances_df.total_astro.quantile(percentile)]"
   ]
  },
  {
   "cell_type": "code",
   "execution_count": 37,
   "id": "a4d8c718-d77c-4d44-a35f-3653f7e24f9f",
   "metadata": {},
   "outputs": [
    {
     "name": "stdout",
     "output_type": "stream",
     "text": [
      "How many whales: 200\n"
     ]
    }
   ],
   "source": [
    "print(f\"How many whales: {len(whales)}\")"
   ]
  },
  {
   "cell_type": "code",
   "execution_count": 38,
   "id": "413bf86f-5e7e-4fb0-a87b-98eca543bc6c",
   "metadata": {},
   "outputs": [],
   "source": [
    "daily_delta = swaps_df[['traderAddress','date','astro_amount']].groupby(['traderAddress','date']).sum().reset_index()"
   ]
  },
  {
   "cell_type": "code",
   "execution_count": 39,
   "id": "a4825db1-5896-49f3-8aac-e485b7fe6895",
   "metadata": {},
   "outputs": [
    {
     "data": {
      "text/html": [
       "<div>\n",
       "<style scoped>\n",
       "    .dataframe tbody tr th:only-of-type {\n",
       "        vertical-align: middle;\n",
       "    }\n",
       "\n",
       "    .dataframe tbody tr th {\n",
       "        vertical-align: top;\n",
       "    }\n",
       "\n",
       "    .dataframe thead th {\n",
       "        text-align: right;\n",
       "    }\n",
       "</style>\n",
       "<table border=\"1\" class=\"dataframe\">\n",
       "  <thead>\n",
       "    <tr style=\"text-align: right;\">\n",
       "      <th></th>\n",
       "      <th>traderAddress</th>\n",
       "      <th>astro_amount</th>\n",
       "    </tr>\n",
       "  </thead>\n",
       "  <tbody>\n",
       "    <tr>\n",
       "      <th>45</th>\n",
       "      <td>terra129atwlwg5dwuypmce92gz7y5rwzdyxlwd8ne9r</td>\n",
       "      <td>-1440087.71</td>\n",
       "    </tr>\n",
       "    <tr>\n",
       "      <th>123</th>\n",
       "      <td>terra147vzdxzn5tq4fm7z6f5q8x46xfha7e34w4sy9j</td>\n",
       "      <td>-1402786.24</td>\n",
       "    </tr>\n",
       "    <tr>\n",
       "      <th>498</th>\n",
       "      <td>terra1evtkrqahmavh4t5x6squzpwfcr4nl5ssj67edz</td>\n",
       "      <td>-1222528.00</td>\n",
       "    </tr>\n",
       "    <tr>\n",
       "      <th>811</th>\n",
       "      <td>terra1pgvewpk8kd30f2zm85sn69k9cgkp3j8szq00j7</td>\n",
       "      <td>-785389.82</td>\n",
       "    </tr>\n",
       "    <tr>\n",
       "      <th>657</th>\n",
       "      <td>terra1jz2wmfvcudvkpdckzxjemy62852x5e4huf679q</td>\n",
       "      <td>-757315.20</td>\n",
       "    </tr>\n",
       "  </tbody>\n",
       "</table>\n",
       "</div>"
      ],
      "text/plain": [
       "                                    traderAddress  astro_amount\n",
       "45   terra129atwlwg5dwuypmce92gz7y5rwzdyxlwd8ne9r   -1440087.71\n",
       "123  terra147vzdxzn5tq4fm7z6f5q8x46xfha7e34w4sy9j   -1402786.24\n",
       "498  terra1evtkrqahmavh4t5x6squzpwfcr4nl5ssj67edz   -1222528.00\n",
       "811  terra1pgvewpk8kd30f2zm85sn69k9cgkp3j8szq00j7    -785389.82\n",
       "657  terra1jz2wmfvcudvkpdckzxjemy62852x5e4huf679q    -757315.20"
      ]
     },
     "execution_count": 39,
     "metadata": {},
     "output_type": "execute_result"
    }
   ],
   "source": [
    "daily_delta[[\"traderAddress\",\"astro_amount\"]]\\\n",
    "    .groupby(['traderAddress']).sum().reset_index()\\\n",
    "    .sort_values(by='astro_amount').head()"
   ]
  },
  {
   "cell_type": "code",
   "execution_count": 40,
   "id": "d67cf424-d4e0-4436-881d-998f5a816d75",
   "metadata": {},
   "outputs": [],
   "source": [
    "whales_daily = whales.merge(daily_delta[daily_delta.date>='2023-07-01'],on='traderAddress', how='left').fillna(0)"
   ]
  },
  {
   "cell_type": "code",
   "execution_count": 46,
   "id": "b8f6b629-caae-4d09-9c39-dd9faffccce4",
   "metadata": {},
   "outputs": [],
   "source": [
    "tt = whales_daily[whales_daily.date != 0][['date','astro_amount']]\\\n",
    "        .groupby('date')\\\n",
    "        .sum()\\\n",
    "        .reset_index()\\\n",
    "        .sort_values(by='date')"
   ]
  },
  {
   "cell_type": "code",
   "execution_count": 47,
   "id": "f73abdf9-6003-438b-823f-314527558fcf",
   "metadata": {},
   "outputs": [
    {
     "name": "stdout",
     "output_type": "stream",
     "text": [
      "Uploading astro_trades/data/whales_daily_delta/20230731.json to 20230731 on s3\n"
     ]
    }
   ],
   "source": [
    "write_to_s3(tt, file_path = f\"astro_trades/data/whales_daily_delta/{datetime.today().date().strftime('%Y%m%d')}.json\")"
   ]
  },
  {
   "cell_type": "code",
   "execution_count": 22,
   "id": "a4422f3e-bb1f-480a-aef1-9aa4a9476c9f",
   "metadata": {},
   "outputs": [
    {
     "name": "stdout",
     "output_type": "stream",
     "text": [
      "Uploading astro_trades/data/whales_daily_delta_by_address/20230728.json to 20230728 on s3\n"
     ]
    }
   ],
   "source": [
    "tt = whales_daily[whales_daily.date!=0][['address','date','astro_amount']]\\\n",
    "                    .groupby(['address','date'])\\\n",
    "                    .sum().reset_index().sort_values(by='date')\n",
    "write_to_s3(tt, file_path = f\"astro_trades/data/whales_daily_delta_by_address/{datetime.today().date().strftime('%Y%m%d')}.json\")"
   ]
  }
 ],
 "metadata": {
  "kernelspec": {
   "display_name": "Python 3 (ipykernel)",
   "language": "python",
   "name": "python3"
  },
  "language_info": {
   "codemirror_mode": {
    "name": "ipython",
    "version": 3
   },
   "file_extension": ".py",
   "mimetype": "text/x-python",
   "name": "python",
   "nbconvert_exporter": "python",
   "pygments_lexer": "ipython3",
   "version": "3.9.17"
  }
 },
 "nbformat": 4,
 "nbformat_minor": 5
}
