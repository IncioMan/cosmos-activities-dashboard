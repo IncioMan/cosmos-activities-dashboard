{
 "cells": [
  {
   "cell_type": "code",
   "execution_count": 1,
   "id": "8b99b978-c372-40b7-b821-5cc06690daf6",
   "metadata": {},
   "outputs": [],
   "source": [
    "import requests\n",
    "import json\n",
    "import pandas as pd\n",
    "import time\n",
    "import re\n",
    "import urllib\n",
    "import matplotlib\n",
    "import numpy as np\n",
    "pd.set_option('display.max_colwidth', None)"
   ]
  },
  {
   "cell_type": "code",
   "execution_count": 43,
   "id": "74fc3ead-8160-4fe4-b6a7-62b232cfcc2a",
   "metadata": {},
   "outputs": [
    {
     "data": {
      "text/plain": [
       "'\\naddress = \"terra1w579ysjvpx7xxhckxewk8sykxz70gm48wpcuruenl29rhe6p6raslhj0m6\"\\ntoken_name = \"ASTRO\"\\nbuying = False\\ncalculateUsdcValue = False\\nvarReturnAsset = \\'axlUSDC\\'\\nthresholdAmount = 1\\nnotifier_id = 1\\nfinder_tx = \"https://chainsco.pe/terra2/tx/\"\\nfinder_address = \"https://chainsco.pe/terra2/address/\"\\nrule_name = \\'Sell ASTRO\\'\\n'"
      ]
     },
     "execution_count": 43,
     "metadata": {},
     "output_type": "execute_result"
    }
   ],
   "source": [
    "\"\"\"\n",
    "address = \"terra1w579ysjvpx7xxhckxewk8sykxz70gm48wpcuruenl29rhe6p6raslhj0m6\"\n",
    "token_name = \"ASTRO\"\n",
    "buying = False\n",
    "calculateUsdcValue = False\n",
    "varReturnAsset = 'axlUSDC'\n",
    "thresholdAmount = 1\n",
    "notifier_id = 1\n",
    "finder_tx = \"https://chainsco.pe/terra2/tx/\"\n",
    "finder_address = \"https://chainsco.pe/terra2/address/\"\n",
    "rule_name = 'Sell ASTRO'\n",
    "\"\"\""
   ]
  },
  {
   "cell_type": "code",
   "execution_count": 44,
   "id": "197c6fb6-7ca1-411a-ae53-f2fdf8262106",
   "metadata": {},
   "outputs": [
    {
     "data": {
      "text/plain": [
       "'\\naddress = \"terra1w579ysjvpx7xxhckxewk8sykxz70gm48wpcuruenl29rhe6p6raslhj0m6\"\\ntoken_name = \"ASTRO\"\\nbuying = True\\nvarOfferAsset = \\'axlUSDC\\'\\ncalculateUsdcValue = False\\nthresholdAmount = 1\\nnotifier_id = 2\\nfinder_tx = \"https://chainsco.pe/terra2/tx/\"\\nfinder_address = \"https://chainsco.pe/terra2/address/\"\\nrule_name = \\'Buy ASTRO\\'\\n'"
      ]
     },
     "execution_count": 44,
     "metadata": {},
     "output_type": "execute_result"
    }
   ],
   "source": [
    "\"\"\"\n",
    "address = \"terra1w579ysjvpx7xxhckxewk8sykxz70gm48wpcuruenl29rhe6p6raslhj0m6\"\n",
    "token_name = \"ASTRO\"\n",
    "buying = True\n",
    "varOfferAsset = 'axlUSDC'\n",
    "calculateUsdcValue = False\n",
    "thresholdAmount = 1\n",
    "notifier_id = 2\n",
    "finder_tx = \"https://chainsco.pe/terra2/tx/\"\n",
    "finder_address = \"https://chainsco.pe/terra2/address/\"\n",
    "rule_name = 'Buy ASTRO'\n",
    "\"\"\""
   ]
  },
  {
   "cell_type": "code",
   "execution_count": 45,
   "id": "3d22d7fd-6276-40d9-a53a-f65a121efae1",
   "metadata": {},
   "outputs": [],
   "source": [
    "\"\"\"\n",
    "address = \"osmo1752ysawy2adr7td9an30a8pkk8ngrvcq3tan08lvnar3s7f82y5s4dt8fs\"\n",
    "token_name = \"MARS\"\n",
    "buying = True\n",
    "varOfferAsset = 'uosmo'\n",
    "calculateUsdcValue = True\n",
    "thresholdAmount = 1\n",
    "notifier_id = 5\n",
    "finder_tx = \"https://chainsco.pe/osmosis/tx/\"\n",
    "finder_address = \"https://chainsco.pe/osmosis/address/\"\n",
    "rule_name='Buy MARS'\n",
    "\"\"\""
   ]
  },
  {
   "cell_type": "code",
   "execution_count": 2,
   "id": "2a46dd63-b6f4-4c21-b677-72c396d06f6f",
   "metadata": {},
   "outputs": [],
   "source": [
    "address = 'cosmos183cfm6x88std8md977h2gc0x6a9am4ryxy5s8c'\n",
    "start_date = '2023-07-07'\n",
    "api_endpoint = 'https://api.mintscan.io/v1/cosmos/account/{}/txs?limit={}&from={}'"
   ]
  },
  {
   "cell_type": "code",
   "execution_count": 4,
   "id": "88dff394-3ba0-447b-9282-33f9b79815a2",
   "metadata": {},
   "outputs": [
    {
     "data": {
      "text/plain": [
       "'https://api.mintscan.io/v1/cosmos/account/cosmos183cfm6x88std8md977h2gc0x6a9am4ryxy5s8c/txs?limit=5&from=0'"
      ]
     },
     "execution_count": 4,
     "metadata": {},
     "output_type": "execute_result"
    }
   ],
   "source": [
    "url = api_endpoint.format(address, 5, 0)\n",
    "url"
   ]
  },
  {
   "cell_type": "code",
   "execution_count": 9,
   "id": "8460d1ec-8874-43a0-b1a8-74a9471e3b58",
   "metadata": {},
   "outputs": [],
   "source": [
    "response = requests.get(url)"
   ]
  },
  {
   "cell_type": "code",
   "execution_count": 10,
   "id": "76dc07da-2fea-487d-aaf4-8e5b499c9540",
   "metadata": {},
   "outputs": [
    {
     "name": "stdout",
     "output_type": "stream",
     "text": [
      "{'statusCode': 406, 'message': 'not acceptable'}\n"
     ]
    }
   ],
   "source": [
    "print(response.json())"
   ]
  },
  {
   "cell_type": "code",
   "execution_count": 47,
   "id": "005ecbf8-91c9-402a-82f0-b0c436353b45",
   "metadata": {},
   "outputs": [],
   "source": [
    "_df = None\n",
    "timestamp = urllib.parse.quote(_from.strftime(\"%Y-%m-%d+%H:%M:%S\"),safe='+')\n",
    "while True:\n",
    "    url = f\"\"\"\n",
    "    https://api.seer.coinhall.org/api/coinhall/swaps/{address}?offset={timestamp}.010646870&limit=15\n",
    "    \"\"\"\n",
    "    print(url)\n",
    "    # Send a GET request to the API\n",
    "    response = requests.get(url)\n",
    "\n",
    "    time.sleep(1)\n",
    "    print(f\"Number of txs received: {len(response.json()['txs'])}\")\n",
    "    \n",
    "    new_df = pd.DataFrame(response.json()['txs'])\n",
    "    if _df is None:\n",
    "        _df = new_df\n",
    "    else:\n",
    "        _df = pd.concat([_df, new_df])\n",
    "    _df.timestamp = pd.to_datetime(_df.timestamp)\n",
    "    min_ts = _df.timestamp.min()\n",
    "    timestamp = urllib.parse.quote(min_ts.strftime(\"%Y-%m-%d+%H:%M:%S\"),safe='+')\n",
    "\n",
    "    if(min_ts.to_pydatetime().replace(tzinfo=None).strftime(\"%Y-%m-%d %H:%M:%S\") < _to.strftime(\"%Y-%m-%d %H:%M:%S\")):\n",
    "        break\n",
    "return _df"
   ]
  },
  {
   "cell_type": "code",
   "execution_count": 48,
   "id": "b96a9751-a344-4d86-8002-53577cecb34b",
   "metadata": {},
   "outputs": [],
   "source": [
    "from datetime import datetime, timedelta\n",
    "\n",
    "current_date = datetime.now()\n",
    "_log = pd.DataFrame([(notifier_id, (current_date - timedelta(hours=1)).strftime('%Y-%m-%d %H:%M:%S.%f'))], columns=['notifier_id','last_parsing_date'])\n",
    "if log is None:\n",
    "    log = _log\n",
    "if not notifier_id in log['notifier_id'].tolist():\n",
    "    log = pd.concat([log,_log])"
   ]
  },
  {
   "cell_type": "code",
   "execution_count": 49,
   "id": "8fb00b06-976c-4848-b853-5ee5fc450641",
   "metadata": {},
   "outputs": [],
   "source": [
    "last_parsing_date = log[log.notifier_id == notifier_id].last_parsing_date.tolist()[0]\n",
    "last_parsing_date = datetime.strptime(last_parsing_date, '%Y-%m-%d %H:%M:%S.%f')"
   ]
  },
  {
   "cell_type": "code",
   "execution_count": 50,
   "id": "d15e8618-1f4f-435f-80c7-fcefb7c14621",
   "metadata": {},
   "outputs": [
    {
     "name": "stdout",
     "output_type": "stream",
     "text": [
      "Filling the upper gap from 2023-07-21 18:25:17 to 2023-07-21 10:40:09\n",
      "\n",
      "        https://api.seer.coinhall.org/api/coinhall/swaps/osmo1752ysawy2adr7td9an30a8pkk8ngrvcq3tan08lvnar3s7f82y5s4dt8fs?offset=2023-07-21+18%3A25%3A17.010646870&limit=15\n",
      "        \n",
      "Number of txs received: 15\n",
      "\n",
      "        https://api.seer.coinhall.org/api/coinhall/swaps/osmo1752ysawy2adr7td9an30a8pkk8ngrvcq3tan08lvnar3s7f82y5s4dt8fs?offset=2023-07-21+15%3A55%3A54.010646870&limit=15\n",
      "        \n",
      "Number of txs received: 15\n",
      "\n",
      "        https://api.seer.coinhall.org/api/coinhall/swaps/osmo1752ysawy2adr7td9an30a8pkk8ngrvcq3tan08lvnar3s7f82y5s4dt8fs?offset=2023-07-21+14%3A57%3A07.010646870&limit=15\n",
      "        \n",
      "Number of txs received: 15\n",
      "\n",
      "        https://api.seer.coinhall.org/api/coinhall/swaps/osmo1752ysawy2adr7td9an30a8pkk8ngrvcq3tan08lvnar3s7f82y5s4dt8fs?offset=2023-07-21+13%3A53%3A25.010646870&limit=15\n",
      "        \n",
      "Number of txs received: 15\n"
     ]
    }
   ],
   "source": [
    "print(f\"Filling the upper gap from {current_date.strftime('%Y-%m-%d %H:%M:%S')} to {last_parsing_date.strftime('%Y-%m-%d %H:%M:%S')}\")\n",
    "df = get_txs_time_period(current_date, last_parsing_date)"
   ]
  },
  {
   "cell_type": "code",
   "execution_count": 51,
   "id": "482a94d2-560b-4068-bf3e-7a66ff935220",
   "metadata": {},
   "outputs": [],
   "source": [
    "from pytz import UTC\n",
    "df = df[df.timestamp > pd.Timestamp(last_parsing_date, tz=UTC)]"
   ]
  },
  {
   "cell_type": "code",
   "execution_count": 52,
   "id": "e087660e-cf86-4156-9f08-07d78606752a",
   "metadata": {},
   "outputs": [],
   "source": [
    "assets = {\n",
    "    'ibc/B3504E092456BA618CC28AC671A71FB08C6CA0FD0BE7C8A5B5A3E2DD933CC9E4':'axlUSDC',\n",
    "    'ibc/295548A78785A1007F232DE286149A6FF512F180AF5657780FC89C009E2C348F':'axlUSDC',\n",
    "    'terra1nsuqsk6kh58ulczatwev87ttq2z6r3pusulg9r24mfj2fvtzd4uq3exn26':'ASTRO',\n",
    "    'ibc/27394FB092D2ECCD56123C74F36E4C1F926001CEADA9CA97EA622B25F41E5EB2': 'ATOM',\n",
    "    'ibc/573FCD90FACEE750F55A8864EF7D38265F07E5A9273FA0E8DAFD39951332B580':'MARS'\n",
    "}"
   ]
  },
  {
   "cell_type": "code",
   "execution_count": 53,
   "id": "3ac04ad6-1113-47a3-893e-97a5328fd212",
   "metadata": {},
   "outputs": [],
   "source": [
    "df = df.drop_duplicates(ignore_index=True)\n",
    "df.returnAsset = df.returnAsset.replace(assets)\n",
    "df.offerAsset = df.offerAsset.replace(assets)"
   ]
  },
  {
   "cell_type": "code",
   "execution_count": 54,
   "id": "f969175b-920a-4d46-bc92-b67c68ec2507",
   "metadata": {},
   "outputs": [],
   "source": [
    "df['date'] = df.timestamp.apply(lambda x: x.strftime(\"%Y-%m-%d\"))"
   ]
  },
  {
   "cell_type": "code",
   "execution_count": 55,
   "id": "3325b022-ebc7-483c-87cb-7c0df49e6bda",
   "metadata": {},
   "outputs": [
    {
     "name": "stdout",
     "output_type": "stream",
     "text": [
      "Calculating USDC value...\n",
      "Buying amount...\n"
     ]
    }
   ],
   "source": [
    "if(calculateUsdcValue):\n",
    "    print(\"Calculating USDC value...\")\n",
    "    if(buying):\n",
    "        print(\"Buying amount...\")\n",
    "        df['targetAmount'] = df['offerAmount'] * df['offerAssetUsdPrice']\n",
    "    else:\n",
    "        print(\"Selling amount...\")\n",
    "        df['targetAmount'] = df['returnAmount'] * df['returnAssetUsdPrice']\n",
    "else:\n",
    "    print(\"Not calculating USDC value...\")\n",
    "    if(buying):\n",
    "        print(\"Buying amount...\")\n",
    "        df['targetAmount'] = df.offerAmount\n",
    "    else :\n",
    "        print(\"Selling amount...\")\n",
    "        df['targetAmount'] = df.returnAmount"
   ]
  },
  {
   "cell_type": "code",
   "execution_count": 56,
   "id": "810c6ee3-8570-4deb-b2de-60a903b8ff6e",
   "metadata": {},
   "outputs": [],
   "source": [
    "if(buying):\n",
    "    txs_to_notify = df[(df.targetAmount > thresholdAmount) & (df.offerAsset == varOfferAsset)]\n",
    "else:\n",
    "    txs_to_notify = df[(df.targetAmount > thresholdAmount) & (df.returnAsset == varReturnAsset)]"
   ]
  },
  {
   "cell_type": "code",
   "execution_count": 57,
   "id": "39876ab6-027b-4f2a-a761-1dfd76eab10e",
   "metadata": {},
   "outputs": [],
   "source": [
    "def shortAddress(address):\n",
    "    return address[:7] + \"...\" + address[-6:]"
   ]
  },
  {
   "cell_type": "markdown",
   "id": "c223c0c7-f524-40b0-b70d-c89fe254fb5e",
   "metadata": {},
   "source": [
    "### Create Telegram Messages"
   ]
  },
  {
   "cell_type": "code",
   "execution_count": 58,
   "id": "001d88bc-6f78-4d50-b6ce-e6724f0ef2d9",
   "metadata": {},
   "outputs": [],
   "source": [
    "messages = []\n",
    "swap_msg = ''\n",
    "for i, row in txs_to_notify.iterrows():\n",
    "    if(calculateUsdcValue):\n",
    "        if(buying):\n",
    "            swap_msg = f\"\"\"Swapped {round(row.targetAmount, 2)} $USDC for ${token_name}\"\"\"\n",
    "        else:\n",
    "            swap_msg = f\"\"\"Swapped ${token_name} for $USDC for {round(row.targetAmount, 2)} $USDC\"\"\"\n",
    "    if(not calculateUsdcValue):\n",
    "        if(buying):\n",
    "            swap_msg = f\"\"\"Swapped {round(row.targetAmount, 2)} ${row.offerAsset} for ${token_name}\"\"\"\n",
    "        else:\n",
    "            swap_msg = f\"\"\"Swapped ${token_name} for {round(row.targetAmount, 2)} ${varReturnAsset}\"\"\"\n",
    "    messages.append(f\"\"\"\n",
    "*{rule_name}*\n",
    "\n",
    "{swap_msg}\n",
    "Trader: [{shortAddress(row.traderAddress)}]({finder_address}{row.traderAddress})\n",
    "Tx: [{shortAddress(row.txHash)}]({finder_tx}{row.txHash})\n",
    "\"\"\".replace(\".\",\"\\.\"))"
   ]
  },
  {
   "cell_type": "markdown",
   "id": "aac9298a-e677-4e6b-a2ac-ada9b5e46053",
   "metadata": {},
   "source": [
    "### Send Messages"
   ]
  },
  {
   "cell_type": "code",
   "execution_count": 59,
   "id": "dd7b5294-fa42-4e30-90fe-f3b389b2c9d6",
   "metadata": {},
   "outputs": [],
   "source": [
    "import os\n",
    "bot_token = os.getenv('BOT_TOKEN')"
   ]
  },
  {
   "cell_type": "code",
   "execution_count": 60,
   "id": "76b14bc7-e877-4e64-8580-e5900408d31f",
   "metadata": {},
   "outputs": [],
   "source": [
    "import telegram\n",
    "from telegram.constants import ParseMode\n",
    "bot = telegram.Bot(token=bot_token)"
   ]
  },
  {
   "cell_type": "code",
   "execution_count": 61,
   "id": "6406e065-8fdc-41b0-b8cb-c1efa7f83ff3",
   "metadata": {},
   "outputs": [
    {
     "name": "stdout",
     "output_type": "stream",
     "text": [
      "['\\n*Buy MARS*\\n\\nSwapped 3\\\\.77 $USDC for $MARS\\nTrader: [osmo124\\\\.\\\\.\\\\.lhcxrk](https://chainsco\\\\.pe/osmosis/address/osmo1248r7u2sygjlf5v26ng5g4qavaqwhfgllhcxrk)\\nTx: [1B447BE\\\\.\\\\.\\\\.711FE0](https://chainsco\\\\.pe/osmosis/tx/1B447BE8E116D51B8FD9C2DEBB8182BE056DD808C0AF7BA0F99ACDFE56711FE0)\\n', '\\n*Buy MARS*\\n\\nSwapped 50\\\\.65 $USDC for $MARS\\nTrader: [osmo1a8\\\\.\\\\.\\\\.9urahl](https://chainsco\\\\.pe/osmosis/address/osmo1a8wn23mna63s2dam0u4kc5j5gzxeg7w69urahl)\\nTx: [3AA186B\\\\.\\\\.\\\\.5428DE](https://chainsco\\\\.pe/osmosis/tx/3AA186B8DDD63E491677ED7AF9D85800F8572E327859F83CF097DC26A55428DE)\\n', '\\n*Buy MARS*\\n\\nSwapped 10\\\\.7 $USDC for $MARS\\nTrader: [osmo1va\\\\.\\\\.\\\\.m4jyy4](https://chainsco\\\\.pe/osmosis/address/osmo1vadlhe25v8wzjx7057hzs7aymferz443m4jyy4)\\nTx: [AFD4FA2\\\\.\\\\.\\\\.BF3D77](https://chainsco\\\\.pe/osmosis/tx/AFD4FA223B4F0655117BEAD6C91DF494705F688D12081D9768707384ABBF3D77)\\n', '\\n*Buy MARS*\\n\\nSwapped 10\\\\.71 $USDC for $MARS\\nTrader: [osmo1va\\\\.\\\\.\\\\.m4jyy4](https://chainsco\\\\.pe/osmosis/address/osmo1vadlhe25v8wzjx7057hzs7aymferz443m4jyy4)\\nTx: [5E9517B\\\\.\\\\.\\\\.6978AD](https://chainsco\\\\.pe/osmosis/tx/5E9517BCAEA6A5994730FF493B37D9A610E179B206C17AEB32B93FE1A16978AD)\\n', '\\n*Buy MARS*\\n\\nSwapped 2\\\\.04 $USDC for $MARS\\nTrader: [osmo178\\\\.\\\\.\\\\.28lrtn](https://chainsco\\\\.pe/osmosis/address/osmo1785depelc44z2ezt7vf30psa9609xt0y28lrtn)\\nTx: [B468A33\\\\.\\\\.\\\\.631B7F](https://chainsco\\\\.pe/osmosis/tx/B468A33E6D6B04D3A71036D6F770B7B56DD501AE3954128656E0FB2F66631B7F)\\n', '\\n*Buy MARS*\\n\\nSwapped 7\\\\.91 $USDC for $MARS\\nTrader: [osmo1t3\\\\.\\\\.\\\\.ec7tzs](https://chainsco\\\\.pe/osmosis/address/osmo1t3usy5x8xfggzspknnka02ny7u65u6k0ec7tzs)\\nTx: [86C104F\\\\.\\\\.\\\\.1882C5](https://chainsco\\\\.pe/osmosis/tx/86C104F7BC7D4A74FF22FE60635B063F0CC7BDC8E7441A37523ED55CFB1882C5)\\n', '\\n*Buy MARS*\\n\\nSwapped 235\\\\.93 $USDC for $MARS\\nTrader: [osmo1e8\\\\.\\\\.\\\\.sw8nyu](https://chainsco\\\\.pe/osmosis/address/osmo1e8ls9qgznqe4qk27c7lcmrmqtuzz89qcsw8nyu)\\nTx: [5255AC4\\\\.\\\\.\\\\.025196](https://chainsco\\\\.pe/osmosis/tx/5255AC47B76FA2AECE9E681A430D5851AE61520A0AA8F6C4DAC6FBA65D025196)\\n', '\\n*Buy MARS*\\n\\nSwapped 7\\\\.15 $USDC for $MARS\\nTrader: [osmo1e8\\\\.\\\\.\\\\.sw8nyu](https://chainsco\\\\.pe/osmosis/address/osmo1e8ls9qgznqe4qk27c7lcmrmqtuzz89qcsw8nyu)\\nTx: [AB029CA\\\\.\\\\.\\\\.49F119](https://chainsco\\\\.pe/osmosis/tx/AB029CA70334BE5FFA52AB839383C738C4F530C29EE34CBB194CD2258D49F119)\\n', '\\n*Buy MARS*\\n\\nSwapped 214\\\\.53 $USDC for $MARS\\nTrader: [osmo1wf\\\\.\\\\.\\\\.uk5egp](https://chainsco\\\\.pe/osmosis/address/osmo1wf90nn2cj8xcyev4mwr5fk2nrge28mfguk5egp)\\nTx: [E8DDE01\\\\.\\\\.\\\\.54569C](https://chainsco\\\\.pe/osmosis/tx/E8DDE019BCC9D3A737EC9BB6E6BE660D8EE628DD2F6E145EA8090EBC4754569C)\\n', '\\n*Buy MARS*\\n\\nSwapped 83\\\\.06 $USDC for $MARS\\nTrader: [osmo1gx\\\\.\\\\.\\\\.c25ry7](https://chainsco\\\\.pe/osmosis/address/osmo1gxyk5s2nr0uwx7vcd9eyutl2vqec0ep2c25ry7)\\nTx: [37011A3\\\\.\\\\.\\\\.2D641C](https://chainsco\\\\.pe/osmosis/tx/37011A3BDE10BD7E038DBBA9D95DD07A594626F94D8AF4D1606FC4F6862D641C)\\n', '\\n*Buy MARS*\\n\\nSwapped 5\\\\.68 $USDC for $MARS\\nTrader: [osmo1va\\\\.\\\\.\\\\.m4jyy4](https://chainsco\\\\.pe/osmosis/address/osmo1vadlhe25v8wzjx7057hzs7aymferz443m4jyy4)\\nTx: [3EE788F\\\\.\\\\.\\\\.AE1655](https://chainsco\\\\.pe/osmosis/tx/3EE788F73F39DD5AA8ED7A9474063F0986CA3BB00ACEB8F98482099406AE1655)\\n', '\\n*Buy MARS*\\n\\nSwapped 5\\\\.7 $USDC for $MARS\\nTrader: [osmo1va\\\\.\\\\.\\\\.m4jyy4](https://chainsco\\\\.pe/osmosis/address/osmo1vadlhe25v8wzjx7057hzs7aymferz443m4jyy4)\\nTx: [8966645\\\\.\\\\.\\\\.477443](https://chainsco\\\\.pe/osmosis/tx/89666457E1DE9305EF6524D6E12C305A4E3888E7C664114AF4DCF1B0C5477443)\\n', '\\n*Buy MARS*\\n\\nSwapped 5\\\\.71 $USDC for $MARS\\nTrader: [osmo1va\\\\.\\\\.\\\\.m4jyy4](https://chainsco\\\\.pe/osmosis/address/osmo1vadlhe25v8wzjx7057hzs7aymferz443m4jyy4)\\nTx: [AE3C140\\\\.\\\\.\\\\.98B749](https://chainsco\\\\.pe/osmosis/tx/AE3C1408E54A522F52498E0287C71C81A3317BA1B941D2217944C9DFA698B749)\\n', '\\n*Buy MARS*\\n\\nSwapped 10\\\\.7 $USDC for $MARS\\nTrader: [osmo1va\\\\.\\\\.\\\\.m4jyy4](https://chainsco\\\\.pe/osmosis/address/osmo1vadlhe25v8wzjx7057hzs7aymferz443m4jyy4)\\nTx: [8D59C79\\\\.\\\\.\\\\.536FB7](https://chainsco\\\\.pe/osmosis/tx/8D59C799B3DCFCA960142C711D5DAA2216DF78869EA2C1551495596670536FB7)\\n', '\\n*Buy MARS*\\n\\nSwapped 8\\\\.91 $USDC for $MARS\\nTrader: [osmo1va\\\\.\\\\.\\\\.m4jyy4](https://chainsco\\\\.pe/osmosis/address/osmo1vadlhe25v8wzjx7057hzs7aymferz443m4jyy4)\\nTx: [E14E32F\\\\.\\\\.\\\\.E3BAA3](https://chainsco\\\\.pe/osmosis/tx/E14E32F1AEFFFACC78A5297170F236DE8BA3AB3B0963276A409CADA28CE3BAA3)\\n', '\\n*Buy MARS*\\n\\nSwapped 5\\\\.17 $USDC for $MARS\\nTrader: [osmo1ds\\\\.\\\\.\\\\.ugyy2e](https://chainsco\\\\.pe/osmosis/address/osmo1dsnfjekjj23vtuemd8as5jmtf99ql5yhugyy2e)\\nTx: [978E502\\\\.\\\\.\\\\.ABE67B](https://chainsco\\\\.pe/osmosis/tx/978E5028AE54135841BFDF8226DDAF76A3C9FB6E18D465BC92C67D5B4AABE67B)\\n']\n"
     ]
    }
   ],
   "source": [
    "print(messages)"
   ]
  },
  {
   "cell_type": "code",
   "execution_count": 63,
   "id": "8a98cd59-7507-40c0-9b3d-dfb616cc22b6",
   "metadata": {},
   "outputs": [],
   "source": [
    "#import asyncio\n",
    "\n",
    "#async def main():\n",
    "try:\n",
    "    await bot.initialize()\n",
    "    for message in messages:\n",
    "        await bot.send_message(92383009, message, parse_mode=ParseMode.MARKDOWN_V2)\n",
    "finally:\n",
    "    await bot.shutdown()\n",
    "\n",
    "# Create an event loop and run the main coroutine function\n",
    "#loop = asyncio.get_event_loop()\n",
    "#loop.run_until_complete(main())"
   ]
  },
  {
   "cell_type": "markdown",
   "id": "8fae6bd3-13ba-4850-b7af-a57718dd725e",
   "metadata": {},
   "source": [
    "### Update logging file"
   ]
  },
  {
   "cell_type": "code",
   "execution_count": 64,
   "id": "ceb722fd-0f31-4eed-8a8f-93d79d6322b2",
   "metadata": {},
   "outputs": [],
   "source": [
    "_last_parsing_date = df.timestamp.max().to_pydatetime().replace(tzinfo=None)\n",
    "last_parsing_date = _last_parsing_date if len(df) > 0 else current_date"
   ]
  },
  {
   "cell_type": "code",
   "execution_count": 69,
   "id": "aad4230f-4bbe-4ead-afb1-ccbb7cff130c",
   "metadata": {},
   "outputs": [],
   "source": [
    "import boto3\n",
    "s3 = boto3.client('s3')\n",
    "\n",
    "bucket_name='incioman-data-analysis'\n",
    "file_path_in_bucket = '/data/token_notifier/notifier_logging.csv'\n",
    "\n",
    "def load_log():\n",
    "    # Load the CSV file from S3\n",
    "    obj = s3.get_object(Bucket=bucket_name, Key=file_path_in_bucket)\n",
    "    df = pd.read_csv(obj['Body'])\n",
    "    return df\n",
    "\n",
    "def update_log(log, notifier_id, last_parsing_date):\n",
    "    log.loc[log.notifier_id == notifier_id, 'last_parsing_date'] = last_parsing_date\n",
    "    csv_buffer = log.to_csv(index=False)\n",
    "    s3 = boto3.client('s3')\n",
    "    s3.put_object(Bucket=bucket_name, Key=file_path_in_bucket, Body=csv_buffer)\n",
    "    return load_log()"
   ]
  },
  {
   "cell_type": "code",
   "execution_count": 70,
   "id": "e388b51d-5fc1-47ff-8ecd-3d354d1d8662",
   "metadata": {},
   "outputs": [
    {
     "data": {
      "text/html": [
       "<div>\n",
       "<style scoped>\n",
       "    .dataframe tbody tr th:only-of-type {\n",
       "        vertical-align: middle;\n",
       "    }\n",
       "\n",
       "    .dataframe tbody tr th {\n",
       "        vertical-align: top;\n",
       "    }\n",
       "\n",
       "    .dataframe thead th {\n",
       "        text-align: right;\n",
       "    }\n",
       "</style>\n",
       "<table border=\"1\" class=\"dataframe\">\n",
       "  <thead>\n",
       "    <tr style=\"text-align: right;\">\n",
       "      <th></th>\n",
       "      <th>notifier_id</th>\n",
       "      <th>last_parsing_date</th>\n",
       "    </tr>\n",
       "  </thead>\n",
       "  <tbody>\n",
       "    <tr>\n",
       "      <th>0</th>\n",
       "      <td>2</td>\n",
       "      <td>2023-07-21 10:48:42.843000</td>\n",
       "    </tr>\n",
       "    <tr>\n",
       "      <th>1</th>\n",
       "      <td>1</td>\n",
       "      <td>2023-07-21 10:48:42.843000</td>\n",
       "    </tr>\n",
       "    <tr>\n",
       "      <th>2</th>\n",
       "      <td>3</td>\n",
       "      <td>2023-07-19 05:37:06.687439</td>\n",
       "    </tr>\n",
       "    <tr>\n",
       "      <th>3</th>\n",
       "      <td>4</td>\n",
       "      <td>2023-07-21 06:56:06.938311</td>\n",
       "    </tr>\n",
       "    <tr>\n",
       "      <th>4</th>\n",
       "      <td>5</td>\n",
       "      <td>2023-07-21 18:20:00.265000</td>\n",
       "    </tr>\n",
       "  </tbody>\n",
       "</table>\n",
       "</div>"
      ],
      "text/plain": [
       "   notifier_id           last_parsing_date\n",
       "0            2  2023-07-21 10:48:42.843000\n",
       "1            1  2023-07-21 10:48:42.843000\n",
       "2            3  2023-07-19 05:37:06.687439\n",
       "3            4  2023-07-21 06:56:06.938311\n",
       "4            5  2023-07-21 18:20:00.265000"
      ]
     },
     "execution_count": 70,
     "metadata": {},
     "output_type": "execute_result"
    }
   ],
   "source": [
    "update_log(log, notifier_id, last_parsing_date)"
   ]
  },
  {
   "cell_type": "code",
   "execution_count": null,
   "id": "630f0c33-4032-47c5-ac35-6b841249a2b9",
   "metadata": {},
   "outputs": [],
   "source": []
  }
 ],
 "metadata": {
  "kernelspec": {
   "display_name": "Python 3 (ipykernel)",
   "language": "python",
   "name": "python3"
  },
  "language_info": {
   "codemirror_mode": {
    "name": "ipython",
    "version": 3
   },
   "file_extension": ".py",
   "mimetype": "text/x-python",
   "name": "python",
   "nbconvert_exporter": "python",
   "pygments_lexer": "ipython3",
   "version": "3.9.17"
  }
 },
 "nbformat": 4,
 "nbformat_minor": 5
}
