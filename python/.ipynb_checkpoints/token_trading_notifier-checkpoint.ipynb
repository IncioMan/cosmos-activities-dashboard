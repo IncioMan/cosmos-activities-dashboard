{
 "cells": [
  {
   "cell_type": "code",
   "execution_count": 1,
   "id": "8b99b978-c372-40b7-b821-5cc06690daf6",
   "metadata": {},
   "outputs": [],
   "source": [
    "import requests\n",
    "import json\n",
    "import pandas as pd\n",
    "import time\n",
    "import re\n",
    "import urllib\n",
    "import matplotlib\n",
    "import numpy as np\n",
    "pd.set_option('display.max_colwidth', None)"
   ]
  },
  {
   "cell_type": "code",
   "execution_count": 2,
   "id": "aa7e76f4-a010-4443-b211-12ee34dccfc8",
   "metadata": {},
   "outputs": [],
   "source": [
    "try:\n",
    "    log = pd.read_csv(\"./notifier_logging.csv\")\n",
    "except Exception as e:\n",
    "    print(f\"No file yet {e}\")\n",
    "    log = None"
   ]
  },
  {
   "cell_type": "markdown",
   "id": "9ec6d20f-1042-4ffd-b976-4ee962d98682",
   "metadata": {},
   "source": [
    "### Configuration"
   ]
  },
  {
   "cell_type": "code",
   "execution_count": 3,
   "id": "7b25ceae-25ac-46fe-8092-003b66fcc009",
   "metadata": {},
   "outputs": [
    {
     "data": {
      "text/plain": [
       "'\\npipenv run python token_trading_notifier.py --address \"kujira14hj2tavq8fpesdwxxcu44rty3hh90vhujrvcmstl4zr3txmfvw9sl4e867\" --token_name \"KUJI\" --buying --varOfferAsset \\'axlUSDC\\' --thresholdAmount 1000 --rule_name \\'Buy KUJI\\' --finder_tx \\'https://finder.kujira.network/kaiyo-1/tx/\\' --finder_address \\'https://finder.kujira.network/kaiyo-1/address/\\' --notifier_id 4 \\n'"
      ]
     },
     "execution_count": 3,
     "metadata": {},
     "output_type": "execute_result"
    }
   ],
   "source": [
    "\"\"\"\n",
    "pipenv run jupyter nbconvert --to python token_trading_notifier.ipynb\n",
    "\"\"\"\n",
    "\"\"\"\n",
    "pipenv run python token_trading_notifier.py \\\n",
    "--address \"terra1w579ysjvpx7xxhckxewk8sykxz70gm48wpcuruenl29rhe6p6raslhj0m6\" \\\n",
    "--token_name \"ASTRO\" \\\n",
    "--varReturnAsset 'axlUSDC' \\\n",
    "--thresholdAmount 1000 \\\n",
    "--notifier_id 1 \\\n",
    "--finder_tx \"https://chainsco.pe/terra2/tx/\" \\\n",
    "--finder_address \"https://chainsco.pe/terra2/address/\" \\\n",
    "--rule_name 'Sell ASTRO'\n",
    "\"\"\"\n",
    "\"\"\"\n",
    "pipenv run python token_trading_notifier.py \\\n",
    "--address \"terra1w579ysjvpx7xxhckxewk8sykxz70gm48wpcuruenl29rhe6p6raslhj0m6\" \\\n",
    "--token_name \"ASTRO\" \\\n",
    "--buying \\\n",
    "--varOfferAsset 'axlUSDC' \\\n",
    "--thresholdAmount 1000 \\\n",
    "--notifier_id 1 \\\n",
    "--finder_tx \"https://chainsco.pe/terra2/tx/\" \\\n",
    "--finder_address \"https://chainsco.pe/terra2/address/\" \\\n",
    "--rule_name 'Buy ASTRO'\n",
    "\"\"\"\n",
    "\"\"\"\n",
    "pipenv run python token_trading_notifier.py \\\n",
    "--address \"kujira14hj2tavq8fpesdwxxcu44rty3hh90vhujrvcmstl4zr3txmfvw9sl4e867\" \\\n",
    "--token_name \"KUJI\" \\\n",
    "--varReturnAsset 'axlUSDC' \\\n",
    "--thresholdAmount 1000 \\\n",
    "--notifier_id 3 \\\n",
    "--rule_name 'Sell KUJI' \\\n",
    "--finder_tx 'https://finder.kujira.network/kaiyo-1/tx/' \\\n",
    "--finder_address 'https://finder.kujira.network/kaiyo-1/address/'\n",
    "\"\"\"\n",
    "\"\"\"\n",
    "pipenv run python token_trading_notifier.py \\\n",
    "--address \"kujira14hj2tavq8fpesdwxxcu44rty3hh90vhujrvcmstl4zr3txmfvw9sl4e867\" \\\n",
    "--token_name \"KUJI\" \\\n",
    "--buying \\\n",
    "--varOfferAsset 'axlUSDC' \\\n",
    "--thresholdAmount 1000 \\\n",
    "--rule_name 'Buy KUJI' \\\n",
    "--finder_tx 'https://finder.kujira.network/kaiyo-1/tx/' \\\n",
    "--finder_address 'https://finder.kujira.network/kaiyo-1/address/' \\\n",
    "--notifier_id 4 \n",
    "\"\"\""
   ]
  },
  {
   "cell_type": "code",
   "execution_count": 4,
   "id": "ea3e0d41-cc10-406e-b923-0fb01881c1fe",
   "metadata": {},
   "outputs": [
    {
     "data": {
      "text/plain": [
       "'\\naddress = \"kujira14hj2tavq8fpesdwxxcu44rty3hh90vhujrvcmstl4zr3txmfvw9sl4e867\"\\ntoken_name = \"KUJI\"\\nbuying = False\\ncalculateUsdcValue = False\\nvarReturnAsset = \\'axlUSDC\\'\\nthresholdAmount = 100\\nnotifier_id = 3\\nrule_name = \\'Sell KUJI\\'\\nfinder_tx = \\'https://finder.kujira.network/kaiyo-1/tx/\\'\\nfinder_address = \\'https://finder.kujira.network/kaiyo-1/address/\\'\\n'"
      ]
     },
     "execution_count": 4,
     "metadata": {},
     "output_type": "execute_result"
    }
   ],
   "source": [
    "\"\"\"\n",
    "address = \"kujira14hj2tavq8fpesdwxxcu44rty3hh90vhujrvcmstl4zr3txmfvw9sl4e867\"\n",
    "token_name = \"KUJI\"\n",
    "buying = False\n",
    "calculateUsdcValue = False\n",
    "varReturnAsset = 'axlUSDC'\n",
    "thresholdAmount = 100\n",
    "notifier_id = 3\n",
    "rule_name = 'Sell KUJI'\n",
    "finder_tx = 'https://finder.kujira.network/kaiyo-1/tx/'\n",
    "finder_address = 'https://finder.kujira.network/kaiyo-1/address/'\n",
    "\"\"\""
   ]
  },
  {
   "cell_type": "code",
   "execution_count": 5,
   "id": "74fc3ead-8160-4fe4-b6a7-62b232cfcc2a",
   "metadata": {},
   "outputs": [
    {
     "data": {
      "text/plain": [
       "'\\naddress = \"terra1w579ysjvpx7xxhckxewk8sykxz70gm48wpcuruenl29rhe6p6raslhj0m6\"\\ntoken_name = \"ASTRO\"\\nbuying = False\\ncalculateUsdcValue = False\\nvarReturnAsset = \\'axlUSDC\\'\\nthresholdAmount = 1\\nnotifier_id = 1\\nfinder_tx = \"https://chainsco.pe/terra2/tx/\"\\nfinder_address = \"https://chainsco.pe/terra2/address/\"\\nrule_name = \\'Sell ASTRO\\'\\n'"
      ]
     },
     "execution_count": 5,
     "metadata": {},
     "output_type": "execute_result"
    }
   ],
   "source": [
    "\"\"\"\n",
    "address = \"terra1w579ysjvpx7xxhckxewk8sykxz70gm48wpcuruenl29rhe6p6raslhj0m6\"\n",
    "token_name = \"ASTRO\"\n",
    "buying = False\n",
    "calculateUsdcValue = False\n",
    "varReturnAsset = 'axlUSDC'\n",
    "thresholdAmount = 1\n",
    "notifier_id = 1\n",
    "finder_tx = \"https://chainsco.pe/terra2/tx/\"\n",
    "finder_address = \"https://chainsco.pe/terra2/address/\"\n",
    "rule_name = 'Sell ASTRO'\n",
    "\"\"\""
   ]
  },
  {
   "cell_type": "code",
   "execution_count": 6,
   "id": "197c6fb6-7ca1-411a-ae53-f2fdf8262106",
   "metadata": {},
   "outputs": [
    {
     "data": {
      "text/plain": [
       "'\\naddress = \"terra1w579ysjvpx7xxhckxewk8sykxz70gm48wpcuruenl29rhe6p6raslhj0m6\"\\ntoken_name = \"ASTRO\"\\nbuying = True\\nvarOfferAsset = \\'axlUSDC\\'\\ncalculateUsdcValue = False\\nthresholdAmount = 1\\nnotifier_id = 2\\nfinder_tx = \"https://chainsco.pe/terra2/tx/\"\\nfinder_address = \"https://chainsco.pe/terra2/address/\"\\nrule_name = \\'Buy ASTRO\\'\\n'"
      ]
     },
     "execution_count": 6,
     "metadata": {},
     "output_type": "execute_result"
    }
   ],
   "source": [
    "\"\"\"\n",
    "address = \"terra1w579ysjvpx7xxhckxewk8sykxz70gm48wpcuruenl29rhe6p6raslhj0m6\"\n",
    "token_name = \"ASTRO\"\n",
    "buying = True\n",
    "varOfferAsset = 'axlUSDC'\n",
    "calculateUsdcValue = False\n",
    "thresholdAmount = 1\n",
    "notifier_id = 2\n",
    "finder_tx = \"https://chainsco.pe/terra2/tx/\"\n",
    "finder_address = \"https://chainsco.pe/terra2/address/\"\n",
    "rule_name = 'Buy ASTRO'\n",
    "\"\"\""
   ]
  },
  {
   "cell_type": "code",
   "execution_count": 22,
   "id": "3d22d7fd-6276-40d9-a53a-f65a121efae1",
   "metadata": {},
   "outputs": [],
   "source": [
    "address = \"osmo1752ysawy2adr7td9an30a8pkk8ngrvcq3tan08lvnar3s7f82y5s4dt8fs\"\n",
    "token_name = \"MARS\"\n",
    "buying = True\n",
    "varOfferAsset = 'uosmo'\n",
    "calculateUsdcValue = True\n",
    "thresholdAmount = 1\n",
    "notifier_id = 5\n",
    "finder_tx = \"https://chainsco.pe/osmosis/tx/\"\n",
    "finder_address = \"https://chainsco.pe/osmosis/address/\"\n",
    "rule_name='Buy MARS'"
   ]
  },
  {
   "cell_type": "markdown",
   "id": "2ba456fe-ef80-41ff-a9ac-d6fbb4695f45",
   "metadata": {},
   "source": [
    "### Code"
   ]
  },
  {
   "cell_type": "code",
   "execution_count": 9,
   "id": "e5e004bd-fd50-4cba-b4bd-0c8611de1b6c",
   "metadata": {},
   "outputs": [
    {
     "name": "stderr",
     "output_type": "stream",
     "text": [
      "usage: ipykernel_launcher.py [-h] [--address ADDRESS]\n",
      "                             [--token_name TOKEN_NAME] [--buying]\n",
      "                             [--varReturnAsset VARRETURNASSET]\n",
      "                             [--varOfferAsset VAROFFERASSET]\n",
      "                             [--finder_tx FINDER_TX]\n",
      "                             [--finder_address FINDER_ADDRESS]\n",
      "                             [--rule_name RULE_NAME]\n",
      "                             [--notifier_id NOTIFIER_ID]\n",
      "                             [--thresholdAmount THRESHOLDAMOUNT]\n",
      "                             [--calculateUsdcValue]\n",
      "ipykernel_launcher.py: error: unrecognized arguments: -f /root/.local/share/jupyter/runtime/kernel-8566a993-c6e7-4450-a921-b11bff51e7ab.json\n"
     ]
    },
    {
     "ename": "SystemExit",
     "evalue": "2",
     "output_type": "error",
     "traceback": [
      "An exception has occurred, use %tb to see the full traceback.\n",
      "\u001b[0;31mSystemExit\u001b[0m\u001b[0;31m:\u001b[0m 2\n"
     ]
    },
    {
     "name": "stderr",
     "output_type": "stream",
     "text": [
      "/root/.local/share/virtualenvs/app-4PlAip0Q/lib/python3.9/site-packages/IPython/core/interactiveshell.py:3516: UserWarning: To exit: use 'exit', 'quit', or Ctrl-D.\n",
      "  warn(\"To exit: use 'exit', 'quit', or Ctrl-D.\", stacklevel=1)\n"
     ]
    }
   ],
   "source": [
    "import argparse\n",
    "\n",
    "# Create an argument parser\n",
    "parser = argparse.ArgumentParser()\n",
    "\n",
    "# Add named arguments\n",
    "parser.add_argument('--address', type=str, help='The address value')\n",
    "parser.add_argument('--token_name', type=str, help='The token name')\n",
    "parser.add_argument('--buying', action='store_true', help='Buying the token')\n",
    "parser.add_argument('--varReturnAsset', type=str, help='The name for return asset')\n",
    "parser.add_argument('--varOfferAsset', type=str, help='The name for offer asset')\n",
    "parser.add_argument('--finder_tx', type=str, help='The finder url for txs')\n",
    "parser.add_argument('--finder_address', type=str, help='The finder url for addresses')\n",
    "parser.add_argument('--rule_name', type=str, help='The rule name')\n",
    "parser.add_argument('--notifier_id', type=int, help='The notifier ID')\n",
    "parser.add_argument('--thresholdAmount', type=int, help='The threshold amount')\n",
    "parser.add_argument('--calculateUsdcValue', action='store_true', help='Calculate USDC value')\n",
    "\n",
    "# Parse the arguments\n",
    "args = parser.parse_args()\n",
    "\n",
    "# Assign the parsed argument values to variables\n",
    "address = args.address\n",
    "token_name = args.token_name\n",
    "buying = args.buying\n",
    "varReturnAsset = args.varReturnAsset\n",
    "varOfferAsset = args.varOfferAsset\n",
    "notifier_id = args.notifier_id\n",
    "calculateUsdcValue = args.calculateUsdcValue\n",
    "thresholdAmount = args.thresholdAmount\n",
    "rule_name = args.rule_name\n",
    "finder_address = args.finder_address\n",
    "finder_tx = args.finder_tx"
   ]
  },
  {
   "cell_type": "code",
   "execution_count": 10,
   "id": "005ecbf8-91c9-402a-82f0-b0c436353b45",
   "metadata": {},
   "outputs": [],
   "source": [
    "def get_txs_time_period(_from, _to):\n",
    "    _df = None\n",
    "    timestamp = urllib.parse.quote(_from.strftime(\"%Y-%m-%d+%H:%M:%S\"),safe='+')\n",
    "    while True:\n",
    "        url = f\"\"\"\n",
    "        https://api.seer.coinhall.org/api/coinhall/swaps/{address}?offset={timestamp}.010646870&limit=15\n",
    "        \"\"\"\n",
    "        print(url)\n",
    "        # Send a GET request to the API\n",
    "        response = requests.get(url)\n",
    "    \n",
    "        time.sleep(1)\n",
    "        print(f\"Number of txs received: {len(response.json()['txs'])}\")\n",
    "        \n",
    "        new_df = pd.DataFrame(response.json()['txs'])\n",
    "        if _df is None:\n",
    "            _df = new_df\n",
    "        else:\n",
    "            _df = pd.concat([_df, new_df])\n",
    "        _df.timestamp = pd.to_datetime(_df.timestamp)\n",
    "        min_ts = _df.timestamp.min()\n",
    "        timestamp = urllib.parse.quote(min_ts.strftime(\"%Y-%m-%d+%H:%M:%S\"),safe='+')\n",
    "\n",
    "        if(min_ts.to_pydatetime().replace(tzinfo=None).strftime(\"%Y-%m-%d %H:%M:%S\") < _to.strftime(\"%Y-%m-%d %H:%M:%S\")):\n",
    "            break\n",
    "    return _df"
   ]
  },
  {
   "cell_type": "code",
   "execution_count": 11,
   "id": "b96a9751-a344-4d86-8002-53577cecb34b",
   "metadata": {},
   "outputs": [],
   "source": [
    "from datetime import datetime, timedelta\n",
    "\n",
    "current_date = datetime.now()\n",
    "_log = pd.DataFrame([(notifier_id, (current_date - timedelta(hours=1)).strftime('%Y-%m-%d %H:%M:%S.%f'))], columns=['notifier_id','last_parsing_date'])\n",
    "if log is None:\n",
    "    log = _log\n",
    "if not notifier_id in log['notifier_id'].tolist():\n",
    "    log = pd.concat([log,_log])"
   ]
  },
  {
   "cell_type": "code",
   "execution_count": 12,
   "id": "8fb00b06-976c-4848-b853-5ee5fc450641",
   "metadata": {},
   "outputs": [],
   "source": [
    "last_parsing_date = log[log.notifier_id == notifier_id].last_parsing_date.tolist()[0]\n",
    "last_parsing_date = datetime.strptime(last_parsing_date, '%Y-%m-%d %H:%M:%S.%f')"
   ]
  },
  {
   "cell_type": "code",
   "execution_count": 13,
   "id": "d15e8618-1f4f-435f-80c7-fcefb7c14621",
   "metadata": {},
   "outputs": [
    {
     "name": "stdout",
     "output_type": "stream",
     "text": [
      "Filling the upper gap from 2023-07-21 11:40:09 to 2023-07-21 10:40:09\n",
      "\n",
      "        https://api.seer.coinhall.org/api/coinhall/swaps/osmo1752ysawy2adr7td9an30a8pkk8ngrvcq3tan08lvnar3s7f82y5s4dt8fs?offset=2023-07-21+11%3A40%3A09.010646870&limit=15\n",
      "        \n",
      "Number of txs received: 15\n"
     ]
    }
   ],
   "source": [
    "print(f\"Filling the upper gap from {current_date.strftime('%Y-%m-%d %H:%M:%S')} to {last_parsing_date.strftime('%Y-%m-%d %H:%M:%S')}\")\n",
    "df = get_txs_time_period(current_date, last_parsing_date)"
   ]
  },
  {
   "cell_type": "code",
   "execution_count": 14,
   "id": "482a94d2-560b-4068-bf3e-7a66ff935220",
   "metadata": {},
   "outputs": [],
   "source": [
    "from pytz import UTC\n",
    "df = df[df.timestamp > pd.Timestamp(last_parsing_date, tz=UTC)]"
   ]
  },
  {
   "cell_type": "code",
   "execution_count": 15,
   "id": "e087660e-cf86-4156-9f08-07d78606752a",
   "metadata": {},
   "outputs": [],
   "source": [
    "assets = {\n",
    "    'ibc/B3504E092456BA618CC28AC671A71FB08C6CA0FD0BE7C8A5B5A3E2DD933CC9E4':'axlUSDC',\n",
    "    'ibc/295548A78785A1007F232DE286149A6FF512F180AF5657780FC89C009E2C348F':'axlUSDC',\n",
    "    'terra1nsuqsk6kh58ulczatwev87ttq2z6r3pusulg9r24mfj2fvtzd4uq3exn26':'ASTRO',\n",
    "    'ibc/27394FB092D2ECCD56123C74F36E4C1F926001CEADA9CA97EA622B25F41E5EB2': 'ATOM',\n",
    "    'ibc/573FCD90FACEE750F55A8864EF7D38265F07E5A9273FA0E8DAFD39951332B580':'MARS'\n",
    "}"
   ]
  },
  {
   "cell_type": "code",
   "execution_count": 16,
   "id": "3ac04ad6-1113-47a3-893e-97a5328fd212",
   "metadata": {},
   "outputs": [],
   "source": [
    "df = df.drop_duplicates(ignore_index=True)\n",
    "df.returnAsset = df.returnAsset.replace(assets)\n",
    "df.offerAsset = df.offerAsset.replace(assets)"
   ]
  },
  {
   "cell_type": "code",
   "execution_count": 17,
   "id": "f969175b-920a-4d46-bc92-b67c68ec2507",
   "metadata": {},
   "outputs": [],
   "source": [
    "df['date'] = df.timestamp.apply(lambda x: x.strftime(\"%Y-%m-%d\"))"
   ]
  },
  {
   "cell_type": "code",
   "execution_count": 18,
   "id": "3325b022-ebc7-483c-87cb-7c0df49e6bda",
   "metadata": {},
   "outputs": [
    {
     "name": "stdout",
     "output_type": "stream",
     "text": [
      "Calculating USDC value...\n",
      "Buying amount...\n"
     ]
    }
   ],
   "source": [
    "if(calculateUsdcValue):\n",
    "    print(\"Calculating USDC value...\")\n",
    "    if(buying):\n",
    "        print(\"Buying amount...\")\n",
    "        df['targetAmount'] = df['offerAmount'] * df['offerAssetUsdPrice']\n",
    "    else:\n",
    "        print(\"Selling amount...\")\n",
    "        df['targetAmount'] = df['returnAmount'] * df['returnAssetUsdPrice']\n",
    "else:\n",
    "    print(\"Not calculating USDC value...\")\n",
    "    if(buying):\n",
    "        print(\"Buying amount...\")\n",
    "        df['targetAmount'] = df.offerAmount\n",
    "    else :\n",
    "        print(\"Selling amount...\")\n",
    "        df['targetAmount'] = df.returnAmount"
   ]
  },
  {
   "cell_type": "code",
   "execution_count": 19,
   "id": "810c6ee3-8570-4deb-b2de-60a903b8ff6e",
   "metadata": {},
   "outputs": [],
   "source": [
    "if(buying):\n",
    "    txs_to_notify = df[(df.targetAmount > thresholdAmount) & (df.offerAsset == varOfferAsset)]\n",
    "else:\n",
    "    txs_to_notify = df[(df.targetAmount > thresholdAmount) & (df.returnAsset == varReturnAsset)]"
   ]
  },
  {
   "cell_type": "code",
   "execution_count": 20,
   "id": "39876ab6-027b-4f2a-a761-1dfd76eab10e",
   "metadata": {},
   "outputs": [],
   "source": [
    "def shortAddress(address):\n",
    "    return address[:7] + \"...\" + address[-6:]"
   ]
  },
  {
   "cell_type": "markdown",
   "id": "c223c0c7-f524-40b0-b70d-c89fe254fb5e",
   "metadata": {},
   "source": [
    "### Create Telegram Messages"
   ]
  },
  {
   "cell_type": "code",
   "execution_count": 23,
   "id": "001d88bc-6f78-4d50-b6ce-e6724f0ef2d9",
   "metadata": {},
   "outputs": [],
   "source": [
    "messages = []\n",
    "swap_msg = ''\n",
    "for i, row in txs_to_notify.iterrows():\n",
    "    if(calculateUsdcValue):\n",
    "        if(buying):\n",
    "            swap_msg = f\"\"\"Swapped {round(row.targetAmount, 2)} $USDC for ${token_name}\"\"\"\n",
    "        else:\n",
    "            swap_msg = f\"\"\"Swapped ${token_name} for $USDC for {round(row.targetAmount, 2)} $USDC\"\"\"\n",
    "    if(not calculateUsdcValue):\n",
    "        if(buying):\n",
    "            swap_msg = f\"\"\"Swapped {round(row.targetAmount, 2)} ${row.offerAsset} for ${token_name}\"\"\"\n",
    "        else:\n",
    "            swap_msg = f\"\"\"Swapped ${token_name} for {round(row.targetAmount, 2)} ${varReturnAsset}\"\"\"\n",
    "    messages.append(f\"\"\"\n",
    "*{rule_name}*\n",
    "\n",
    "{swap_msg}\n",
    "Trader: [{shortAddress(row.traderAddress)}]({finder_address}{row.traderAddress})\n",
    "Tx: [{shortAddress(row.txHash)}]({finder_tx}{row.txHash})\n",
    "\"\"\".replace(\".\",\"\\.\"))"
   ]
  },
  {
   "cell_type": "markdown",
   "id": "aac9298a-e677-4e6b-a2ac-ada9b5e46053",
   "metadata": {},
   "source": [
    "### Send Messages"
   ]
  },
  {
   "cell_type": "code",
   "execution_count": 24,
   "id": "dd7b5294-fa42-4e30-90fe-f3b389b2c9d6",
   "metadata": {},
   "outputs": [],
   "source": [
    "import os\n",
    "bot_token = os.getenv('BOT_TOKEN')"
   ]
  },
  {
   "cell_type": "code",
   "execution_count": 25,
   "id": "76b14bc7-e877-4e64-8580-e5900408d31f",
   "metadata": {},
   "outputs": [],
   "source": [
    "import telegram\n",
    "from telegram.constants import ParseMode\n",
    "bot = telegram.Bot(token=bot_token)"
   ]
  },
  {
   "cell_type": "code",
   "execution_count": 26,
   "id": "6406e065-8fdc-41b0-b8cb-c1efa7f83ff3",
   "metadata": {},
   "outputs": [
    {
     "name": "stdout",
     "output_type": "stream",
     "text": [
      "['\\n*Buy MARS*\\n\\nSwapped 5\\\\.17 $USDC for $MARS\\nTrader: [osmo1ds\\\\.\\\\.\\\\.ugyy2e](https://chainsco\\\\.pe/osmosis/address/osmo1dsnfjekjj23vtuemd8as5jmtf99ql5yhugyy2e)\\nTx: [978E502\\\\.\\\\.\\\\.ABE67B](https://chainsco\\\\.pe/osmosis/tx/978E5028AE54135841BFDF8226DDAF76A3C9FB6E18D465BC92C67D5B4AABE67B)\\n']\n"
     ]
    }
   ],
   "source": [
    "print(messages)"
   ]
  },
  {
   "cell_type": "code",
   "execution_count": 27,
   "id": "8a98cd59-7507-40c0-9b3d-dfb616cc22b6",
   "metadata": {},
   "outputs": [],
   "source": [
    "import asyncio\n",
    "\n",
    "async def main():\n",
    "    try:\n",
    "        await bot.initialize()\n",
    "        for message in messages:\n",
    "            await bot.send_message(92383009, message, parse_mode=ParseMode.MARKDOWN_V2)\n",
    "    finally:\n",
    "        await bot.shutdown()\n",
    "\n",
    "# Create an event loop and run the main coroutine function\n",
    "loop = asyncio.get_event_loop()\n",
    "loop.run_until_complete(main())"
   ]
  },
  {
   "cell_type": "markdown",
   "id": "8fae6bd3-13ba-4850-b7af-a57718dd725e",
   "metadata": {},
   "source": [
    "### Update logging file"
   ]
  },
  {
   "cell_type": "code",
   "execution_count": 247,
   "id": "ceb722fd-0f31-4eed-8a8f-93d79d6322b2",
   "metadata": {},
   "outputs": [],
   "source": [
    "_last_parsing_date = df.timestamp.max().to_pydatetime().replace(tzinfo=None)\n",
    "last_parsing_date = _last_parsing_date if len(df) > 0 else current_date"
   ]
  },
  {
   "cell_type": "code",
   "execution_count": 28,
   "id": "b81c63b5-cc02-4ab9-b397-61a42c7f6554",
   "metadata": {},
   "outputs": [],
   "source": [
    "def update_log(notifier_id, last_parsing_date):\n",
    "    log.loc[log.notifier_id == notifier_id, 'last_parsing_date'] = last_parsing_date\n",
    "    log.to_csv(f\"./notifier_logging.csv\", index=False)"
   ]
  },
  {
   "cell_type": "code",
   "execution_count": 29,
   "id": "e388b51d-5fc1-47ff-8ecd-3d354d1d8662",
   "metadata": {},
   "outputs": [],
   "source": [
    "update_log(notifier_id, last_parsing_date)"
   ]
  }
 ],
 "metadata": {
  "kernelspec": {
   "display_name": "Python 3 (ipykernel)",
   "language": "python",
   "name": "python3"
  },
  "language_info": {
   "codemirror_mode": {
    "name": "ipython",
    "version": 3
   },
   "file_extension": ".py",
   "mimetype": "text/x-python",
   "name": "python",
   "nbconvert_exporter": "python",
   "pygments_lexer": "ipython3",
   "version": "3.9.17"
  }
 },
 "nbformat": 4,
 "nbformat_minor": 5
}
